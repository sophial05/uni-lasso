{
 "cells": [
  {
   "cell_type": "markdown",
   "metadata": {},
   "source": [
    "# Fitting `UniLasso` for specified regularization path"
   ]
  },
  {
   "cell_type": "code",
   "execution_count": 1,
   "metadata": {},
   "outputs": [],
   "source": [
    "from unilasso import *"
   ]
  },
  {
   "cell_type": "markdown",
   "metadata": {},
   "source": [
    "## Linear Regression Example"
   ]
  },
  {
   "cell_type": "markdown",
   "metadata": {},
   "source": [
    "Let's first simulate some data using the included simulation script provided by the package.\n",
    "\n",
    "Then we fit UniLasso for specified regularization path, `0.01, 0.02, 0.1, 0.2` (ordering does not matter)."
   ]
  },
  {
   "cell_type": "code",
   "execution_count": 2,
   "metadata": {},
   "outputs": [
    {
     "name": "stderr",
     "output_type": "stream",
     "text": [
      " 75%|          | 0/4 [00:00:00<?, ?it/s]███████   | 3/4 [00:00:00<00:00:00, 241.68it/s] [dev:93.6%]\n"
     ]
    },
    {
     "data": {
      "text/html": [
       "<p style=\"color:red; font-weight:bold;\"> Warning: The following regularization strengths were removed: [0.01]</p>"
      ],
      "text/plain": [
       "<IPython.core.display.HTML object>"
      ]
     },
     "metadata": {},
     "output_type": "display_data"
    }
   ],
   "source": [
    "X, y = simulate_gaussian_data(n=1000, p=100)\n",
    "gaussian_fit = fit_unilasso(X, \n",
    "                            y, \n",
    "                            family = 'gaussian',\n",
    "                            lmdas = [0.01, 0.02, 0.1, 0.2] # Regularization parameters for Lasso\n",
    "                            )"
   ]
  },
  {
   "cell_type": "markdown",
   "metadata": {},
   "source": [
    "We should print out the regularization path to see for which parameters the `UniLasso` model was run."
   ]
  },
  {
   "cell_type": "code",
   "execution_count": 20,
   "metadata": {},
   "outputs": [
    {
     "name": "stdout",
     "output_type": "stream",
     "text": [
      "[0.01 0.02 0.1 ]\n"
     ]
    }
   ],
   "source": [
    "print(gaussian_fit.lmdas)"
   ]
  },
  {
   "cell_type": "markdown",
   "metadata": {},
   "source": [
    "Now, we can extract the returned coefficients and intercepts and print their shapes."
   ]
  },
  {
   "cell_type": "code",
   "execution_count": 4,
   "metadata": {},
   "outputs": [
    {
     "name": "stdout",
     "output_type": "stream",
     "text": [
      "(3, 100)\n",
      "(3,)\n"
     ]
    }
   ],
   "source": [
    "coef, intercept = gaussian_fit.coef, gaussian_fit.intercept\n",
    "\n",
    "print(coef.shape)\n",
    "print(intercept.shape)"
   ]
  },
  {
   "cell_type": "markdown",
   "metadata": {},
   "source": [
    "`coef[0, :]` correpsonds to the coefficients for $\\lambda = 0.02$."
   ]
  },
  {
   "cell_type": "code",
   "execution_count": 5,
   "metadata": {},
   "outputs": [
    {
     "data": {
      "text/plain": [
       "array([ 0.66579526,  0.67460983, -0.        , -0.        , -0.19721012,\n",
       "       -0.70276175, -0.        , -0.42680013,  0.88179805,  0.67907664,\n",
       "       -1.00306718, -0.79428954,  0.18028946, -0.18482984, -0.27164347,\n",
       "       -0.4041868 , -0.11219333, -0.77152331,  0.72052907,  1.00965409,\n",
       "        0.61984656, -0.14676204, -0.12091868, -0.61590974,  0.05131608,\n",
       "       -0.        ,  0.24834606, -0.57584812, -0.        , -0.78243392,\n",
       "       -0.42383923, -0.64877422, -0.        ,  0.        , -0.35213658,\n",
       "        0.94507309, -0.22299865,  0.91515576,  0.72140874, -0.81134539,\n",
       "        0.7687356 , -0.87124858, -0.88012611, -0.33157313, -0.55172976,\n",
       "        0.96306458, -0.        ,  0.44079537, -0.93858892,  1.06341302,\n",
       "       -0.1017729 ,  0.78126621,  0.66390944, -0.10359867, -0.35974745,\n",
       "        0.24544902, -0.40468968,  0.85360656,  0.33495956,  0.81315406,\n",
       "       -0.        , -0.62832793,  0.77378648, -0.36070321, -0.05061684,\n",
       "        0.        , -0.51010349, -0.9639014 ,  0.73083067, -0.33071171,\n",
       "       -1.07551054, -0.        , -0.33778916,  0.79510376,  1.03963517,\n",
       "        0.14003163, -0.42202597, -0.10781118,  1.0970223 ,  0.84320632,\n",
       "       -0.        , -0.        , -0.        , -0.0081743 , -0.        ,\n",
       "       -0.31351857, -0.        ,  0.38286118, -0.8292151 , -0.49934072,\n",
       "       -0.32909219, -0.        ,  0.81238689,  0.        , -0.3649079 ,\n",
       "       -0.88471521, -0.64407298, -0.33466169, -0.73803784,  0.        ])"
      ]
     },
     "execution_count": 5,
     "metadata": {},
     "output_type": "execute_result"
    }
   ],
   "source": [
    "coef[0, ]"
   ]
  },
  {
   "cell_type": "markdown",
   "metadata": {},
   "source": [
    "### One regularization parameter"
   ]
  },
  {
   "cell_type": "markdown",
   "metadata": {},
   "source": [
    "We can also input only one regularization parameter:"
   ]
  },
  {
   "cell_type": "code",
   "execution_count": 6,
   "metadata": {},
   "outputs": [
    {
     "name": "stderr",
     "output_type": "stream",
     "text": [
      "100%|          | 0/1 [00:00:00<?, ?it/s]██████████| 1/1 [00:00:00<00:00:00, 743.45it/s] [dev:67.5%]██████████| 1/1 [00:00:00<00:00:00, 208.50it/s] [dev:67.5%]\n"
     ]
    },
    {
     "data": {
      "text/html": [
       "\n",
       "\n",
       "<b> --- UniLasso Results --- </b>"
      ],
      "text/plain": [
       "<IPython.core.display.HTML object>"
      ]
     },
     "metadata": {},
     "output_type": "display_data"
    },
    {
     "name": "stdout",
     "output_type": "stream",
     "text": [
      "Number of Selected Features: [50]\n",
      "Regularization path (rounded to 3 decimal places): [0.2]\n"
     ]
    }
   ],
   "source": [
    "gaussian_fit_one_lmda = fit_unilasso(X, y, family = 'gaussian', lmdas = 0.2, verbose = True)"
   ]
  },
  {
   "cell_type": "markdown",
   "metadata": {},
   "source": [
    "## Logistic Regression Example"
   ]
  },
  {
   "cell_type": "markdown",
   "metadata": {},
   "source": [
    "Now we run an example logistic regression model using `UniLasso`. We set `verbose = True` to print out some summary information of the model."
   ]
  },
  {
   "cell_type": "code",
   "execution_count": 7,
   "metadata": {},
   "outputs": [
    {
     "name": "stderr",
     "output_type": "stream",
     "text": [
      "100%|          | 0/1 [00:00:00<?, ?it/s]██████████| 1/1 [00:00:00<00:00:00, 16.73it/s] [dev:4.1%]██████████| 1/1 [00:00:00<00:00:00, 13.02it/s] [dev:4.1%]\n",
      "100%|          | 0/1 [00:00:00<?, ?it/s]██████████| 1/1 [00:00:00<00:00:00, 1194.62it/s] [dev:6.2%]██████████| 1/1 [00:00:00<00:00:00, 92.42it/s] [dev:6.2%]  \n",
      "100%|          | 0/1 [00:00:00<?, ?it/s]██████████| 1/1 [00:00:00<00:00:00, 1043.43it/s] [dev:7.6%]██████████| 1/1 [00:00:00<00:00:00, 166.11it/s] [dev:7.6%] \n",
      "100%|          | 0/1 [00:00:00<?, ?it/s]██████████| 1/1 [00:00:00<00:00:00, 1145.75it/s] [dev:1.2%]██████████| 1/1 [00:00:00<00:00:00, 164.35it/s] [dev:1.2%] \n",
      "100%|          | 0/1 [00:00:00<?, ?it/s]██████████| 1/1 [00:00:00<00:00:00, 1077.15it/s] [dev:5.0%]██████████| 1/1 [00:00:00<00:00:00, 161.34it/s] [dev:5.0%] \n",
      "100%|          | 0/1 [00:00:00<?, ?it/s]██████████| 1/1 [00:00:00<00:00:00, 1108.54it/s] [dev:0.1%]██████████| 1/1 [00:00:00<00:00:00, 165.66it/s] [dev:0.1%] \n",
      "100%|          | 0/1 [00:00:00<?, ?it/s]██████████| 1/1 [00:00:00<00:00:00, 1086.56it/s] [dev:1.6%]██████████| 1/1 [00:00:00<00:00:00, 180.29it/s] [dev:1.6%] \n",
      "100%|          | 0/1 [00:00:00<?, ?it/s]██████████| 1/1 [00:00:00<00:00:00, 1332.45it/s] [dev:0.4%]██████████| 1/1 [00:00:00<00:00:00, 249.67it/s] [dev:0.4%] \n",
      "100%|          | 0/1 [00:00:00<?, ?it/s]██████████| 1/1 [00:00:00<00:00:00, 1284.80it/s] [dev:0.7%]██████████| 1/1 [00:00:00<00:00:00, 233.58it/s] [dev:0.7%] \n",
      "100%|          | 0/1 [00:00:00<?, ?it/s]██████████| 1/1 [00:00:00<00:00:00, 1374.89it/s] [dev:1.3%]██████████| 1/1 [00:00:00<00:00:00, 232.22it/s] [dev:1.3%] \n",
      "100%|          | 0/4 [00:00:00<?, ?it/s]██████████| 4/4 [00:00:00<00:00:00, 2602.26it/s] [dev:27.0%]██████████| 4/4 [00:00:00<00:00:00, 609.02it/s] [dev:27.0%] \n"
     ]
    },
    {
     "data": {
      "text/html": [
       "\n",
       "\n",
       "<b> --- UniLasso Results --- </b>"
      ],
      "text/plain": [
       "<IPython.core.display.HTML object>"
      ]
     },
     "metadata": {},
     "output_type": "display_data"
    },
    {
     "name": "stdout",
     "output_type": "stream",
     "text": [
      "Number of Selected Features: [7 4 1 0]\n",
      "Regularization path (rounded to 3 decimal places): [0.01 0.02 0.1  0.2 ]\n"
     ]
    }
   ],
   "source": [
    "X, y = simulate_binomial_data(n=1000, p=10)\n",
    "\n",
    "binomial_fit = fit_unilasso(X,\n",
    "                            y,\n",
    "                            family = 'binomial',\n",
    "                            lmdas = [0.01, 0.02, 0.1, 0.2], # Regularization parameters for Lasso\n",
    "                            verbose = True\n",
    "                            )"
   ]
  },
  {
   "cell_type": "code",
   "execution_count": 8,
   "metadata": {},
   "outputs": [
    {
     "data": {
      "text/plain": [
       "array([0.01, 0.02, 0.1 , 0.2 ])"
      ]
     },
     "execution_count": 8,
     "metadata": {},
     "output_type": "execute_result"
    }
   ],
   "source": [
    "binomial_fit.lmdas"
   ]
  },
  {
   "cell_type": "markdown",
   "metadata": {},
   "source": [
    "## Survival Analysis Example"
   ]
  },
  {
   "cell_type": "code",
   "execution_count": 9,
   "metadata": {},
   "outputs": [
    {
     "name": "stderr",
     "output_type": "stream",
     "text": [
      "100%|          | 0/1 [00:00:00<?, ?it/s]██████████| 1/1 [00:00:00<00:00:00, 83.84it/s] [dev:1.0%]██████████| 1/1 [00:00:00<00:00:00, 43.34it/s] [dev:1.0%]\n",
      "100%|          | 0/1 [00:00:00<?, ?it/s]██████████| 1/1 [00:00:00<00:00:00, 1241.92it/s] [dev:0.0%]██████████| 1/1 [00:00:00<00:00:00, 189.18it/s] [dev:0.0%] \n",
      "100%|          | 0/1 [00:00:00<?, ?it/s]██████████| 1/1 [00:00:00<00:00:00, 1111.68it/s] [dev:1.5%]██████████| 1/1 [00:00:00<00:00:00, 207.67it/s] [dev:1.5%] \n",
      "100%|          | 0/1 [00:00:00<?, ?it/s]██████████| 1/1 [00:00:00<00:00:00, 1386.96it/s] [dev:2.5%]██████████| 1/1 [00:00:00<00:00:00, 231.24it/s] [dev:2.5%] \n",
      "100%|          | 0/1 [00:00:00<?, ?it/s]██████████| 1/1 [00:00:00<00:00:00, 1920.61it/s] [dev:0.4%]██████████| 1/1 [00:00:00<00:00:00, 254.30it/s] [dev:0.4%] \n",
      "100%|          | 0/1 [00:00:00<?, ?it/s]██████████| 1/1 [00:00:00<00:00:00, 1174.51it/s] [dev:0.0%]██████████| 1/1 [00:00:00<00:00:00, 221.40it/s] [dev:0.0%] \n",
      "100%|          | 0/1 [00:00:00<?, ?it/s]██████████| 1/1 [00:00:00<00:00:00, 1009.80it/s] [dev:0.4%]██████████| 1/1 [00:00:00<00:00:00, 183.17it/s] [dev:0.4%] \n",
      "100%|          | 0/1 [00:00:00<?, ?it/s]██████████| 1/1 [00:00:00<00:00:00, 1409.61it/s] [dev:0.0%]██████████| 1/1 [00:00:00<00:00:00, 269.42it/s] [dev:0.0%] \n",
      "100%|          | 0/1 [00:00:00<?, ?it/s]██████████| 1/1 [00:00:00<00:00:00, 1494.30it/s] [dev:0.7%]██████████| 1/1 [00:00:00<00:00:00, 283.10it/s] [dev:0.7%] \n",
      "100%|          | 0/1 [00:00:00<?, ?it/s]██████████| 1/1 [00:00:00<00:00:00, 1193.97it/s] [dev:0.3%]██████████| 1/1 [00:00:00<00:00:00, 243.98it/s] [dev:0.3%] \n",
      "100%|          | 0/4 [00:00:00<?, ?it/s]██████████| 4/4 [00:00:00<00:00:00, 2001.58it/s] [dev:9.6%]██████████| 4/4 [00:00:00<00:00:00, 724.83it/s] [dev:9.6%] \n"
     ]
    },
    {
     "data": {
      "text/html": [
       "\n",
       "\n",
       "<b> --- UniLasso Results --- </b>"
      ],
      "text/plain": [
       "<IPython.core.display.HTML object>"
      ]
     },
     "metadata": {},
     "output_type": "display_data"
    },
    {
     "name": "stdout",
     "output_type": "stream",
     "text": [
      "Number of Selected Features: [7 7 2 0]\n",
      "Regularization path (rounded to 3 decimal places): [0.01 0.02 0.1  0.2 ]\n"
     ]
    }
   ],
   "source": [
    "X, y = simulate_cox_data(n=1000, p=10)\n",
    "\n",
    "cox_fit = fit_unilasso(X,\n",
    "                       y,\n",
    "                       family = 'cox',\n",
    "                       lmdas = [0.01, 0.02, 0.1, 0.2], # Regularization parameters for Lasso\n",
    "                       verbose = True\n",
    "                       )"
   ]
  },
  {
   "cell_type": "markdown",
   "metadata": {},
   "source": [
    "# Cross-validated `UniLasso`"
   ]
  },
  {
   "cell_type": "markdown",
   "metadata": {},
   "source": [
    "If we don't have a prespecified list of regularization path or regularization parameter, we can perform cross-validation to select a penalization parameter for us. We again begin by simulating some Gaussian data."
   ]
  },
  {
   "cell_type": "code",
   "execution_count": 10,
   "metadata": {},
   "outputs": [],
   "source": [
    "X, y = simulate_gaussian_data(n=1000, p=10)"
   ]
  },
  {
   "cell_type": "code",
   "execution_count": 11,
   "metadata": {},
   "outputs": [
    {
     "name": "stderr",
     "output_type": "stream",
     "text": [
      "100%|          | 0/100 [00:00:00<?, ?it/s]██████████| 100/100 [00:00:00<00:00:00, 63126.33it/s] [dev:63.2%]██████████| 100/100 [00:00:00<00:00:00, 23752.73it/s] [dev:63.2%]\n",
      "100%|          | 0/101 [00:00:00<?, ?it/s]██████████| 101/101 [00:00:00<00:00:00, 70348.57it/s] [dev:64.1%]██████████| 101/101 [00:00:00<00:00:00, 27177.93it/s] [dev:64.1%]\n",
      "100%|          | 0/101 [00:00:00<?, ?it/s]██████████| 101/101 [00:00:00<00:00:00, 77894.53it/s] [dev:65.1%]██████████| 101/101 [00:00:00<00:00:00, 30001.11it/s] [dev:65.1%]\n",
      "100%|          | 0/102 [00:00:00<?, ?it/s]██████████| 102/102 [00:00:00<00:00:00, 79072.34it/s] [dev:65.3%]██████████| 102/102 [00:00:00<00:00:00, 31826.93it/s] [dev:65.3%]\n",
      "100%|          | 0/100 [00:00:00<?, ?it/s]██████████| 100/100 [00:00:00<00:00:00, 83452.18it/s] [dev:65.8%]██████████| 100/100 [00:00:00<00:00:00, 29843.33it/s] [dev:65.8%]\n",
      "100%|          | 0/100 [00:00:00<?, ?it/s]██████████| 100/100 [00:00:00<00:00:00, 75301.20it/s] [dev:64.7%]██████████| 100/100 [00:00:00<00:00:00, 28093.50it/s] [dev:64.7%]\n"
     ]
    },
    {
     "data": {
      "text/html": [
       "\n",
       "\n",
       "<b> --- UniLasso Results --- </b>"
      ],
      "text/plain": [
       "<IPython.core.display.HTML object>"
      ]
     },
     "metadata": {},
     "output_type": "display_data"
    },
    {
     "name": "stdout",
     "output_type": "stream",
     "text": [
      "Number of Selected Features: [0 1 1 1 1 1 1 1 1 1 1 1 1 1 1 1 1 1 1 3 3 3 3 3 3 3 3 3 3 3 3 3 3 3 3 3 3\n",
      " 3 3 3 3 3 3 3 3 3 3 3 3 3 3 3 3 3 3 3 3 3 3 3 3 3 3 3 3 3 3 3 3 3 3 3 3 3\n",
      " 3 3 3 3 3 3 3 3 3 3 3 3 3 3 3 3 4 4 4 4 4 4 4 4 4 4]\n",
      "Regularization path (rounded to 3 decimal places): [0.975 0.953 0.931 0.909 0.889 0.868 0.848 0.829 0.81  0.791 0.773 0.755\n",
      " 0.738 0.721 0.704 0.688 0.672 0.657 0.642 0.627 0.612 0.598 0.585 0.571\n",
      " 0.558 0.545 0.533 0.52  0.508 0.497 0.485 0.474 0.463 0.453 0.442 0.432\n",
      " 0.422 0.412 0.403 0.394 0.385 0.376 0.367 0.359 0.35  0.342 0.335 0.327\n",
      " 0.319 0.312 0.305 0.298 0.291 0.284 0.278 0.271 0.265 0.259 0.253 0.247\n",
      " 0.242 0.236 0.231 0.225 0.22  0.215 0.21  0.205 0.201 0.196 0.191 0.187\n",
      " 0.183 0.179 0.174 0.17  0.166 0.163 0.159 0.155 0.152 0.148 0.145 0.141\n",
      " 0.138 0.135 0.132 0.129 0.126 0.123 0.12  0.117 0.115 0.112 0.11  0.107\n",
      " 0.105 0.102 0.1   0.098]\n",
      "Best Regularization Parameter: 0.0975190714943342\n"
     ]
    }
   ],
   "source": [
    "cv_fit = cv_unilasso(X,\n",
    "                     y,\n",
    "                     family = 'gaussian',\n",
    "                     verbose = True\n",
    "                     )"
   ]
  },
  {
   "cell_type": "markdown",
   "metadata": {},
   "source": [
    "Now, we can extract the best $\\lambda$."
   ]
  },
  {
   "cell_type": "code",
   "execution_count": 12,
   "metadata": {},
   "outputs": [
    {
     "name": "stdout",
     "output_type": "stream",
     "text": [
      "0.0975190714943342\n"
     ]
    }
   ],
   "source": [
    "best_lmda = cv_fit.best_lmda\n",
    "print(best_lmda)"
   ]
  },
  {
   "cell_type": "code",
   "execution_count": 13,
   "metadata": {},
   "outputs": [
    {
     "data": {
      "text/plain": [
       "array([0.90071616, 0.        , 0.        , 0.89513334, 0.        ,\n",
       "       0.        , 0.82058798, 0.        , 0.        , 0.21322864])"
      ]
     },
     "execution_count": 13,
     "metadata": {},
     "output_type": "execute_result"
    }
   ],
   "source": [
    "cv_fit.lasso_model.betas.toarray()[cv_fit.best_idx]"
   ]
  },
  {
   "cell_type": "markdown",
   "metadata": {},
   "source": [
    "We can also extract the coefficients and intercept corresponding to the best model as follows:"
   ]
  },
  {
   "cell_type": "code",
   "execution_count": 16,
   "metadata": {},
   "outputs": [
    {
     "name": "stdout",
     "output_type": "stream",
     "text": [
      "0.08036158010726613\n"
     ]
    }
   ],
   "source": [
    "best_coef, best_intercept = cv_fit.coef[cv_fit.best_idx, ], cv_fit.intercept[cv_fit.best_idx]\n",
    "\n",
    "print(best_intercept)"
   ]
  },
  {
   "cell_type": "markdown",
   "metadata": {},
   "source": [
    "Let's visualize the average CV loss."
   ]
  },
  {
   "cell_type": "code",
   "execution_count": 15,
   "metadata": {},
   "outputs": [
    {
     "data": {
      "text/plain": [
       "(<Figure size 900x600 with 1 Axes>,\n",
       " <Axes: title={'center': 'K-Fold CV Mean Loss'}, xlabel='$-\\\\log(\\\\lambda)$', ylabel='Mean Loss'>)"
      ]
     },
     "execution_count": 15,
     "metadata": {},
     "output_type": "execute_result"
    },
    {
     "data": {
      "image/png": "[encoded data removed]",
      "text/plain": [
       "<Figure size 900x600 with 1 Axes>"
      ]
     },
     "metadata": {},
     "output_type": "display_data"
    }
   ],
   "source": [
    "cv_fit.cv_plot()"
   ]
  },
  {
   "cell_type": "markdown",
   "metadata": {},
   "source": [
    "## Features with zero variance will be removed automatically"
   ]
  },
  {
   "cell_type": "markdown",
   "metadata": {},
   "source": [
    "If any column of our input data has zero variance, it will be removed by default."
   ]
  },
  {
   "cell_type": "code",
   "execution_count": null,
   "metadata": {},
   "outputs": [
    {
     "data": {
      "text/html": [
       "<p style=\"color:red; font-weight:bold;\"> 1 out of 10 features have zero variance and will be removed.</p>"
      ],
      "text/plain": [
       "<IPython.core.display.HTML object>"
      ]
     },
     "metadata": {},
     "output_type": "display_data"
    },
    {
     "name": "stderr",
     "output_type": "stream",
     "text": [
      "100%|          | 0/1 [00:00:00<?, ?it/s]██████████| 1/1 [00:00:00<00:00:00, 187.22it/s] [dev:0.4%]██████████| 1/1 [00:00:00<00:00:00, 10.47it/s] [dev:0.4%] \n",
      "100%|          | 0/1 [00:00:00<?, ?it/s]██████████| 1/1 [00:00:00<00:00:00, 1139.06it/s] [dev:2.6%]██████████| 1/1 [00:00:00<00:00:00, 143.43it/s] [dev:2.6%] \n",
      "100%|          | 0/1 [00:00:00<?, ?it/s]██████████| 1/1 [00:00:00<00:00:00, 1120.76it/s] [dev:4.2%]██████████| 1/1 [00:00:00<00:00:00, 172.14it/s] [dev:4.2%] \n",
      "100%|          | 0/1 [00:00:00<?, ?it/s]██████████| 1/1 [00:00:00<00:00:00, 1286.45it/s] [dev:2.7%]██████████| 1/1 [00:00:00<00:00:00, 176.71it/s] [dev:2.7%] \n",
      "100%|          | 0/1 [00:00:00<?, ?it/s]██████████| 1/1 [00:00:00<00:00:00, 1209.13it/s] [dev:2.0%]██████████| 1/1 [00:00:00<00:00:00, 159.52it/s] [dev:2.0%] \n",
      "100%|          | 0/1 [00:00:00<?, ?it/s]██████████| 1/1 [00:00:00<00:00:00, 1133.52it/s] [dev:1.6%]██████████| 1/1 [00:00:00<00:00:00, 171.11it/s] [dev:1.6%] \n",
      "100%|          | 0/1 [00:00:00<?, ?it/s]██████████| 1/1 [00:00:00<00:00:00, 1104.67it/s] [dev:0.9%]██████████| 1/1 [00:00:00<00:00:00, 175.02it/s] [dev:0.9%] \n",
      "100%|          | 0/1 [00:00:00<?, ?it/s]██████████| 1/1 [00:00:00<00:00:00, 1161.67it/s] [dev:2.9%]██████████| 1/1 [00:00:00<00:00:00, 170.12it/s] [dev:2.9%] \n",
      "100%|          | 0/1 [00:00:00<?, ?it/s]██████████| 1/1 [00:00:00<00:00:00, 1089.03it/s] [dev:1.2%]██████████| 1/1 [00:00:00<00:00:00, 175.41it/s] [dev:1.2%] \n",
      "100%|          | 0/4 [00:00:00<?, ?it/s]██████████| 4/4 [00:00:00<00:00:00, 3364.64it/s] [dev:13.7%]██████████| 4/4 [00:00:00<00:00:00, 952.12it/s] [dev:13.7%] \n"
     ]
    },
    {
     "data": {
      "text/html": [
       "\n",
       "\n",
       "<b> --- UniLasso Results --- </b>"
      ],
      "text/plain": [
       "<IPython.core.display.HTML object>"
      ]
     },
     "metadata": {},
     "output_type": "display_data"
    },
    {
     "name": "stdout",
     "output_type": "stream",
     "text": [
      "Number of Selected Features: [7 5 0 0]\n",
      "Regularization path (rounded to 3 decimal places): [0.01 0.02 0.1  0.2 ]\n"
     ]
    }
   ],
   "source": [
    "X, y = simulate_binomial_data(n=1000, p=10)\n",
    "\n",
    "# Make the first column zero variance\n",
    "X[:, 0] = 1\n",
    "zero_var_fit = fit_unilasso(X,\n",
    "                            y,\n",
    "                            family = 'binomial',\n",
    "                            lmdas = [0.01, 0.02, 0.1, 0.2], \n",
    "                            verbose = True\n",
    "                            )"
   ]
  },
  {
   "cell_type": "markdown",
   "metadata": {},
   "source": [
    "Note that the corresponding coefficient for the first column is 0 across regularization parameters."
   ]
  },
  {
   "cell_type": "code",
   "execution_count": null,
   "metadata": {},
   "outputs": [
    {
     "name": "stdout",
     "output_type": "stream",
     "text": [
      "[0. 0. 0. 0.]\n"
     ]
    }
   ],
   "source": [
    "print(zero_var_fit.coef[:, 0])"
   ]
  }
 ],
 "metadata": {
  "kernelspec": {
   "display_name": "test_env",
   "language": "python",
   "name": "python3"
  },
  "language_info": {
   "codemirror_mode": {
    "name": "ipython",
    "version": 3
   },
   "file_extension": ".py",
   "mimetype": "text/x-python",
   "name": "python",
   "nbconvert_exporter": "python",
   "pygments_lexer": "ipython3",
   "version": "3.9.13"
  }
 },
 "nbformat": 4,
 "nbformat_minor": 2
}
