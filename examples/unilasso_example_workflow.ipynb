{
 "cells": [
  {
   "cell_type": "markdown",
   "metadata": {},
   "source": [
    "# Fitting `UniLasso` for specified regularization path"
   ]
  },
  {
   "cell_type": "code",
   "execution_count": 1,
   "metadata": {},
   "outputs": [],
   "source": [
    "from unilasso import *"
   ]
  },
  {
   "cell_type": "markdown",
   "metadata": {},
   "source": [
    "## Linear Regression Example"
   ]
  },
  {
   "cell_type": "markdown",
   "metadata": {},
   "source": [
    "Let's first simulate some data using the included simulation script provided by the package.\n",
    "\n",
    "Then we fit UniLasso for specified regularization path, `0.01, 0.02, 0.1, 0.2` (ordering does not matter)."
   ]
  },
  {
   "cell_type": "code",
   "execution_count": 2,
   "metadata": {},
   "outputs": [
    {
     "name": "stderr",
     "output_type": "stream",
     "text": [
      " 83%|          | 0/6 [00:00:00<?, ?it/s]████████  | 5/6 [00:00:00<00:00:00, 2789.01it/s] [dev:93.1%]\n"
     ]
    },
    {
     "data": {
      "text/html": [
       "<p style=\"color:red; font-weight:bold;\"> Warning: The following regularization strengths were removed: [0.0100]</p>"
      ],
      "text/plain": [
       "<IPython.core.display.HTML object>"
      ]
     },
     "metadata": {},
     "output_type": "display_data"
    }
   ],
   "source": [
    "X, y = simulate_gaussian_data(n=1000, p=100)\n",
    "gaussian_fit = fit_unilasso(X, \n",
    "                            y, \n",
    "                            family = 'gaussian',\n",
    "                            lmdas = [0.01, 0.02, 0.1, 0.2, 0.3, 1.0] # Regularization parameters for Lasso\n",
    "                            )"
   ]
  },
  {
   "cell_type": "markdown",
   "metadata": {},
   "source": [
    "We should print out the regularization path to see for which parameters the `UniLasso` model was run."
   ]
  },
  {
   "cell_type": "code",
   "execution_count": 3,
   "metadata": {},
   "outputs": [
    {
     "name": "stdout",
     "output_type": "stream",
     "text": [
      "[0.02 0.1  0.2  0.3  1.  ]\n"
     ]
    }
   ],
   "source": [
    "print(gaussian_fit.lmdas)"
   ]
  },
  {
   "cell_type": "markdown",
   "metadata": {},
   "source": [
    "Now, we can extract the returned coefficients and intercepts and print their shapes."
   ]
  },
  {
   "cell_type": "code",
   "execution_count": 4,
   "metadata": {},
   "outputs": [
    {
     "name": "stdout",
     "output_type": "stream",
     "text": [
      "(5, 100)\n",
      "(5,)\n"
     ]
    }
   ],
   "source": [
    "coefs, intercept = gaussian_fit.coefs, gaussian_fit.intercept\n",
    "\n",
    "print(coefs.shape)\n",
    "print(intercept.shape)"
   ]
  },
  {
   "cell_type": "markdown",
   "metadata": {},
   "source": [
    "`coefs[0, :]` correpsonds to the coefficients for $\\lambda = 0.02$."
   ]
  },
  {
   "cell_type": "code",
   "execution_count": 5,
   "metadata": {},
   "outputs": [
    {
     "data": {
      "text/plain": [
       "array([-0.7264842 ,  0.931461  , -0.11532774,  0.39343653, -0.50873909,\n",
       "       -0.96088613, -0.        ,  0.78760886, -0.1685543 ,  0.        ,\n",
       "       -1.03726809, -0.        ,  0.1538437 ,  0.        , -0.        ,\n",
       "        0.72041147,  0.40157531, -0.4182476 , -0.5064637 ,  0.93613254,\n",
       "       -1.02382989, -0.62541031,  0.3183039 ,  0.93390297, -0.22865548,\n",
       "        0.9376539 ,  0.49288265,  0.74436072,  0.47503882, -0.17853813,\n",
       "        0.72390442, -0.68545818, -0.        ,  0.87459224, -0.41096577,\n",
       "        0.46476674,  0.10168217, -0.        , -0.5953843 , -1.00005506,\n",
       "        0.        , -0.21554537,  0.64459089,  0.        , -0.52887051,\n",
       "       -0.        , -0.55422211, -0.9520086 , -0.86894416,  0.43123172,\n",
       "        0.0380378 ,  0.42110578, -0.        ,  0.020275  ,  0.48549672,\n",
       "        0.24634125,  0.48869348, -0.45429155, -0.29217976,  0.6995063 ,\n",
       "       -1.05885492, -0.86557272, -0.81704099, -0.35264071, -0.        ,\n",
       "       -1.03967911,  0.        ,  0.95480152, -0.912076  , -0.06335827,\n",
       "        0.40877202, -0.97363483,  1.04145016,  0.64486227, -0.        ,\n",
       "       -0.19392322,  0.15317556,  0.85971808,  0.        ,  0.91013681,\n",
       "       -0.        , -0.        , -0.        , -0.62682859,  0.20586401,\n",
       "        0.        , -0.76401505,  0.8268348 ,  1.06531125,  0.45020766,\n",
       "        0.2447353 ,  0.31406266,  0.52885672,  0.99144907,  0.98249177,\n",
       "        0.17035746,  0.        ,  0.14282515, -0.10620395, -0.63615177])"
      ]
     },
     "execution_count": 5,
     "metadata": {},
     "output_type": "execute_result"
    }
   ],
   "source": [
    "coefs[0, ]"
   ]
  },
  {
   "cell_type": "markdown",
   "metadata": {},
   "source": [
    "### Predict on new data"
   ]
  },
  {
   "cell_type": "markdown",
   "metadata": {},
   "source": [
    "To get predictions, we call `predict`:"
   ]
  },
  {
   "cell_type": "code",
   "execution_count": 6,
   "metadata": {},
   "outputs": [
    {
     "name": "stdout",
     "output_type": "stream",
     "text": [
      "(1000, 5)\n"
     ]
    }
   ],
   "source": [
    "y_hat = predict(X, gaussian_fit)\n",
    "print(y_hat.shape)"
   ]
  },
  {
   "cell_type": "markdown",
   "metadata": {},
   "source": [
    "We can also call `predict` for a specific index of $\\lambda$:"
   ]
  },
  {
   "cell_type": "code",
   "execution_count": 7,
   "metadata": {},
   "outputs": [
    {
     "name": "stdout",
     "output_type": "stream",
     "text": [
      "(1000,)\n"
     ]
    }
   ],
   "source": [
    "y_hat_lmda_1 = predict(X, gaussian_fit, lmda_idx = 1)\n",
    "print(y_hat_lmda_1.shape)"
   ]
  },
  {
   "cell_type": "markdown",
   "metadata": {},
   "source": [
    "### One regularization parameter"
   ]
  },
  {
   "cell_type": "markdown",
   "metadata": {},
   "source": [
    "We can also input only one regularization parameter:"
   ]
  },
  {
   "cell_type": "code",
   "execution_count": 8,
   "metadata": {},
   "outputs": [
    {
     "name": "stderr",
     "output_type": "stream",
     "text": [
      "100%|          | 0/1 [00:00:00<?, ?it/s]██████████| 1/1 [00:00:00<00:00:00, 115.01it/s] [dev:66.6%]██████████| 1/1 [00:00:00<00:00:00, 53.09it/s] [dev:66.6%] \n"
     ]
    },
    {
     "data": {
      "text/html": [
       "\n",
       "\n",
       "<b> --- UniLasso Results --- </b>"
      ],
      "text/plain": [
       "<IPython.core.display.HTML object>"
      ]
     },
     "metadata": {},
     "output_type": "display_data"
    },
    {
     "name": "stdout",
     "output_type": "stream",
     "text": [
      "Number of Selected Features: 51\n",
      "Regularization path (rounded to 3 decimal places): [0.2]\n"
     ]
    }
   ],
   "source": [
    "gaussian_fit_one_lmda = fit_unilasso(X, y, family = 'gaussian', lmdas = 0.2, verbose = True)"
   ]
  },
  {
   "cell_type": "markdown",
   "metadata": {},
   "source": [
    "### Using default regularization path"
   ]
  },
  {
   "cell_type": "code",
   "execution_count": 9,
   "metadata": {},
   "outputs": [
    {
     "name": "stderr",
     "output_type": "stream",
     "text": [
      " 53%|          | 0/100 [00:00:00<?, ?it/s]█████     | 53/100 [00:00:00<00:00:00, 5762.38it/s] [dev:90.1%]\n"
     ]
    },
    {
     "data": {
      "text/html": [
       "<p style=\"color:red; font-weight:bold;\"> Warning: The following regularization strengths were removed: [0.0020, 0.0020, 0.0020, 0.0020, 0.0020, 0.0030, 0.0030, 0.0030, 0.0030, 0.0030, 0.0040, 0.0040, 0.0040, 0.0040, 0.0050, 0.0050, 0.0050, 0.0060, 0.0060, 0.0070, 0.0070, 0.0070, 0.0080, 0.0090, 0.0090, 0.0100, 0.0100, 0.0110, 0.0120, 0.0130, 0.0140, 0.0140, 0.0150, 0.0160, 0.0180, 0.0190, 0.0200, 0.0210, 0.0230, 0.0240, 0.0260, 0.0280, 0.0300, 0.0320, 0.0340, 0.0360, 0.0390]</p>"
      ],
      "text/plain": [
       "<IPython.core.display.HTML object>"
      ]
     },
     "metadata": {},
     "output_type": "display_data"
    },
    {
     "data": {
      "text/html": [
       "\n",
       "\n",
       "<b> --- UniLasso Results --- </b>"
      ],
      "text/plain": [
       "<IPython.core.display.HTML object>"
      ]
     },
     "metadata": {},
     "output_type": "display_data"
    },
    {
     "name": "stdout",
     "output_type": "stream",
     "text": [
      "Number of Selected Features: [74 74 73 73 70 69 66 66 65 64 64 63 63 63 60 59 56 56 55 55 55 52 52 51\n",
      " 51 47 46 41 40 38 37 35 33 32 30 28 26 24 23 21 19 19 19 16 15 13 11 11\n",
      "  8  7  5  4  3]\n",
      "Regularization path (rounded to 3 decimal places): [1.257 1.177 1.103 1.032 0.967 0.905 0.848 0.794 0.743 0.696 0.652 0.611\n",
      " 0.572 0.535 0.501 0.469 0.44  0.412 0.385 0.361 0.338 0.317 0.296 0.278\n",
      " 0.26  0.243 0.228 0.213 0.2   0.187 0.175 0.164 0.154 0.144 0.135 0.126\n",
      " 0.118 0.111 0.104 0.097 0.091 0.085 0.08  0.075 0.07  0.065 0.061 0.057\n",
      " 0.054 0.05  0.047 0.044 0.041]\n"
     ]
    }
   ],
   "source": [
    "gaussian_fit_one_lmda = fit_unilasso(X, y, family = 'gaussian', lmdas = None, verbose = True)"
   ]
  },
  {
   "cell_type": "markdown",
   "metadata": {},
   "source": [
    "### Plot coefficient path"
   ]
  },
  {
   "cell_type": "code",
   "execution_count": 10,
   "metadata": {},
   "outputs": [
    {
     "name": "stderr",
     "output_type": "stream",
     "text": [
      "100%|          | 0/6 [00:00:00<?, ?it/s]██████████| 6/6 [00:00:00<00:00:00, 614.03it/s] [dev:77.1%]██████████| 6/6 [00:00:00<00:00:00, 256.58it/s] [dev:77.1%]\n"
     ]
    },
    {
     "data": {
      "image/png": "[encoded data removed]",
      "text/plain": [
       "<Figure size 800x600 with 1 Axes>"
      ]
     },
     "metadata": {},
     "output_type": "display_data"
    }
   ],
   "source": [
    "X, y = simulate_gaussian_data(n=1000, p=10)\n",
    "gaussian_fit = fit_unilasso(X, \n",
    "                            y, \n",
    "                            family = 'gaussian',\n",
    "                            lmdas = [0.01, 0.02, 0.1, 0.2, 0.3, 1.0] # Regularization parameters for Lasso\n",
    "                            )\n",
    "plot_coef_path(gaussian_fit)"
   ]
  },
  {
   "cell_type": "markdown",
   "metadata": {},
   "source": [
    "## Logistic Regression Example"
   ]
  },
  {
   "cell_type": "markdown",
   "metadata": {},
   "source": [
    "Now we run an example logistic regression model using `UniLasso`. We set `verbose = True` to print out some summary information of the model."
   ]
  },
  {
   "cell_type": "code",
   "execution_count": 11,
   "metadata": {},
   "outputs": [
    {
     "name": "stderr",
     "output_type": "stream",
     "text": [
      "100%|          | 0/1 [00:00:00<?, ?it/s]██████████| 1/1 [00:00:00<00:00:00, 51.26it/s] [dev:1.3%]██████████| 1/1 [00:00:00<00:00:00, 42.02it/s] [dev:1.3%]\n",
      "100%|          | 0/1 [00:00:00<?, ?it/s]██████████| 1/1 [00:00:00<00:00:00, 1856.43it/s] [dev:1.3%]██████████| 1/1 [00:00:00<00:00:00, 253.79it/s] [dev:1.3%] \n",
      "100%|          | 0/1 [00:00:00<?, ?it/s]██████████| 1/1 [00:00:00<00:00:00, 1110.24it/s] [dev:3.8%]██████████| 1/1 [00:00:00<00:00:00, 207.72it/s] [dev:3.8%] \n",
      "100%|          | 0/1 [00:00:00<?, ?it/s]██████████| 1/1 [00:00:00<00:00:00, 1023.63it/s] [dev:6.2%]██████████| 1/1 [00:00:00<00:00:00, 274.65it/s] [dev:6.2%] \n",
      "100%|          | 0/1 [00:00:00<?, ?it/s]██████████| 1/1 [00:00:00<00:00:00, 1594.58it/s] [dev:0.1%]██████████| 1/1 [00:00:00<00:00:00, 275.53it/s] [dev:0.1%] \n",
      "100%|          | 0/1 [00:00:00<?, ?it/s]██████████| 1/1 [00:00:00<00:00:00, 2726.03it/s] [dev:2.2%]██████████| 1/1 [00:00:00<00:00:00, 252.52it/s] [dev:2.2%] \n",
      "100%|          | 0/1 [00:00:00<?, ?it/s]██████████| 1/1 [00:00:00<00:00:00, 1405.65it/s] [dev:3.5%]██████████| 1/1 [00:00:00<00:00:00, 232.24it/s] [dev:3.5%] \n",
      "100%|          | 0/1 [00:00:00<?, ?it/s]██████████| 1/1 [00:00:00<00:00:00, 2261.38it/s] [dev:0.1%]██████████| 1/1 [00:00:00<00:00:00, 251.24it/s] [dev:0.1%] \n",
      "100%|          | 0/1 [00:00:00<?, ?it/s]██████████| 1/1 [00:00:00<00:00:00, 1785.32it/s] [dev:4.2%]██████████| 1/1 [00:00:00<00:00:00, 275.18it/s] [dev:4.2%] \n",
      "100%|          | 0/1 [00:00:00<?, ?it/s]██████████| 1/1 [00:00:00<00:00:00, 2422.04it/s] [dev:5.1%]██████████| 1/1 [00:00:00<00:00:00, 281.15it/s] [dev:5.1%] \n",
      "100%|          | 0/4 [00:00:00<?, ?it/s]██████████| 4/4 [00:00:00<00:00:00, 2856.38it/s] [dev:26.8%]██████████| 4/4 [00:00:00<00:00:00, 691.66it/s] [dev:26.8%] \n"
     ]
    },
    {
     "data": {
      "text/html": [
       "\n",
       "\n",
       "<b> --- UniLasso Results --- </b>"
      ],
      "text/plain": [
       "<IPython.core.display.HTML object>"
      ]
     },
     "metadata": {},
     "output_type": "display_data"
    },
    {
     "name": "stdout",
     "output_type": "stream",
     "text": [
      "Number of Selected Features: [8 6 0 0]\n",
      "Regularization path (rounded to 3 decimal places): [0.01 0.02 0.1  0.2 ]\n"
     ]
    }
   ],
   "source": [
    "X, y = simulate_binomial_data(n=1000, p=10)\n",
    "\n",
    "binomial_fit = fit_unilasso(X,\n",
    "                            y,\n",
    "                            family = 'binomial',\n",
    "                            lmdas = [0.01, 0.02, 0.1, 0.2], # Regularization parameters for Lasso\n",
    "                            verbose = True\n",
    "                            )"
   ]
  },
  {
   "cell_type": "code",
   "execution_count": 12,
   "metadata": {},
   "outputs": [
    {
     "data": {
      "text/plain": [
       "array([0.01, 0.02, 0.1 , 0.2 ])"
      ]
     },
     "execution_count": 12,
     "metadata": {},
     "output_type": "execute_result"
    }
   ],
   "source": [
    "binomial_fit.lmdas"
   ]
  },
  {
   "cell_type": "markdown",
   "metadata": {},
   "source": [
    "## Survival Analysis Example"
   ]
  },
  {
   "cell_type": "code",
   "execution_count": 13,
   "metadata": {},
   "outputs": [
    {
     "name": "stderr",
     "output_type": "stream",
     "text": [
      "100%|          | 0/1 [00:00:00<?, ?it/s]█████"
     ]
    },
    {
     "name": "stderr",
     "output_type": "stream",
     "text": [
      "100%|| 1/1 [00:00:00<00:00:00, 861.05it/s] [dev:0.6%]██████████| 1/1 [00:00:00<00:00:00, 126.09it/s] [dev:0.6%]\n",
      "100%|          | 0/1 [00:00:00<?, ?it/s]██████████| 1/1 [00:00:00<00:00:00, 1125.54it/s] [dev:0.4%]██████████| 1/1 [00:00:00<00:00:00, 140.88it/s] [dev:0.4%] \n",
      "100%|          | 0/1 [00:00:00<?, ?it/s]██████████| 1/1 [00:00:00<00:00:00, 693.44it/s] [dev:1.9%]██████████| 1/1 [00:00:00<00:00:00, 154.73it/s] [dev:1.9%]\n",
      "100%|          | 0/1 [00:00:00<?, ?it/s]██████████| 1/1 [00:00:00<00:00:00, 602.56it/s] [dev:0.5%]██████████| 1/1 [00:00:00<00:00:00, 148.91it/s] [dev:0.5%]\n",
      "100%|          | 0/1 [00:00:00<?, ?it/s]██████████| 1/1 [00:00:00<00:00:00, 869.66it/s] [dev:0.9%]██████████| 1/1 [00:00:00<00:00:00, 170.70it/s] [dev:0.9%]\n",
      "100%|          | 0/1 [00:00:00<?, ?it/s]██████████| 1/1 [00:00:00<00:00:00, 847.34it/s] [dev:0.1%]██████████| 1/1 [00:00:00<00:00:00, 106.94it/s] [dev:0.1%]\n",
      "100%|          | 0/1 [00:00:00<?, ?it/s]██████████| 1/1 [00:00:00<00:00:00, 686.93it/s] [dev:2.3%]██████████| 1/1 [00:00:00<00:00:00, 120.21it/s] [dev:2.3%]\n",
      "100%|          | 0/1 [00:00:00<?, ?it/s]██████████| 1/1 [00:00:00<00:00:00, 726.35it/s] [dev:0.5%]██████████| 1/1 [00:00:00<00:00:00, 166.35it/s] [dev:0.5%]\n",
      "100%|          | 0/1 [00:00:00<?, ?it/s]██████████| 1/1 [00:00:00<00:00:00, 812.93it/s] [dev:0.5%]██████████| 1/1 [00:00:00<00:00:00, 149.54it/s] [dev:0.5%]\n",
      "100%|          | 0/1 [00:00:00<?, ?it/s]██████████| 1/1 [00:00:00<00:00:00, 581.68it/s] [dev:0.0%]██████████| 1/1 [00:00:00<00:00:00, 133.01it/s] [dev:0.0%]\n",
      "100%|          | 0/4 [00:00:00<?, ?it/s]██████████| 4/4 [00:00:00<00:00:00, 1110.73it/s] [dev:10.9%]██████████| 4/4 [00:00:00<00:00:00, 479.17it/s] [dev:10.9%] \n"
     ]
    },
    {
     "data": {
      "text/html": [
       "\n",
       "\n",
       "<b> --- UniLasso Results --- </b>"
      ],
      "text/plain": [
       "<IPython.core.display.HTML object>"
      ]
     },
     "metadata": {},
     "output_type": "display_data"
    },
    {
     "name": "stdout",
     "output_type": "stream",
     "text": [
      "Number of Selected Features: [9 8 2 0]\n",
      "Regularization path (rounded to 3 decimal places): [0.01 0.02 0.1  0.2 ]\n"
     ]
    }
   ],
   "source": [
    "X, y = simulate_cox_data(n=1000, p=10)\n",
    "\n",
    "cox_fit = fit_unilasso(X,\n",
    "                       y,\n",
    "                       family = 'cox',\n",
    "                       lmdas = [0.01, 0.02, 0.1, 0.2], # Regularization parameters for Lasso\n",
    "                       verbose = True\n",
    "                       )"
   ]
  },
  {
   "cell_type": "markdown",
   "metadata": {},
   "source": [
    "# Cross-validated `UniLasso`"
   ]
  },
  {
   "cell_type": "markdown",
   "metadata": {},
   "source": [
    "If we don't have a prespecified list of regularization path or regularization parameter, we can perform cross-validation to select a penalization parameter for us. We again begin by simulating some Gaussian data."
   ]
  },
  {
   "cell_type": "code",
   "execution_count": 14,
   "metadata": {},
   "outputs": [],
   "source": [
    "X, y = simulate_gaussian_data(n=1000, p=10)"
   ]
  },
  {
   "cell_type": "code",
   "execution_count": 15,
   "metadata": {},
   "outputs": [
    {
     "name": "stderr",
     "output_type": "stream",
     "text": [
      "100%|          | 0/101 [00:00:00<?, ?it/s]██████████| 101/101 [00:00:00<00:00:00, 36936.59it/s] [dev:76.1%]██████████| 101/101 [00:00:00<00:00:00, 16695.83it/s] [dev:76.1%]\n",
      "100%|          | 0/100 [00:00:00<?, ?it/s]██████████| 100/100 [00:00:00<00:00:00, 49171.27it/s] [dev:76.0%]██████████| 100/100 [00:00:00<00:00:00, 24278.47it/s] [dev:76.0%]\n",
      "100%|          | 0/101 [00:00:00<?, ?it/s]██████████| 101/101 [00:00:00<00:00:00, 55986.70it/s] [dev:77.0%]██████████| 101/101 [00:00:00<00:00:00, 24532.68it/s] [dev:77.0%]\n",
      "100%|          | 0/100 [00:00:00<?, ?it/s]██████████| 100/100 [00:00:00<00:00:00, 59417.71it/s] [dev:75.9%]██████████| 100/100 [00:00:00<00:00:00, 25576.00it/s] [dev:75.9%]\n",
      "100%|          | 0/100 [00:00:00<?, ?it/s]██████████| 100/100 [00:00:00<00:00:00, 57973.84it/s] [dev:77.1%]██████████| 100/100 [00:00:00<00:00:00, 26805.16it/s] [dev:77.1%]\n",
      "100%|          | 0/100 [00:00:00<?, ?it/s]██████████| 100/100 [00:00:00<00:00:00, 58446.79it/s] [dev:76.3%]██████████| 100/100 [00:00:00<00:00:00, 24250.51it/s] [dev:76.3%]\n"
     ]
    },
    {
     "data": {
      "text/html": [
       "\n",
       "\n",
       "<b> --- UniLasso Results --- </b>"
      ],
      "text/plain": [
       "<IPython.core.display.HTML object>"
      ]
     },
     "metadata": {},
     "output_type": "display_data"
    },
    {
     "name": "stdout",
     "output_type": "stream",
     "text": [
      "Number of Selected Features: [0 1 1 1 1 1 1 1 1 2 2 2 2 2 3 3 4 4 5 5 5 5 6 6 6 6 6 6 7 7 7 7 7 7 7 7 7\n",
      " 7 7 7 7 7 7 7 7 7 7 7 7 7 7 7 7 7 7 7 8 8 8 8 8 8 8 8 8 8 8 8 8 8 8 8 8 8\n",
      " 8 8 8 8 8 8 8 8 8 8 8 8 8 8 8 8 8 8 8 8 8 8 8 8 8 8]\n",
      "Regularization path (rounded to 3 decimal places): [1.172 1.098 1.028 0.963 0.902 0.844 0.791 0.74  0.693 0.649 0.608 0.569\n",
      " 0.533 0.499 0.467 0.438 0.41  0.384 0.359 0.337 0.315 0.295 0.276 0.259\n",
      " 0.242 0.227 0.213 0.199 0.186 0.175 0.163 0.153 0.143 0.134 0.126 0.118\n",
      " 0.11  0.103 0.097 0.09  0.085 0.079 0.074 0.07  0.065 0.061 0.057 0.054\n",
      " 0.05  0.047 0.044 0.041 0.039 0.036 0.034 0.032 0.03  0.028 0.026 0.024\n",
      " 0.023 0.021 0.02  0.019 0.018 0.016 0.015 0.014 0.013 0.013 0.012 0.011\n",
      " 0.01  0.01  0.009 0.009 0.008 0.007 0.007 0.007 0.006 0.006 0.005 0.005\n",
      " 0.005 0.004 0.004 0.004 0.004 0.003 0.003 0.003 0.003 0.003 0.002 0.002\n",
      " 0.002 0.002 0.002 0.002]\n",
      "Best Regularization Parameter: 0.0024422429365272393\n"
     ]
    },
    {
     "data": {
      "image/png": "[encoded data removed]",
      "text/plain": [
       "<Figure size 900x600 with 1 Axes>"
      ]
     },
     "metadata": {},
     "output_type": "display_data"
    }
   ],
   "source": [
    "cv_fit = cv_unilasso(X,\n",
    "                     y,\n",
    "                     family = 'gaussian',\n",
    "                     verbose = True\n",
    "                     )"
   ]
  },
  {
   "cell_type": "markdown",
   "metadata": {},
   "source": [
    "Now, we can extract the best $\\lambda$."
   ]
  },
  {
   "cell_type": "code",
   "execution_count": 16,
   "metadata": {},
   "outputs": [
    {
     "name": "stdout",
     "output_type": "stream",
     "text": [
      "0.0024422429365272393\n"
     ]
    }
   ],
   "source": [
    "best_lmda = cv_fit.best_lmda\n",
    "print(best_lmda)"
   ]
  },
  {
   "cell_type": "markdown",
   "metadata": {},
   "source": [
    "We can also extract the coefficients and intercept corresponding to the best model as follows:"
   ]
  },
  {
   "cell_type": "code",
   "execution_count": 17,
   "metadata": {},
   "outputs": [
    {
     "name": "stdout",
     "output_type": "stream",
     "text": [
      "Best coefficients and intercepts:\n",
      "\n",
      "-------------------\n",
      "\n",
      "[ 0.59591506 -0.16913022  0.         -0.         -0.72141416 -0.83872919\n",
      "  1.01843141  0.70451529  0.3918687  -0.50657179]\n",
      "\n",
      "-------------------\n",
      "\n",
      "0.0020511533331791787\n"
     ]
    }
   ],
   "source": [
    "extracted_fit = extract_cv_unilasso(cv_fit)\n",
    "\n",
    "print(\"Best coefficients and intercepts:\")\n",
    "print('\\n-------------------\\n')\n",
    "print(extracted_fit.coefs)\n",
    "print('\\n-------------------\\n')\n",
    "print(extracted_fit.intercept)"
   ]
  },
  {
   "cell_type": "code",
   "execution_count": 18,
   "metadata": {},
   "outputs": [
    {
     "data": {
      "text/plain": [
       "array([ 1.92748715e+00,  2.24430417e-01,  4.33142938e+00,  2.69932988e-01,\n",
       "       -7.09601785e-01,  1.14178369e+00, -4.58859594e+00,  1.23085172e+00,\n",
       "       -1.13340015e+00,  1.20699389e+00, -3.19342328e+00,  3.01699614e+00,\n",
       "       -1.28456995e+00,  4.58293803e-01, -2.51197484e+00,  2.45555587e+00,\n",
       "        2.52419778e+00,  1.11011003e+00, -1.50712178e+00, -1.48423137e+00,\n",
       "        4.67169331e-01,  1.19724152e+00, -1.34112287e+00,  1.03334620e+00,\n",
       "        1.80937828e+00,  1.15609885e+00,  1.85193442e+00, -6.90949066e-01,\n",
       "        1.69705784e-01,  1.84282612e+00,  1.18787846e+00,  2.30118941e+00,\n",
       "        1.76701627e+00,  2.00584847e+00,  3.61422053e+00, -1.38568090e+00,\n",
       "        2.42254048e-01,  5.02460510e-01,  3.91184897e+00, -1.45940778e+00,\n",
       "        1.53784892e+00,  1.54872147e+00,  7.67637131e-01,  1.99894065e+00,\n",
       "       -2.07651315e+00,  9.70738990e-02,  6.51593539e-01,  2.81864570e+00,\n",
       "        1.06458609e-01, -1.22447370e-01, -6.23243309e-01, -3.69220085e+00,\n",
       "        2.00294500e-01, -1.07929422e+00, -3.17054350e-01, -2.06656924e+00,\n",
       "       -4.27205611e+00, -7.57099499e-02, -3.54258396e-01, -1.64607199e-02,\n",
       "        2.42380663e+00, -2.00519179e+00, -1.93086569e+00,  1.35210482e+00,\n",
       "        2.03643361e+00,  7.55380886e-01, -2.35923459e+00,  3.04079499e+00,\n",
       "        2.68403532e-01, -2.82277833e+00,  7.14806175e-01,  2.39864654e+00,\n",
       "        2.82681882e+00,  2.00003182e+00,  3.10180177e+00,  3.03586696e-01,\n",
       "        2.30855091e+00, -5.94158257e-01, -6.28862311e-01, -8.09241053e-02,\n",
       "       -1.68386549e+00, -8.15936211e-01,  1.52954886e-01, -2.50933915e+00,\n",
       "       -5.03976841e+00, -6.05749071e-01,  1.03479729e+00,  2.05685677e+00,\n",
       "       -4.91398482e-01, -4.85569176e+00, -1.15690890e-01,  1.92892609e+00,\n",
       "        1.67797345e+00,  4.48547883e-01, -2.10293287e+00, -2.35343558e+00,\n",
       "        5.83503723e-01,  1.11741568e+00,  1.57989067e+00, -6.43350649e-01,\n",
       "        2.14286547e+00,  2.87177910e+00, -2.59932178e-01,  2.26335481e+00,\n",
       "       -1.03170254e+00, -6.28242123e-01, -5.47873015e-01,  2.05160496e+00,\n",
       "       -6.86747396e-01,  4.49635076e+00,  2.79970869e+00, -1.18962625e+00,\n",
       "        2.45957663e+00,  7.00527759e-01, -3.24364423e+00,  1.15407868e+00,\n",
       "       -3.14768942e+00,  1.85646503e-01,  1.93576181e-01,  8.24721402e-01,\n",
       "       -1.34618953e+00,  1.69078455e-01,  5.80742426e-01, -1.79337069e+00,\n",
       "        9.39403362e-01,  5.81088951e-01,  6.27633686e-02, -1.75785582e+00,\n",
       "       -1.81083230e+00,  1.80862062e+00, -6.70452525e+00,  1.14662665e+00,\n",
       "        5.30091214e-01,  1.14976567e+00, -1.72930741e+00,  6.46231478e-01,\n",
       "       -4.91465059e+00, -1.40542488e+00,  5.88265158e-01, -2.83699233e+00,\n",
       "       -1.81352563e+00, -1.83885748e-01, -1.65598514e+00, -2.33405721e+00,\n",
       "        1.96704865e-01,  1.28632999e+00, -4.76191740e+00, -1.45552991e+00,\n",
       "        3.51137572e+00,  3.60762848e-01,  8.79317386e-01, -1.05869164e+00,\n",
       "        7.44945640e-01, -1.07144393e+00, -6.08856614e-01,  4.25372248e+00,\n",
       "       -8.14909326e-01,  1.62066654e-01,  2.75970397e+00,  9.33252647e-01,\n",
       "       -1.05561452e+00, -1.20988602e+00,  1.66885387e-01,  2.97448309e+00,\n",
       "        9.43012535e-03,  3.60041556e+00, -8.54004667e-01, -1.13971800e+00,\n",
       "        1.25030090e+00, -1.34604494e+00,  7.65999661e-01, -4.43750567e-01,\n",
       "        1.62648986e+00, -1.18354332e+00,  1.62095487e+00, -8.78790376e-01,\n",
       "       -7.01330545e-01,  1.45026547e+00,  1.07097338e-01,  2.79212812e+00,\n",
       "        5.98886961e-01,  1.29076161e+00,  1.39657157e+00,  4.10279586e+00,\n",
       "        1.73511599e+00, -2.52991544e+00, -3.06366168e+00, -1.09005706e+00,\n",
       "       -2.73148297e+00, -7.04440964e-01, -3.25779991e-01, -8.34337104e-01,\n",
       "       -3.11048141e-02,  2.06168631e+00,  7.68996156e-01, -2.01345926e+00,\n",
       "       -1.30446864e+00,  1.47209307e-01,  4.59833481e+00, -1.11053106e+00,\n",
       "       -1.09995601e+00,  1.41939397e-01,  1.65746809e+00, -2.89767011e-01,\n",
       "       -1.98165950e+00,  1.63482032e+00,  1.95834375e+00,  6.35159881e-01,\n",
       "        4.85901344e+00, -4.13710389e-01,  1.86969406e+00,  1.29734206e+00,\n",
       "        8.06073790e-01,  1.27560606e+00, -3.52971445e+00,  1.95421507e+00,\n",
       "       -1.78212726e+00,  2.13879051e+00,  1.07132919e+00, -1.58576001e+00,\n",
       "        2.55803249e-01, -8.90112926e-01, -4.44400439e-01,  6.19569378e-01,\n",
       "       -1.63150836e+00, -1.06026078e+00,  1.90127419e+00, -6.03698195e-01,\n",
       "       -3.30132963e+00, -8.97600998e-01,  4.04751624e+00,  2.00586773e+00,\n",
       "        1.41131948e+00,  3.09703192e+00, -5.53099290e+00, -2.49616171e+00,\n",
       "        2.63796075e+00, -7.42736137e-01, -7.72083866e-01,  1.86063646e+00,\n",
       "        4.90514893e-03,  2.24553803e+00, -4.12592830e-01,  4.24196072e+00,\n",
       "        1.64271607e+00,  1.20736390e+00,  2.68814555e-01,  2.39754002e+00,\n",
       "       -3.38144035e+00,  4.21858495e+00,  8.27680161e-01,  1.87002641e+00,\n",
       "       -6.28034704e-01,  3.98989281e+00,  1.68794055e+00, -9.01767530e-01,\n",
       "       -9.92422218e-01,  1.91598656e+00, -1.07345351e-02, -2.48453773e+00,\n",
       "       -1.84373472e+00, -2.96382234e-01, -2.46531820e+00,  6.14433805e-01,\n",
       "        1.98956367e+00,  5.26044124e-01, -1.28247322e+00, -2.20282469e+00,\n",
       "        9.34056451e-01, -2.02409931e+00,  7.59701762e-01, -3.82377973e-01,\n",
       "        1.79233598e+00,  1.49201829e+00,  1.44412570e+00, -6.99300690e-01,\n",
       "       -2.58477630e+00,  8.13548274e-01, -1.18452445e+00, -8.19074487e-01,\n",
       "       -1.71925847e-01,  7.36672067e-02, -9.25429131e-01,  1.50820993e+00,\n",
       "        1.34683457e+00,  5.54481183e-01, -2.25381692e+00, -1.52812561e+00,\n",
       "        3.79593311e+00, -1.02345382e+00, -2.54926059e+00, -9.91610562e-01,\n",
       "        1.04310880e+00, -1.64252926e+00,  4.72566130e-01, -1.65359772e+00,\n",
       "        4.27137282e+00, -5.05254102e-01,  3.23410626e-01, -2.64969465e-01,\n",
       "        1.11353764e+00,  1.42886310e+00, -1.91938332e+00, -2.08363011e+00,\n",
       "        1.83011100e+00, -3.54981054e-01, -1.86568869e+00, -7.95381706e-01,\n",
       "       -2.30515029e+00,  1.48866740e-01, -2.29558831e+00, -8.16524617e-01,\n",
       "        7.68436325e-01, -1.49991649e+00, -9.88928156e-01,  1.74255102e-01,\n",
       "        3.72066074e+00,  1.41494424e+00,  1.76525590e+00, -2.45206823e+00,\n",
       "        2.45518489e+00,  4.58866751e+00,  4.63759648e-01,  1.51261433e+00,\n",
       "        2.28658494e+00, -1.81198078e+00,  1.65828625e+00,  1.13109170e+00,\n",
       "        5.18385956e-01, -7.62843658e-01, -8.24164258e-01,  1.56682993e+00,\n",
       "       -1.94418376e+00,  1.67658564e+00,  5.54409631e+00, -2.46541141e+00,\n",
       "       -2.63216117e+00, -5.42568116e-01, -5.44879753e-01, -1.44930834e+00,\n",
       "        2.06621731e+00,  6.51702231e-01, -2.25957406e+00,  3.74363259e-01,\n",
       "       -2.34273996e-02, -3.24059859e+00,  2.92192932e+00, -7.38641248e-01,\n",
       "       -1.32171349e+00, -1.02305304e-01, -6.92790052e-01,  5.55011274e-01,\n",
       "       -3.08886251e-01,  3.29304922e+00, -1.83498931e-02, -8.02083234e-01,\n",
       "       -1.99398578e-01,  1.05545802e+00, -2.44922493e+00, -1.07939144e+00,\n",
       "       -1.29407711e+00,  2.19451942e+00, -2.60953802e+00, -2.06669642e+00,\n",
       "       -3.36034993e-01,  1.94193135e+00, -1.86852204e+00, -3.43492822e+00,\n",
       "       -2.77516555e+00,  4.66584334e-01, -1.77850264e-01,  1.30483811e+00,\n",
       "       -1.66555540e+00, -3.75844642e+00,  1.19144460e+00, -2.27273812e+00,\n",
       "       -3.67723122e+00,  1.13026861e+00, -2.02145177e-01, -2.36009755e+00,\n",
       "       -1.89323949e+00, -4.91854609e-01, -2.04374122e+00, -1.08356504e+00,\n",
       "       -2.11624798e-01,  2.09394609e+00,  1.03835124e-01, -1.89147359e+00,\n",
       "        2.33234277e+00, -8.44656424e-01, -1.18109202e+00, -1.76413309e+00,\n",
       "       -2.19906215e+00, -8.63678037e-02,  2.87716511e+00,  9.86711680e-01,\n",
       "        3.59194624e+00,  4.84625975e-01,  4.03992788e+00,  1.90075447e+00,\n",
       "       -2.14037124e-01, -1.72577285e+00,  3.61849102e+00, -1.68030059e+00,\n",
       "        2.86428611e+00,  5.45641510e-01,  1.04314639e-01, -5.31352388e-01,\n",
       "       -1.37083652e-01, -4.30180106e-01,  1.55541840e+00, -1.30970992e+00,\n",
       "       -1.40746448e+00,  1.03060780e+00, -6.12520058e-01,  1.75142211e+00,\n",
       "       -2.27377295e+00,  1.29763706e+00, -2.11846724e+00,  2.15081849e+00,\n",
       "       -2.70077446e+00,  6.42569814e-01,  3.14516174e+00, -2.41971049e+00,\n",
       "        4.72157417e+00,  3.06635601e+00,  4.37982195e+00, -2.57702811e-01,\n",
       "        1.44808697e+00,  3.55551682e-01, -7.55305679e-02, -3.88936610e-01,\n",
       "       -1.27274495e-01,  3.19227975e+00,  2.51443519e+00, -5.20775371e-01,\n",
       "       -8.02885351e-01,  9.46606215e-01,  1.83623641e+00, -1.64726226e+00,\n",
       "        2.05608508e+00, -7.98910194e-01, -3.22768951e+00, -1.35939984e+00,\n",
       "       -8.65097022e-01,  3.79044316e+00, -7.68806832e-01,  4.95129719e-01,\n",
       "        2.31498802e+00,  2.91085943e+00, -7.81914186e-01,  2.60874645e+00,\n",
       "       -1.87056325e-01, -1.38872104e+00, -4.83387761e+00,  4.20689034e-01,\n",
       "        1.41229345e+00, -1.51910611e-01,  6.88858091e-01,  1.03666217e+00,\n",
       "        1.45903037e+00,  3.93507217e+00, -4.27378855e-01, -1.91119013e+00,\n",
       "       -1.00864219e+00,  2.08892644e+00,  1.75927963e+00, -5.68157893e-01,\n",
       "        1.53984147e-01, -5.93126729e-01, -1.66453018e+00,  2.63068243e+00,\n",
       "        3.38264792e+00,  4.59629594e-01,  3.08890439e+00,  1.83043409e+00,\n",
       "       -3.24608049e+00,  3.92617326e+00, -3.57757405e+00, -2.30304739e-01,\n",
       "       -1.34091438e+00, -3.52103793e+00, -1.44710649e+00, -6.94439726e-01,\n",
       "       -1.54326183e+00,  1.64786080e+00, -1.35983132e+00,  3.01949774e+00,\n",
       "        3.45984451e+00,  2.22851422e+00, -1.14364437e+00, -1.03552042e+00,\n",
       "        6.57651980e-01,  1.86789739e+00, -2.54957239e+00, -6.83083959e-01,\n",
       "       -2.23225647e+00, -1.03696212e+00,  2.60909118e+00,  3.85412658e+00,\n",
       "        2.32026611e+00,  2.27985478e+00, -3.96385778e+00, -2.26891555e+00,\n",
       "       -1.06598778e+00,  7.54584091e-02,  3.11476248e+00, -5.72689206e-01,\n",
       "        1.26794335e+00, -1.07550676e+00, -6.75798660e-01,  1.97856672e+00,\n",
       "        6.56547576e-01, -3.47575299e+00,  2.24771324e+00,  5.19891072e-01,\n",
       "        3.65128888e-02,  2.96787077e+00,  1.59564456e+00,  6.14449909e-01,\n",
       "       -1.68285019e+00,  1.34120886e+00,  1.11442990e+00, -1.26904605e+00,\n",
       "       -3.27300530e+00,  2.44069584e+00, -5.80289298e-01,  3.89360895e+00,\n",
       "       -9.53083684e-01, -1.98382995e+00, -1.62913365e+00, -9.16932478e-01,\n",
       "        9.68560526e-03, -5.11297952e-01, -2.54486340e+00,  7.97403005e-01,\n",
       "        7.01169596e-01,  1.35380106e+00,  6.51214561e-01,  7.61227509e-01,\n",
       "        2.62618243e+00,  1.06624602e+00, -1.26250166e+00, -1.00235649e+00,\n",
       "       -1.37522572e+00,  1.49270416e+00,  1.05112634e+00, -1.89573107e+00,\n",
       "       -3.47801261e+00, -9.98736627e-01,  1.91851397e+00, -1.72289413e-01,\n",
       "       -2.33110919e+00,  2.37074622e+00, -4.65632686e-03,  4.31628296e-01,\n",
       "        7.26212389e-01, -2.19442578e-01, -1.14952738e+00, -2.76286170e+00,\n",
       "        1.46423563e+00,  6.16970853e-01, -4.84268557e-01,  2.20491599e+00,\n",
       "        4.89170096e+00, -9.80011348e-01, -3.09992417e+00, -3.09577773e+00,\n",
       "        4.66296489e-01, -2.13702177e+00, -6.04728911e-01, -3.25706972e-01,\n",
       "        5.46014054e-01,  2.09919704e+00, -1.19039628e+00,  6.76164427e-01,\n",
       "       -2.05081613e+00,  4.23156398e+00,  2.72448935e+00, -5.81817814e-01,\n",
       "        7.79582763e-01,  7.34439529e-01, -4.07516358e-01,  1.87931334e+00,\n",
       "       -8.54740987e-04,  1.50641623e+00, -3.43849424e+00,  3.43652038e-01,\n",
       "       -3.42767759e-01,  5.19975708e-01, -1.63924483e+00, -3.45749620e-01,\n",
       "       -2.33358579e+00,  6.99052641e-01, -1.11487802e+00, -1.04697604e-01,\n",
       "        5.81704181e-01, -1.55290935e+00,  5.16419682e-01,  2.77330100e+00,\n",
       "        2.06812778e+00, -1.98366038e+00, -3.24171088e-01,  3.20818416e+00,\n",
       "       -1.24973720e+00, -6.19341682e-01, -1.55082766e+00, -1.75169210e+00,\n",
       "        1.41982114e+00, -3.96297944e+00,  1.28739030e+00,  1.20389566e+00,\n",
       "        1.75863153e+00,  9.81890074e-01,  8.53907858e-01,  1.24819358e+00,\n",
       "        3.56981207e-01, -1.57888738e+00,  4.78861104e+00,  1.32833432e+00,\n",
       "       -3.37639832e+00, -1.79896358e+00, -8.78766460e-01,  1.62425496e+00,\n",
       "       -3.95873763e+00, -5.67664256e-01,  1.73883052e+00,  1.13667827e+00,\n",
       "        2.11402368e+00, -2.17357585e+00,  1.54827778e+00,  1.41740023e+00,\n",
       "       -6.77629924e-02, -1.02829559e+00, -2.72601389e+00, -1.20687281e+00,\n",
       "       -2.84095547e+00,  8.94903736e-01,  2.42494848e+00,  9.05015029e-01,\n",
       "        9.67163617e-01, -2.55704004e+00, -1.26551529e+00, -3.74288234e+00,\n",
       "       -1.54043762e+00, -8.12495416e-01, -9.76280910e-01, -9.79399082e-01,\n",
       "        2.43640575e-01,  2.39773612e-01,  4.41295545e+00, -2.36818794e+00,\n",
       "        1.92070930e+00, -1.03760747e+00, -2.53499302e-01,  2.25851010e+00,\n",
       "        1.22447401e+00,  2.45100731e+00, -1.37428699e+00,  6.06045240e-02,\n",
       "        4.83777020e-01,  3.59650095e+00,  3.08634334e+00,  5.18314489e-01,\n",
       "       -4.17073414e+00, -2.06042412e+00,  1.84115703e+00, -3.84955338e+00,\n",
       "       -1.29055232e+00,  2.78659001e-01,  1.63119923e+00, -7.88634239e-01,\n",
       "        5.63236775e-01, -1.33832303e+00, -2.38414862e+00,  1.18686655e-01,\n",
       "       -9.44476311e-01,  7.86785549e-01,  1.89608906e+00,  1.59166767e+00,\n",
       "        5.20119933e-01,  4.48308050e-01, -1.57641748e-01,  1.27421893e+00,\n",
       "       -1.11997183e+00,  2.63860097e+00, -3.47521903e+00,  5.00791825e-01,\n",
       "        3.07898429e+00,  2.94613385e+00,  5.37451375e-01,  1.56105518e+00,\n",
       "       -2.61924586e+00,  2.81206472e+00,  3.76996739e-01, -1.03362305e-02,\n",
       "        2.25681969e+00, -7.13309767e-01, -1.03387403e+00, -4.04132284e-01,\n",
       "        2.84860926e+00,  2.59993509e+00,  1.94193461e+00,  2.30926542e+00,\n",
       "        2.68065595e-01,  1.17315488e+00,  1.31731703e+00, -3.65934040e-01,\n",
       "       -2.01716987e+00, -1.20344728e+00,  2.72826871e+00, -1.66222626e+00,\n",
       "        4.94578519e+00,  2.54286038e+00,  3.82712747e+00,  1.56342793e-01,\n",
       "        3.61052654e-01,  1.91109720e+00, -1.72149030e+00,  3.16345301e+00,\n",
       "        6.34900423e-02, -6.87573764e-01,  6.66618260e-01,  1.71283821e+00,\n",
       "       -1.65790731e+00, -2.25161256e+00,  4.67551263e-01, -1.13663823e+00,\n",
       "       -2.40608391e+00,  2.43513455e+00, -8.44924219e-02,  3.23668438e+00,\n",
       "        2.29352430e+00,  1.21785576e+00,  3.08004271e-01, -2.03956084e+00,\n",
       "        1.33048933e-01,  3.30964620e+00, -2.26087174e+00,  8.31264805e-01,\n",
       "        1.64008910e+00, -2.57802804e+00,  1.52637286e+00,  1.23780090e+00,\n",
       "       -1.70571626e+00, -1.31138074e-01,  5.81241379e-01, -1.93368617e+00,\n",
       "       -2.20542185e+00,  1.29299345e+00, -1.24377377e+00, -1.62929693e-01,\n",
       "        2.35439281e+00,  2.35024755e+00, -1.59425706e+00, -9.45467408e-02,\n",
       "        1.40432807e+00,  1.66326538e+00, -1.09151333e+00,  5.80222449e-01,\n",
       "       -2.71140941e+00, -1.59295808e+00, -2.11766184e-01, -5.10876294e-02,\n",
       "       -2.11166245e+00, -5.04976534e-01,  3.72941014e-01,  2.21196718e+00,\n",
       "        8.84472564e-01,  3.37894294e+00, -1.39987855e+00,  2.83423729e+00,\n",
       "        1.73365949e+00,  1.02577179e+00,  7.24520422e-01, -6.01950843e-01,\n",
       "        1.65904163e+00, -2.97363316e+00,  1.93873994e+00, -1.51944100e-01,\n",
       "        3.66820988e-01,  6.61216363e-01,  1.62755237e+00,  3.05350196e-01,\n",
       "       -5.30895959e-01, -3.19211701e-01, -7.19498697e-02, -1.45417042e+00,\n",
       "       -1.27783511e+00,  1.61532596e+00, -1.05557220e+00,  1.24367736e+00,\n",
       "        8.98999490e-01, -1.86154298e-01, -3.28372525e-01, -7.04923616e-01,\n",
       "       -1.76318073e+00, -1.73357739e+00,  1.04680200e+00,  2.43239705e+00,\n",
       "       -1.41933642e+00,  2.72429411e+00, -7.62877070e-01, -2.72762144e+00,\n",
       "        4.34791726e+00, -1.02367313e+00, -1.98420117e+00,  4.86020240e-01,\n",
       "       -3.31099751e-01, -1.06591917e+00, -3.15658305e+00, -5.65390677e-01,\n",
       "        2.48326344e+00,  5.49677359e-01, -3.72105765e+00,  1.24654006e+00,\n",
       "       -5.74758529e-01, -1.31473136e+00, -1.88878883e+00, -1.24554279e+00,\n",
       "        6.74033157e-01,  1.87515634e+00,  1.50449925e+00, -3.92655590e+00,\n",
       "        2.02672693e+00, -1.07581096e+00, -1.17683095e+00,  3.52700829e+00,\n",
       "       -9.72236275e-01,  1.55113547e+00,  7.05414767e-01,  7.90097586e-01,\n",
       "        5.58005779e+00,  2.73974059e+00,  2.39965213e+00,  2.56895135e+00,\n",
       "        9.30430749e-02, -2.23659287e-01,  2.35796343e-01,  1.07653167e+00,\n",
       "        2.43202157e+00, -7.88336533e-01, -1.52400088e+00, -1.22322152e+00,\n",
       "        3.77022768e-01,  2.52308847e+00,  1.62252079e+00,  8.27696645e-01,\n",
       "        2.87874318e-01, -1.44588215e+00, -2.53312705e+00, -1.22906857e-01,\n",
       "        9.99124566e-01,  2.63176687e+00, -1.68294173e+00,  1.78854092e+00,\n",
       "        1.26230518e+00,  1.50163121e+00, -5.18581098e-01, -1.18688706e+00,\n",
       "       -9.15926277e-01, -1.09525865e+00,  1.41490461e-01, -6.96832505e-01,\n",
       "       -1.88863905e+00,  1.80366991e+00, -9.76577343e-01, -2.74321616e+00,\n",
       "        7.69244748e-02,  3.58866231e+00,  5.42339928e-02,  2.31459619e+00,\n",
       "        5.12951553e-01,  1.07636090e+00, -3.48043277e+00,  1.69165874e+00,\n",
       "        1.05385425e+00, -7.99061836e-01, -2.98721213e+00, -1.43285872e+00,\n",
       "       -7.03771272e-01, -1.13697702e-01,  2.74184837e+00, -9.88428701e-01,\n",
       "        1.31853522e+00, -4.52008045e+00,  1.77989214e+00,  8.04329229e-01,\n",
       "       -1.37048809e+00, -3.35534601e+00,  2.74080010e+00, -9.08850978e-01,\n",
       "       -1.48524049e+00,  5.71481288e-01,  6.32831780e-01,  2.49069218e+00,\n",
       "        2.73092200e-01, -2.17058548e-01,  9.44252503e-01, -1.44838629e-01,\n",
       "       -3.86813359e-01, -2.26234868e+00,  1.03657762e+00, -1.40530568e+00,\n",
       "       -1.20127946e+00,  5.71419652e-01,  9.35858214e-01, -1.94516401e+00,\n",
       "       -4.11940067e-01, -9.25658724e-01,  1.56926505e+00,  2.15228798e+00,\n",
       "        2.98420263e-01, -3.70409433e-02,  3.35388862e+00, -3.64628045e+00,\n",
       "       -1.83996866e+00, -4.24196828e-02, -7.12188858e-01,  5.04735358e-01,\n",
       "       -4.88103978e-01,  1.16088961e+00, -1.57936893e+00,  1.51320140e+00,\n",
       "        5.96731789e-01,  1.09029479e+00,  1.13722562e+00,  2.11296003e+00,\n",
       "        1.98389116e+00, -4.94808348e-01, -2.25555826e+00,  1.51565769e+00,\n",
       "       -7.91017891e-02, -1.08698233e+00,  4.01454959e-01, -3.85609832e+00,\n",
       "        2.58548991e+00, -2.88901013e+00,  1.97762141e+00, -2.28988868e+00,\n",
       "       -2.38863275e-01,  2.79152258e-01, -3.56412934e+00,  3.85168783e+00,\n",
       "        1.30265217e+00,  9.90547763e-01, -1.43260461e+00, -3.05540590e+00,\n",
       "       -4.09202393e-01,  2.39170482e+00,  1.01306999e+00, -4.60533227e-01,\n",
       "       -2.40970374e+00, -1.36366781e+00,  1.65849565e+00, -2.23231124e+00,\n",
       "       -3.59487647e-01,  6.89420656e-01,  8.13639210e-01, -6.84425926e-01,\n",
       "        1.11352161e+00, -1.32973245e+00, -1.79698072e+00,  4.34692334e-01,\n",
       "       -1.47884886e+00, -1.16347495e+00, -2.08138862e-01,  1.14059421e+00,\n",
       "       -9.81453981e-01, -3.09075894e+00, -2.06985841e+00, -2.71970734e+00,\n",
       "       -2.90727205e+00, -7.46724603e-01,  1.47837372e+00, -3.04566704e+00,\n",
       "        4.03477456e+00, -2.79436257e+00,  3.14024515e+00, -8.62567871e-01,\n",
       "        6.38991987e-01,  4.13543304e-02, -7.45146161e-01,  2.07827787e+00,\n",
       "       -1.12252991e+00,  2.95631650e+00, -2.17563048e+00, -3.38631535e+00,\n",
       "        9.63035981e-02,  1.10283421e+00,  1.85971248e+00,  1.66931459e+00,\n",
       "        4.98364120e+00, -2.01287355e+00, -9.52423944e-01, -1.12720439e-01,\n",
       "        3.32546440e+00,  3.15613438e+00, -6.28356428e-01, -2.82193159e+00])"
      ]
     },
     "execution_count": 18,
     "metadata": {},
     "output_type": "execute_result"
    }
   ],
   "source": [
    "predict(X, extracted_fit)"
   ]
  },
  {
   "cell_type": "markdown",
   "metadata": {},
   "source": [
    "Let's visualize the average CV loss."
   ]
  },
  {
   "cell_type": "code",
   "execution_count": 18,
   "metadata": {},
   "outputs": [
    {
     "data": {
      "text/plain": [
       "(<Figure size 900x600 with 1 Axes>,\n",
       " <Axes: title={'center': 'K-Fold CV Mean Loss'}, xlabel='$-\\\\log(\\\\lambda)$', ylabel='Mean Loss'>)"
      ]
     },
     "execution_count": 18,
     "metadata": {},
     "output_type": "execute_result"
    },
    {
     "data": {
      "image/png": "[encoded data removed]",
      "text/plain": [
       "<Figure size 900x600 with 1 Axes>"
      ]
     },
     "metadata": {},
     "output_type": "display_data"
    }
   ],
   "source": [
    "cv_fit.cv_plot()"
   ]
  },
  {
   "cell_type": "markdown",
   "metadata": {},
   "source": [
    "## Features with zero variance will be removed automatically"
   ]
  },
  {
   "cell_type": "markdown",
   "metadata": {},
   "source": [
    "If any column of our input data has zero variance, it will be removed by default."
   ]
  },
  {
   "cell_type": "code",
   "execution_count": 19,
   "metadata": {},
   "outputs": [
    {
     "data": {
      "text/html": [
       "<p style=\"color:red; font-weight:bold;\"> 1 out of 10 features have zero variance and will be removed.</p>"
      ],
      "text/plain": [
       "<IPython.core.display.HTML object>"
      ]
     },
     "metadata": {},
     "output_type": "display_data"
    },
    {
     "name": "stderr",
     "output_type": "stream",
     "text": [
      "100%|          | 0/1 [00:00:00<?, ?it/s]██████████| 1/1 [00:00:00<00:00:00, 731.35it/s] [dev:1.4%]██████████| 1/1 [00:00:00<00:00:00, 161.87it/s] [dev:1.4%]\n",
      "100%|          | 0/1 [00:00:00<?, ?it/s]██████████| 1/1 [00:00:00<00:00:00, 151.01it/s] [dev:0.3%]██████████| 1/1 [00:00:00<00:00:00, 54.91it/s] [dev:0.3%] \n",
      "100%|          | 0/1 [00:00:00<?, ?it/s]██████████| 1/1 [00:00:00<00:00:00, 925.60it/s] [dev:3.8%]██████████| 1/1 [00:00:00<00:00:00, 54.14it/s] [dev:3.8%] \n",
      "100%|          | 0/1 [00:00:00<?, ?it/s]██████████| 1/1 [00:00:00<00:00:00, 556.66it/s] [dev:0.6%]██████████| 1/1 [00:00:00<00:00:00, 62.77it/s] [dev:0.6%] \n",
      "100%|          | 0/1 [00:00:00<?, ?it/s]██████████| 1/1 [00:00:00<00:00:00, 1151.63it/s] [dev:0.0%]██████████| 1/1 [00:00:00<00:00:00, 109.83it/s] [dev:0.0%] \n",
      "100%|          | 0/1 [00:00:00<?, ?it/s]██████████| 1/1 [00:00:00<00:00:00, 908.06it/s] [dev:1.1%]██████████| 1/1 [00:00:00<00:00:00, 107.23it/s] [dev:1.1%]\n",
      "100%|          | 0/1 [00:00:00<?, ?it/s]██████████| 1/1 [00:00:00<00:00:00, 1078.99it/s] [dev:0.3%]██████████| 1/1 [00:00:00<00:00:00, 126.53it/s] [dev:0.3%] \n",
      "100%|          | 0/1 [00:00:00<?, ?it/s]██████████| 1/1 [00:00:00<00:00:00, 861.60it/s] [dev:0.2%]██████████| 1/1 [00:00:00<00:00:00, 103.77it/s] [dev:0.2%]\n",
      "100%|          | 0/1 [00:00:00<?, ?it/s]██████████| 1/1 [00:00:00<00:00:00, 512.26it/s] [dev:7.0%]██████████| 1/1 [00:00:00<00:00:00, 74.49it/s] [dev:7.0%] \n",
      "100%|          | 0/4 [00:00:00<?, ?it/s]██████████| 4/4 [00:00:00<00:00:00, 2270.63it/s] [dev:10.8%]██████████| 4/4 [00:00:00<00:00:00, 388.46it/s] [dev:10.8%] \n"
     ]
    },
    {
     "data": {
      "text/html": [
       "\n",
       "\n",
       "<b> --- UniLasso Results --- </b>"
      ],
      "text/plain": [
       "<IPython.core.display.HTML object>"
      ]
     },
     "metadata": {},
     "output_type": "display_data"
    },
    {
     "name": "stdout",
     "output_type": "stream",
     "text": [
      "Number of Selected Features: [4 2 0 0]\n",
      "Regularization path (rounded to 3 decimal places): [0.01 0.02 0.1  0.2 ]\n"
     ]
    }
   ],
   "source": [
    "X, y = simulate_binomial_data(n=1000, p=10)\n",
    "\n",
    "# Make the first column zero variance\n",
    "X[:, 0] = 1\n",
    "zero_var_fit = fit_unilasso(X,\n",
    "                            y,\n",
    "                            family = 'binomial',\n",
    "                            lmdas = [0.01, 0.02, 0.1, 0.2], \n",
    "                            verbose = True\n",
    "                            )"
   ]
  },
  {
   "cell_type": "markdown",
   "metadata": {},
   "source": [
    "Note that the corresponding coefficient for the first column is 0 across regularization parameters."
   ]
  },
  {
   "cell_type": "code",
   "execution_count": 20,
   "metadata": {},
   "outputs": [
    {
     "name": "stdout",
     "output_type": "stream",
     "text": [
      "[0. 0. 0. 0.]\n"
     ]
    }
   ],
   "source": [
    "print(zero_var_fit.coef[:, 0])"
   ]
  },
  {
   "cell_type": "code",
   "execution_count": null,
   "metadata": {},
   "outputs": [],
   "source": []
  }
 ],
 "metadata": {
  "kernelspec": {
   "display_name": "test_env",
   "language": "python",
   "name": "python3"
  },
  "language_info": {
   "codemirror_mode": {
    "name": "ipython",
    "version": 3
   },
   "file_extension": ".py",
   "mimetype": "text/x-python",
   "name": "python",
   "nbconvert_exporter": "python",
   "pygments_lexer": "ipython3",
   "version": "3.9.13"
  }
 },
 "nbformat": 4,
 "nbformat_minor": 2
}
