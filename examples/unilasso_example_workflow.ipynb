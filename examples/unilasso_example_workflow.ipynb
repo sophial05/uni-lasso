{
 "cells": [
  {
   "cell_type": "markdown",
   "metadata": {},
   "source": [
    "# Fitting `UniLasso` for specified regularization path"
   ]
  },
  {
   "cell_type": "code",
   "execution_count": 1,
   "metadata": {},
   "outputs": [],
   "source": [
    "from unilasso import *"
   ]
  },
  {
   "cell_type": "markdown",
   "metadata": {},
   "source": [
    "## Linear Regression Example"
   ]
  },
  {
   "cell_type": "markdown",
   "metadata": {},
   "source": [
    "Let's first simulate some data using the included simulation script provided by the package.\n",
    "\n",
    "Then we fit UniLasso for specified regularization path, `0.01, 0.02, 0.1, 0.2` (ordering does not matter)."
   ]
  },
  {
   "cell_type": "code",
   "execution_count": 2,
   "metadata": {},
   "outputs": [
    {
     "name": "stderr",
     "output_type": "stream",
     "text": [
      " 75%|          | 0/4 [00:00:00<?, ?it/s]███████   | 3/4 [00:00:00<00:00:00, 1878.91it/s] [dev:94.1%]\n"
     ]
    },
    {
     "data": {
      "text/html": [
       "<p style=\"color:red; font-weight:bold;\"> Warning: The following regularization strengths were removed: [0.01]</p>"
      ],
      "text/plain": [
       "<IPython.core.display.HTML object>"
      ]
     },
     "metadata": {},
     "output_type": "display_data"
    }
   ],
   "source": [
    "X, y = simulate_gaussian_data(n=1000, p=100)\n",
    "gaussian_fit = fit_unilasso(X, \n",
    "                            y, \n",
    "                            family = 'gaussian',\n",
    "                            lmdas = [0.01, 0.02, 0.1, 0.2] # Regularization parameters for Lasso\n",
    "                            )"
   ]
  },
  {
   "cell_type": "markdown",
   "metadata": {},
   "source": [
    "We should print out the regularization path to see for which parameters the `UniLasso` model was run."
   ]
  },
  {
   "cell_type": "code",
   "execution_count": 3,
   "metadata": {},
   "outputs": [
    {
     "name": "stdout",
     "output_type": "stream",
     "text": [
      "[0.01 0.02 0.1 ]\n"
     ]
    }
   ],
   "source": [
    "print(gaussian_fit.lmdas)"
   ]
  },
  {
   "cell_type": "markdown",
   "metadata": {},
   "source": [
    "Now, we can extract the returned coefficients and intercepts and print their shapes."
   ]
  },
  {
   "cell_type": "code",
   "execution_count": 4,
   "metadata": {},
   "outputs": [
    {
     "name": "stdout",
     "output_type": "stream",
     "text": [
      "(3, 100)\n",
      "(3,)\n"
     ]
    }
   ],
   "source": [
    "coef, intercept = gaussian_fit.coef, gaussian_fit.intercept\n",
    "\n",
    "print(coef.shape)\n",
    "print(intercept.shape)"
   ]
  },
  {
   "cell_type": "markdown",
   "metadata": {},
   "source": [
    "`coef[0, :]` correpsonds to the coefficients for $\\lambda = 0.02$."
   ]
  },
  {
   "cell_type": "code",
   "execution_count": 5,
   "metadata": {},
   "outputs": [
    {
     "data": {
      "text/plain": [
       "array([ 0.        ,  0.64517425,  0.24763923,  0.11980934,  0.02511094,\n",
       "        0.9252998 ,  0.92927416, -0.42106476, -0.95426349, -0.        ,\n",
       "       -0.7079709 , -0.94140706,  0.        , -0.        , -0.        ,\n",
       "       -0.86999738,  1.07971112,  0.        ,  0.59667934, -0.        ,\n",
       "       -0.53472791,  0.4671035 , -0.5007077 , -0.01318105, -0.42635577,\n",
       "        0.48696643, -0.85215635,  0.39177325, -0.60745113, -0.56576366,\n",
       "        1.07417768, -0.64021586, -0.42054226, -0.74488953, -1.02084535,\n",
       "        0.27253834, -0.67319139,  0.82615115,  0.65788569,  1.08202935,\n",
       "        0.65185678, -0.25936277, -0.30073546,  0.99072818, -0.55946036,\n",
       "       -0.        ,  0.        ,  0.8189087 ,  0.        , -0.        ,\n",
       "        0.        ,  0.        , -0.93842582,  0.85933497, -0.        ,\n",
       "       -0.58922277,  1.03780681,  0.12086537,  1.00933905,  0.39634973,\n",
       "        0.89569495,  0.36121884, -0.        , -0.82507806, -0.95377402,\n",
       "        0.72192057, -0.58999044,  0.0639217 , -1.10929861,  0.        ,\n",
       "       -1.10613364,  0.02344842, -0.65695135,  0.85086544,  1.09322012,\n",
       "       -0.82242868,  0.78527731, -0.97756329, -0.23523616, -0.34844679,\n",
       "        0.39489553,  0.91251858, -0.        ,  0.92293649,  1.15830397,\n",
       "       -0.        , -1.07567229, -0.41084817, -0.        ,  0.29425287,\n",
       "       -0.81490967, -0.33094879, -0.78984127, -0.34322372,  0.66919385,\n",
       "       -0.07358405,  0.18328464,  1.11515478,  0.28166304, -0.71320375])"
      ]
     },
     "execution_count": 5,
     "metadata": {},
     "output_type": "execute_result"
    }
   ],
   "source": [
    "coef[0, ]"
   ]
  },
  {
   "cell_type": "markdown",
   "metadata": {},
   "source": [
    "### Predict on new data"
   ]
  },
  {
   "cell_type": "markdown",
   "metadata": {},
   "source": [
    "To get predictions, we call `predict`:"
   ]
  },
  {
   "cell_type": "code",
   "execution_count": 6,
   "metadata": {},
   "outputs": [
    {
     "name": "stdout",
     "output_type": "stream",
     "text": [
      "(1000, 3)\n"
     ]
    }
   ],
   "source": [
    "y_hat = predict(X, gaussian_fit)\n",
    "print(y_hat.shape)"
   ]
  },
  {
   "cell_type": "markdown",
   "metadata": {},
   "source": [
    "We can also call `predict` for a specific index of $\\lambda$:"
   ]
  },
  {
   "cell_type": "code",
   "execution_count": 7,
   "metadata": {},
   "outputs": [
    {
     "name": "stdout",
     "output_type": "stream",
     "text": [
      "(1000,)\n"
     ]
    }
   ],
   "source": [
    "y_hat_lmda_1 = predict(X, gaussian_fit, lmda_idx = 1)\n",
    "print(y_hat_lmda_1.shape)"
   ]
  },
  {
   "cell_type": "markdown",
   "metadata": {},
   "source": [
    "### One regularization parameter"
   ]
  },
  {
   "cell_type": "markdown",
   "metadata": {},
   "source": [
    "We can also input only one regularization parameter:"
   ]
  },
  {
   "cell_type": "code",
   "execution_count": 8,
   "metadata": {},
   "outputs": [
    {
     "name": "stderr",
     "output_type": "stream",
     "text": [
      "100%|          | 0/1 [00:00:00<?, ?it/s]██████████| 1/1 [00:00:00<00:00:00, 1090.76it/s] [dev:68.9%]██████████| 1/1 [00:00:00<00:00:00, 280.78it/s] [dev:68.9%] \n"
     ]
    },
    {
     "data": {
      "text/html": [
       "\n",
       "\n",
       "<b> --- UniLasso Results --- </b>"
      ],
      "text/plain": [
       "<IPython.core.display.HTML object>"
      ]
     },
     "metadata": {},
     "output_type": "display_data"
    },
    {
     "name": "stdout",
     "output_type": "stream",
     "text": [
      "Number of Selected Features: 53\n",
      "Regularization path (rounded to 3 decimal places): [0.2]\n"
     ]
    }
   ],
   "source": [
    "gaussian_fit_one_lmda = fit_unilasso(X, y, family = 'gaussian', lmdas = 0.2, verbose = True)"
   ]
  },
  {
   "cell_type": "markdown",
   "metadata": {},
   "source": [
    "## Logistic Regression Example"
   ]
  },
  {
   "cell_type": "markdown",
   "metadata": {},
   "source": [
    "Now we run an example logistic regression model using `UniLasso`. We set `verbose = True` to print out some summary information of the model."
   ]
  },
  {
   "cell_type": "code",
   "execution_count": 9,
   "metadata": {},
   "outputs": [
    {
     "name": "stderr",
     "output_type": "stream",
     "text": [
      "100%|          | 0/1 [00:00:00<?, ?it/s]██████████| 1/1 [00:00:00<00:00:00, 28.75it/s] [dev:0.2%]██████████| 1/1 [00:00:00<00:00:00, 15.92it/s] [dev:0.2%]\n",
      "100%|          | 0/1 [00:00:00<?, ?it/s]██████████| 1/1 [00:00:00<00:00:00, 530.81it/s] [dev:0.2%]██████████| 1/1 [00:00:00<00:00:00, 127.74it/s] [dev:0.2%]\n",
      "100%|          | 0/1 [00:00:00<?, ?it/s]██████████| 1/1 [00:00:00<00:00:00, 1310.69it/s] [dev:0.7%]██████████| 1/1 [00:00:00<00:00:00, 158.88it/s] [dev:0.7%] \n",
      "100%|          | 0/1 [00:00:00<?, ?it/s]██████████| 1/1 [00:00:00<00:00:00, 1121.55it/s] [dev:2.3%]██████████| 1/1 [00:00:00<00:00:00, 183.38it/s] [dev:2.3%] \n",
      "100%|          | 0/1 [00:00:00<?, ?it/s]██████████| 1/1 [00:00:00<00:00:00, 1649.60it/s] [dev:3.2%]██████████| 1/1 [00:00:00<00:00:00, 181.12it/s] [dev:3.2%] \n",
      "100%|          | 0/1 [00:00:00<?, ?it/s]██████████| 1/1 [00:00:00<00:00:00, 1376.07it/s] [dev:5.1%]██████████| 1/1 [00:00:00<00:00:00, 182.71it/s] [dev:5.1%] \n",
      "100%|          | 0/1 [00:00:00<?, ?it/s]██████████| 1/1 [00:00:00<00:00:00, 1409.36it/s] [dev:3.5%]██████████| 1/1 [00:00:00<00:00:00, 175.59it/s] [dev:3.5%] \n",
      "100%|          | 0/1 [00:00:00<?, ?it/s]██████████| 1/1 [00:00:00<00:00:00, 937.68it/s] [dev:4.3%]██████████| 1/1 [00:00:00<00:00:00, 173.48it/s] [dev:4.3%]\n",
      "100%|          | 0/1 [00:00:00<?, ?it/s]██████████| 1/1 [00:00:00<00:00:00, 1579.47it/s] [dev:0.2%]██████████| 1/1 [00:00:00<00:00:00, 186.72it/s] [dev:0.2%] \n",
      "100%|          | 0/1 [00:00:00<?, ?it/s]██████████| 1/1 [00:00:00<00:00:00, 1062.89it/s] [dev:6.7%]██████████| 1/1 [00:00:00<00:00:00, 166.91it/s] [dev:6.7%] \n",
      "100%|          | 0/4 [00:00:00<?, ?it/s]██████████| 4/4 [00:00:00<00:00:00, 2873.39it/s] [dev:25.4%]██████████| 4/4 [00:00:00<00:00:00, 549.39it/s] [dev:25.4%] \n"
     ]
    },
    {
     "data": {
      "text/html": [
       "\n",
       "\n",
       "<b> --- UniLasso Results --- </b>"
      ],
      "text/plain": [
       "<IPython.core.display.HTML object>"
      ]
     },
     "metadata": {},
     "output_type": "display_data"
    },
    {
     "name": "stdout",
     "output_type": "stream",
     "text": [
      "Number of Selected Features: [6 6 0 0]\n",
      "Regularization path (rounded to 3 decimal places): [0.01 0.02 0.1  0.2 ]\n"
     ]
    }
   ],
   "source": [
    "X, y = simulate_binomial_data(n=1000, p=10)\n",
    "\n",
    "binomial_fit = fit_unilasso(X,\n",
    "                            y,\n",
    "                            family = 'binomial',\n",
    "                            lmdas = [0.01, 0.02, 0.1, 0.2], # Regularization parameters for Lasso\n",
    "                            verbose = True\n",
    "                            )"
   ]
  },
  {
   "cell_type": "code",
   "execution_count": 10,
   "metadata": {},
   "outputs": [
    {
     "data": {
      "text/plain": [
       "array([0.01, 0.02, 0.1 , 0.2 ])"
      ]
     },
     "execution_count": 10,
     "metadata": {},
     "output_type": "execute_result"
    }
   ],
   "source": [
    "binomial_fit.lmdas"
   ]
  },
  {
   "cell_type": "markdown",
   "metadata": {},
   "source": [
    "## Survival Analysis Example"
   ]
  },
  {
   "cell_type": "code",
   "execution_count": 11,
   "metadata": {},
   "outputs": [
    {
     "name": "stderr",
     "output_type": "stream",
     "text": [
      "100%|          | 0/1 [00:00:00<?, ?it/s]██████████| 1/1 [00:00:00<00:00:00, 12.94it/s] [dev:0.7%]██████████| 1/1 [00:00:00<00:00:00, 11.28it/s] [dev:0.7%]\n",
      "100%|          | 0/1 [00:00:00<?, ?it/s]██████████| 1/1 [00:00:00<00:00:00, 745.41it/s] [dev:1.1%]██████████| 1/1 [00:00:00<00:00:00, 79.38it/s] [dev:1.1%] \n",
      "100%|          | 0/1 [00:00:00<?, ?it/s]██████████| 1/1 [00:00:00<00:00:00, 326.05it/s] [dev:0.5%]██████████| 1/1 [00:00:00<00:00:00, 89.77it/s] [dev:0.5%] \n",
      "100%|          | 0/1 [00:00:00<?, ?it/s]██████████| 1/1 [00:00:00<00:00:00, 369.12it/s] [dev:1.5%]██████████| 1/1 [00:00:00<00:00:00, 81.71it/s] [dev:1.5%] \n",
      "100%|          | 0/1 [00:00:00<?, ?it/s]██████████| 1/1 [00:00:00<00:00:00, 1108.95it/s] [dev:0.1%]██████████| 1/1 [00:00:00<00:00:00, 78.21it/s] [dev:0.1%]  \n",
      "100%|          | 0/1 [00:00:00<?, ?it/s]██████████| 1/1 [00:00:00<00:00:00, 494.55it/s] [dev:1.5%]██████████| 1/1 [00:00:00<00:00:00, 65.78it/s] [dev:1.5%] \n",
      "100%|          | 0/1 [00:00:00<?, ?it/s]██████████| 1/1 [00:00:00<00:00:00, 988.75it/s] [dev:1.1%]██████████| 1/1 [00:00:00<00:00:00, 147.62it/s] [dev:1.1%]\n",
      "100%|          | 0/1 [00:00:00<?, ?it/s]██████████| 1/1 [00:00:00<00:00:00, 1089.72it/s] [dev:0.3%]██████████| 1/1 [00:00:00<00:00:00, 185.64it/s] [dev:0.3%] \n",
      "100%|          | 0/1 [00:00:00<?, ?it/s]██████████| 1/1 [00:00:00<00:00:00, 2156.92it/s] [dev:1.1%]██████████| 1/1 [00:00:00<00:00:00, 386.14it/s] [dev:1.1%] \n",
      "100%|          | 0/1 [00:00:00<?, ?it/s]██████████| 1/1 [00:00:00<00:00:00, 1707.09it/s] [dev:0.0%]██████████| 1/1 [00:00:00<00:00:00, 369.65it/s] [dev:0.0%] \n",
      "100%|          | 0/4 [00:00:00<?, ?it/s]██████████| 4/4 [00:00:00<00:00:00, 2251.67it/s] [dev:13.2%]██████████| 4/4 [00:00:00<00:00:00, 1043.40it/s] [dev:13.2%]\n"
     ]
    },
    {
     "data": {
      "text/html": [
       "\n",
       "\n",
       "<b> --- UniLasso Results --- </b>"
      ],
      "text/plain": [
       "<IPython.core.display.HTML object>"
      ]
     },
     "metadata": {},
     "output_type": "display_data"
    },
    {
     "name": "stdout",
     "output_type": "stream",
     "text": [
      "Number of Selected Features: [9 8 2 0]\n",
      "Regularization path (rounded to 3 decimal places): [0.01 0.02 0.1  0.2 ]\n"
     ]
    }
   ],
   "source": [
    "X, y = simulate_cox_data(n=1000, p=10)\n",
    "\n",
    "cox_fit = fit_unilasso(X,\n",
    "                       y,\n",
    "                       family = 'cox',\n",
    "                       lmdas = [0.01, 0.02, 0.1, 0.2], # Regularization parameters for Lasso\n",
    "                       verbose = True\n",
    "                       )"
   ]
  },
  {
   "cell_type": "markdown",
   "metadata": {},
   "source": [
    "# Cross-validated `UniLasso`"
   ]
  },
  {
   "cell_type": "markdown",
   "metadata": {},
   "source": [
    "If we don't have a prespecified list of regularization path or regularization parameter, we can perform cross-validation to select a penalization parameter for us. We again begin by simulating some Gaussian data."
   ]
  },
  {
   "cell_type": "code",
   "execution_count": 12,
   "metadata": {},
   "outputs": [],
   "source": [
    "X, y = simulate_gaussian_data(n=1000, p=10)"
   ]
  },
  {
   "cell_type": "code",
   "execution_count": 13,
   "metadata": {},
   "outputs": [
    {
     "name": "stderr",
     "output_type": "stream",
     "text": [
      "100%|          | 0/101 [00:00:00<?, ?it/s]██████████| 101/101 [00:00:00<00:00:00, 7022.00it/s] [dev:75.9%]██████████| 101/101 [00:00:00<00:00:00, 3273.86it/s] [dev:75.9%]\n",
      "100%|          | 0/101 [00:00:00<?, ?it/s]██████████| 101/101 [00:00:00<00:00:00, 22037.97it/s] [dev:76.0%]██████████| 101/101 [00:00:00<00:00:00, 5956.21it/s] [dev:76.0%] \n",
      "100%|          | 0/100 [00:00:00<?, ?it/s]██████████| 100/100 [00:00:00<00:00:00, 56626.46it/s] [dev:75.7%]██████████| 100/100 [00:00:00<00:00:00, 24108.49it/s] [dev:75.7%]\n",
      "100%|          | 0/101 [00:00:00<?, ?it/s]██████████| 101/101 [00:00:00<00:00:00, 55456.42it/s] [dev:75.1%]██████████| 101/101 [00:00:00<00:00:00, 25799.86it/s] [dev:75.1%]\n",
      "100%|          | 0/100 [00:00:00<?, ?it/s]██████████| 100/100 [00:00:00<00:00:00, 48078.84it/s] [dev:74.7%]██████████| 100/100 [00:00:00<00:00:00, 24150.46it/s] [dev:74.7%]\n",
      "100%|          | 0/100 [00:00:00<?, ?it/s]██████████| 100/100 [00:00:00<00:00:00, 56697.38it/s] [dev:75.4%]██████████| 100/100 [00:00:00<00:00:00, 24405.87it/s] [dev:75.4%]\n"
     ]
    },
    {
     "data": {
      "text/html": [
       "\n",
       "\n",
       "<b> --- UniLasso Results --- </b>"
      ],
      "text/plain": [
       "<IPython.core.display.HTML object>"
      ]
     },
     "metadata": {},
     "output_type": "display_data"
    },
    {
     "name": "stdout",
     "output_type": "stream",
     "text": [
      "Number of Selected Features: [ 0  1  1  1  2  2  3  4  4  4  4  4  5  5  5  5  5  5  5  5  6  7  8  8\n",
      "  8  8  9  9  9  9  9 10 10 10 10 10 10 10 10 10 10 10 10 10 10 10 10 10\n",
      " 10 10 10 10 10 10 10 10 10 10 10 10 10 10 10 10 10 10 10 10 10 10 10 10\n",
      " 10 10 10 10 10 10 10 10 10 10 10 10 10 10 10 10 10 10 10 10 10 10 10 10\n",
      " 10 10 10 10]\n",
      "Regularization path (rounded to 3 decimal places): [1.018e+00 9.060e-01 8.070e-01 7.180e-01 6.390e-01 5.690e-01 5.070e-01\n",
      " 4.510e-01 4.010e-01 3.570e-01 3.180e-01 2.830e-01 2.520e-01 2.240e-01\n",
      " 2.000e-01 1.780e-01 1.580e-01 1.410e-01 1.250e-01 1.120e-01 9.900e-02\n",
      " 8.900e-02 7.900e-02 7.000e-02 6.200e-02 5.600e-02 4.900e-02 4.400e-02\n",
      " 3.900e-02 3.500e-02 3.100e-02 2.800e-02 2.500e-02 2.200e-02 2.000e-02\n",
      " 1.700e-02 1.500e-02 1.400e-02 1.200e-02 1.100e-02 1.000e-02 9.000e-03\n",
      " 8.000e-03 7.000e-03 6.000e-03 5.000e-03 5.000e-03 4.000e-03 4.000e-03\n",
      " 3.000e-03 3.000e-03 3.000e-03 2.000e-03 2.000e-03 2.000e-03 2.000e-03\n",
      " 2.000e-03 1.000e-03 1.000e-03 1.000e-03 1.000e-03 1.000e-03 1.000e-03\n",
      " 1.000e-03 1.000e-03 1.000e-03 0.000e+00 0.000e+00 0.000e+00 0.000e+00\n",
      " 0.000e+00 0.000e+00 0.000e+00 0.000e+00 0.000e+00 0.000e+00 0.000e+00\n",
      " 0.000e+00 0.000e+00 0.000e+00 0.000e+00 0.000e+00 0.000e+00 0.000e+00\n",
      " 0.000e+00 0.000e+00 0.000e+00 0.000e+00 0.000e+00 0.000e+00 0.000e+00\n",
      " 0.000e+00 0.000e+00 0.000e+00 0.000e+00 0.000e+00 0.000e+00 0.000e+00\n",
      " 0.000e+00 0.000e+00]\n",
      "Best Regularization Parameter: 1.0177948743760662e-05\n"
     ]
    }
   ],
   "source": [
    "cv_fit = cv_unilasso(X,\n",
    "                     y,\n",
    "                     family = 'gaussian',\n",
    "                     verbose = True\n",
    "                     )"
   ]
  },
  {
   "cell_type": "markdown",
   "metadata": {},
   "source": [
    "Now, we can extract the best $\\lambda$."
   ]
  },
  {
   "cell_type": "code",
   "execution_count": 14,
   "metadata": {},
   "outputs": [
    {
     "name": "stdout",
     "output_type": "stream",
     "text": [
      "1.0177948743760662e-05\n"
     ]
    }
   ],
   "source": [
    "best_lmda = cv_fit.best_lmda\n",
    "print(best_lmda)"
   ]
  },
  {
   "cell_type": "markdown",
   "metadata": {},
   "source": [
    "We can also extract the coefficients and intercept corresponding to the best model as follows:"
   ]
  },
  {
   "cell_type": "code",
   "execution_count": 20,
   "metadata": {},
   "outputs": [
    {
     "name": "stdout",
     "output_type": "stream",
     "text": [
      "Best coefficients and intercepts:\n",
      "\n",
      "-------------------\n",
      "\n",
      "[-0.28223896  0.19819552  0.46797904 -0.67367243 -0.25874964 -0.2473679\n",
      " -0.99268673  0.15659642 -0.69177337  0.80878362]\n",
      "\n",
      "-------------------\n",
      "\n",
      "-0.02164414618091881\n"
     ]
    }
   ],
   "source": [
    "best_coef, best_intercept = extract_cv_unilasso(cv_fit)\n",
    "\n",
    "print(\"Best coefficients and intercepts:\")\n",
    "print('\\n-------------------\\n')\n",
    "print(best_coef)\n",
    "print('\\n-------------------\\n')\n",
    "print(best_intercept)"
   ]
  },
  {
   "cell_type": "markdown",
   "metadata": {},
   "source": [
    "Let's visualize the average CV loss."
   ]
  },
  {
   "cell_type": "code",
   "execution_count": 21,
   "metadata": {},
   "outputs": [
    {
     "data": {
      "text/plain": [
       "(<Figure size 900x600 with 1 Axes>,\n",
       " <Axes: title={'center': 'K-Fold CV Mean Loss'}, xlabel='$-\\\\log(\\\\lambda)$', ylabel='Mean Loss'>)"
      ]
     },
     "execution_count": 21,
     "metadata": {},
     "output_type": "execute_result"
    },
    {
     "data": {
      "image/png": "[encoded data removed]",
      "text/plain": [
       "<Figure size 900x600 with 1 Axes>"
      ]
     },
     "metadata": {},
     "output_type": "display_data"
    }
   ],
   "source": [
    "cv_fit.cv_plot()"
   ]
  },
  {
   "cell_type": "markdown",
   "metadata": {},
   "source": [
    "## Features with zero variance will be removed automatically"
   ]
  },
  {
   "cell_type": "markdown",
   "metadata": {},
   "source": [
    "If any column of our input data has zero variance, it will be removed by default."
   ]
  },
  {
   "cell_type": "code",
   "execution_count": 22,
   "metadata": {},
   "outputs": [
    {
     "data": {
      "text/html": [
       "<p style=\"color:red; font-weight:bold;\"> 1 out of 10 features have zero variance and will be removed.</p>"
      ],
      "text/plain": [
       "<IPython.core.display.HTML object>"
      ]
     },
     "metadata": {},
     "output_type": "display_data"
    },
    {
     "name": "stderr",
     "output_type": "stream",
     "text": [
      "100%|          | 0/1 [00:00:00<?, ?it/s]██████████| 1/1 [00:00:00<00:00:00, 207.80it/s] [dev:3.4%]██████████| 1/1 [00:00:00<00:00:00, 83.04it/s] [dev:3.4%] \n",
      "100%|          | 0/1 [00:00:00<?, ?it/s]██████████| 1/1 [00:00:00<00:00:00, 434.59it/s] [dev:2.7%]██████████| 1/1 [00:00:00<00:00:00, 119.33it/s] [dev:2.7%]\n",
      "100%|          | 0/1 [00:00:00<?, ?it/s]██████████| 1/1 [00:00:00<00:00:00, 1354.55it/s] [dev:9.6%]██████████| 1/1 [00:00:00<00:00:00, 165.05it/s] [dev:9.6%] \n",
      "100%|          | 0/1 [00:00:00<?, ?it/s]██████████| 1/1 [00:00:00<00:00:00, 1341.31it/s] [dev:0.3%]██████████| 1/1 [00:00:00<00:00:00, 183.90it/s] [dev:0.3%] \n",
      "100%|          | 0/1 [00:00:00<?, ?it/s]██████████| 1/1 [00:00:00<00:00:00, 1503.38it/s] [dev:1.0%]██████████| 1/1 [00:00:00<00:00:00, 171.89it/s] [dev:1.0%] \n",
      "100%|          | 0/1 [00:00:00<?, ?it/s]██████████| 1/1 [00:00:00<00:00:00, 879.25it/s] [dev:1.0%]██████████| 1/1 [00:00:00<00:00:00, 119.93it/s] [dev:1.0%]\n",
      "100%|          | 0/1 [00:00:00<?, ?it/s]██████████| 1/1 [00:00:00<00:00:00, 892.53it/s] [dev:0.0%]██████████| 1/1 [00:00:00<00:00:00, 141.20it/s] [dev:0.0%]\n",
      "100%|          | 0/1 [00:00:00<?, ?it/s]██████████| 1/1 [00:00:00<00:00:00, 2803.74it/s] [dev:0.5%]██████████| 1/1 [00:00:00<00:00:00, 267.32it/s] [dev:0.5%] \n",
      "100%|          | 0/1 [00:00:00<?, ?it/s]██████████| 1/1 [00:00:00<00:00:00, 2197.00it/s] [dev:3.2%]██████████| 1/1 [00:00:00<00:00:00, 345.71it/s] [dev:3.2%] \n",
      "100%|          | 0/4 [00:00:00<?, ?it/s]██████████| 4/4 [00:00:00<00:00:00, 5681.14it/s] [dev:19.2%]██████████| 4/4 [00:00:00<00:00:00, 1092.41it/s] [dev:19.2%]\n"
     ]
    },
    {
     "data": {
      "text/html": [
       "\n",
       "\n",
       "<b> --- UniLasso Results --- </b>"
      ],
      "text/plain": [
       "<IPython.core.display.HTML object>"
      ]
     },
     "metadata": {},
     "output_type": "display_data"
    },
    {
     "name": "stdout",
     "output_type": "stream",
     "text": [
      "Number of Selected Features: [5 4 1 0]\n",
      "Regularization path (rounded to 3 decimal places): [0.01 0.02 0.1  0.2 ]\n"
     ]
    }
   ],
   "source": [
    "X, y = simulate_binomial_data(n=1000, p=10)\n",
    "\n",
    "# Make the first column zero variance\n",
    "X[:, 0] = 1\n",
    "zero_var_fit = fit_unilasso(X,\n",
    "                            y,\n",
    "                            family = 'binomial',\n",
    "                            lmdas = [0.01, 0.02, 0.1, 0.2], \n",
    "                            verbose = True\n",
    "                            )"
   ]
  },
  {
   "cell_type": "markdown",
   "metadata": {},
   "source": [
    "Note that the corresponding coefficient for the first column is 0 across regularization parameters."
   ]
  },
  {
   "cell_type": "code",
   "execution_count": 23,
   "metadata": {},
   "outputs": [
    {
     "name": "stdout",
     "output_type": "stream",
     "text": [
      "[0. 0. 0. 0.]\n"
     ]
    }
   ],
   "source": [
    "print(zero_var_fit.coef[:, 0])"
   ]
  },
  {
   "cell_type": "code",
   "execution_count": null,
   "metadata": {},
   "outputs": [],
   "source": []
  }
 ],
 "metadata": {
  "kernelspec": {
   "display_name": "test_env",
   "language": "python",
   "name": "python3"
  },
  "language_info": {
   "codemirror_mode": {
    "name": "ipython",
    "version": 3
   },
   "file_extension": ".py",
   "mimetype": "text/x-python",
   "name": "python",
   "nbconvert_exporter": "python",
   "pygments_lexer": "ipython3",
   "version": "3.9.13"
  }
 },
 "nbformat": 4,
 "nbformat_minor": 2
}
