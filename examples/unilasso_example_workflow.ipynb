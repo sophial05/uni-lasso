{
 "cells": [
  {
   "cell_type": "markdown",
   "metadata": {},
   "source": [
    "# Fitting `UniLasso` for specified regularization path"
   ]
  },
  {
   "cell_type": "code",
   "execution_count": 1,
   "metadata": {},
   "outputs": [],
   "source": [
    "from unilasso import *"
   ]
  },
  {
   "cell_type": "markdown",
   "metadata": {},
   "source": [
    "## Linear Regression Example"
   ]
  },
  {
   "cell_type": "markdown",
   "metadata": {},
   "source": [
    "Let's first simulate some data using the included simulation script provided by the package.\n",
    "\n",
    "Then we fit UniLasso for specified regularization path, `0.01, 0.02, 0.1, 0.2` (ordering does not matter)."
   ]
  },
  {
   "cell_type": "code",
   "execution_count": 2,
   "metadata": {},
   "outputs": [
    {
     "name": "stderr",
     "output_type": "stream",
     "text": [
      " 83%|          | 0/6 [00:00:00<?, ?it/s]████████  | 5/6 [00:00:00<00:00:00, 2786.49it/s] [dev:94.5%]\n"
     ]
    },
    {
     "data": {
      "text/html": [
       "<p style=\"color:red; font-weight:bold;\"> Warning: The following regularization strengths were removed: [0.0100]</p>"
      ],
      "text/plain": [
       "<IPython.core.display.HTML object>"
      ]
     },
     "metadata": {},
     "output_type": "display_data"
    }
   ],
   "source": [
    "X, y = simulate_gaussian_data(n=1000, p=100)\n",
    "gaussian_fit = fit_unilasso(X, \n",
    "                            y, \n",
    "                            family = 'gaussian',\n",
    "                            lmdas = [0.01, 0.02, 0.1, 0.2, 0.3, 1.0] # Regularization parameters for Lasso\n",
    "                            )"
   ]
  },
  {
   "cell_type": "markdown",
   "metadata": {},
   "source": [
    "We should print out the regularization path to see for which parameters the `UniLasso` model was run."
   ]
  },
  {
   "cell_type": "code",
   "execution_count": 3,
   "metadata": {},
   "outputs": [
    {
     "name": "stdout",
     "output_type": "stream",
     "text": [
      "[0.02 0.1  0.2  0.3  1.  ]\n"
     ]
    }
   ],
   "source": [
    "print(gaussian_fit.lmdas)"
   ]
  },
  {
   "cell_type": "markdown",
   "metadata": {},
   "source": [
    "Now, we can extract the returned coefficients and intercepts and print their shapes."
   ]
  },
  {
   "cell_type": "code",
   "execution_count": 4,
   "metadata": {},
   "outputs": [
    {
     "name": "stdout",
     "output_type": "stream",
     "text": [
      "(5, 100)\n",
      "(5,)\n"
     ]
    }
   ],
   "source": [
    "coefs, intercept = gaussian_fit.coefs, gaussian_fit.intercept\n",
    "\n",
    "print(coefs.shape)\n",
    "print(intercept.shape)"
   ]
  },
  {
   "cell_type": "markdown",
   "metadata": {},
   "source": [
    "`coefs[0, :]` correpsonds to the coefficients for $\\lambda = 0.02$."
   ]
  },
  {
   "cell_type": "code",
   "execution_count": 6,
   "metadata": {},
   "outputs": [
    {
     "data": {
      "text/plain": [
       "array([-1.09541414, -0.        ,  0.82024508,  0.77745211, -0.        ,\n",
       "        0.44745637,  0.95723691, -0.        ,  0.41408348,  0.88617359,\n",
       "       -0.94839637,  0.95200045,  0.90903028, -0.20220131, -0.06217101,\n",
       "       -0.        , -0.44404788, -0.        ,  0.77756631,  0.68177469,\n",
       "       -0.90131288, -0.07193463,  0.13182879,  0.        , -0.45205902,\n",
       "        0.42099581,  0.        ,  0.00814767,  1.10148812,  0.26076684,\n",
       "       -0.30548974,  0.16776085,  0.44262079, -0.63378636, -0.44408975,\n",
       "        0.        , -0.44631712, -0.51177608, -0.26266035,  0.35516761,\n",
       "       -0.49521736,  0.        , -0.78864177,  0.80735614, -0.51111021,\n",
       "       -0.9732944 ,  0.14708801, -0.06469732,  1.08838356, -0.        ,\n",
       "       -0.34308034, -0.50204907, -0.78167633, -0.23594137, -0.33065111,\n",
       "       -0.97607235,  0.        ,  1.08537919,  0.04248573, -0.99590272,\n",
       "       -0.90741302, -0.47243056,  0.        , -0.23448366, -0.70135274,\n",
       "       -0.87386939, -0.        , -0.        , -0.26809938, -0.31145149,\n",
       "       -1.02302158,  1.11572264, -1.03516299, -0.44161103,  0.79716565,\n",
       "        0.        ,  0.        ,  0.31979818,  0.61322748,  0.96190867,\n",
       "       -1.03708461, -0.60951846, -1.01559495, -0.27822323, -0.64605695,\n",
       "       -0.        ,  0.63622515, -0.74749727,  1.10825064, -1.01051122,\n",
       "       -0.42025079,  0.95072397, -0.1819921 , -0.15834486,  0.87730675,\n",
       "        0.        , -0.67320184,  0.35606538, -0.        ,  0.27638974])"
      ]
     },
     "execution_count": 6,
     "metadata": {},
     "output_type": "execute_result"
    }
   ],
   "source": [
    "coefs[0, ]"
   ]
  },
  {
   "cell_type": "markdown",
   "metadata": {},
   "source": [
    "### Predict on new data"
   ]
  },
  {
   "cell_type": "markdown",
   "metadata": {},
   "source": [
    "To get predictions, we call `predict`:"
   ]
  },
  {
   "cell_type": "code",
   "execution_count": 7,
   "metadata": {},
   "outputs": [
    {
     "name": "stdout",
     "output_type": "stream",
     "text": [
      "(1000, 5)\n"
     ]
    }
   ],
   "source": [
    "y_hat = predict(X, gaussian_fit)\n",
    "print(y_hat.shape)"
   ]
  },
  {
   "cell_type": "markdown",
   "metadata": {},
   "source": [
    "We can also call `predict` for a specific index of $\\lambda$:"
   ]
  },
  {
   "cell_type": "code",
   "execution_count": 8,
   "metadata": {},
   "outputs": [
    {
     "name": "stdout",
     "output_type": "stream",
     "text": [
      "(1000,)\n"
     ]
    }
   ],
   "source": [
    "y_hat_lmda_1 = predict(X, gaussian_fit, lmda_idx = 1)\n",
    "print(y_hat_lmda_1.shape)"
   ]
  },
  {
   "cell_type": "markdown",
   "metadata": {},
   "source": [
    "### One regularization parameter"
   ]
  },
  {
   "cell_type": "markdown",
   "metadata": {},
   "source": [
    "We can also input only one regularization parameter:"
   ]
  },
  {
   "cell_type": "code",
   "execution_count": 9,
   "metadata": {},
   "outputs": [
    {
     "name": "stderr",
     "output_type": "stream",
     "text": [
      "100%|          | 0/1 [00:00:00<?, ?it/s]██████████| 1/1 [00:00:00<00:00:00, 934.00it/s] [dev:73.2%]██████████| 1/1 [00:00:00<00:00:00, 191.87it/s] [dev:73.2%]\n"
     ]
    },
    {
     "data": {
      "text/html": [
       "\n",
       "\n",
       "<b> --- UniLasso Results --- </b>"
      ],
      "text/plain": [
       "<IPython.core.display.HTML object>"
      ]
     },
     "metadata": {},
     "output_type": "display_data"
    },
    {
     "name": "stdout",
     "output_type": "stream",
     "text": [
      "Number of Selected Features: 50\n",
      "Regularization path (rounded to 3 decimal places): [0.2]\n"
     ]
    }
   ],
   "source": [
    "gaussian_fit_one_lmda = fit_unilasso(X, y, family = 'gaussian', lmdas = 0.2, verbose = True)"
   ]
  },
  {
   "cell_type": "markdown",
   "metadata": {},
   "source": [
    "### Using default regularization path"
   ]
  },
  {
   "cell_type": "code",
   "execution_count": 10,
   "metadata": {},
   "outputs": [
    {
     "name": "stderr",
     "output_type": "stream",
     "text": [
      " 47%|          | 0/100 [00:00:00<?, ?it/s]█████     | 47/100 [00:00:00<00:00:00, 2697.51it/s] [dev:90.3%]\n"
     ]
    },
    {
     "data": {
      "text/html": [
       "<p style=\"color:red; font-weight:bold;\"> Warning: The following regularization strengths were removed: [0.0020, 0.0020, 0.0020, 0.0020, 0.0020, 0.0030, 0.0030, 0.0030, 0.0030, 0.0030, 0.0040, 0.0040, 0.0040, 0.0040, 0.0050, 0.0050, 0.0050, 0.0060, 0.0060, 0.0070, 0.0070, 0.0080, 0.0080, 0.0090, 0.0090, 0.0100, 0.0100, 0.0110, 0.0120, 0.0130, 0.0140, 0.0150, 0.0160, 0.0170, 0.0180, 0.0190, 0.0200, 0.0220, 0.0230, 0.0250, 0.0260, 0.0280, 0.0300, 0.0320, 0.0340, 0.0360, 0.0390, 0.0420, 0.0440, 0.0470, 0.0510, 0.0540, 0.0580]</p>"
      ],
      "text/plain": [
       "<IPython.core.display.HTML object>"
      ]
     },
     "metadata": {},
     "output_type": "display_data"
    },
    {
     "data": {
      "text/html": [
       "\n",
       "\n",
       "<b> --- UniLasso Results --- </b>"
      ],
      "text/plain": [
       "<IPython.core.display.HTML object>"
      ]
     },
     "metadata": {},
     "output_type": "display_data"
    },
    {
     "name": "stdout",
     "output_type": "stream",
     "text": [
      "Number of Selected Features: [72 71 69 68 67 67 67 67 67 65 62 59 57 56 53 53 53 52 50 46 44 44 42 42\n",
      " 42 41 41 39 37 35 33 31 29 27 26 23 21 20 19 17 14 11  7  7  7  5  5]\n",
      "Regularization path (rounded to 3 decimal places): [1.264 1.183 1.108 1.038 0.972 0.91  0.852 0.798 0.747 0.7   0.655 0.614\n",
      " 0.575 0.538 0.504 0.472 0.442 0.414 0.387 0.363 0.34  0.318 0.298 0.279\n",
      " 0.261 0.245 0.229 0.215 0.201 0.188 0.176 0.165 0.154 0.145 0.135 0.127\n",
      " 0.119 0.111 0.104 0.098 0.091 0.086 0.08  0.075 0.07  0.066 0.062]\n"
     ]
    }
   ],
   "source": [
    "gaussian_fit_one_lmda = fit_unilasso(X, y, family = 'gaussian', lmdas = None, verbose = True)"
   ]
  },
  {
   "cell_type": "markdown",
   "metadata": {},
   "source": [
    "### Plot coefficient path"
   ]
  },
  {
   "cell_type": "code",
   "execution_count": 13,
   "metadata": {},
   "outputs": [
    {
     "name": "stderr",
     "output_type": "stream",
     "text": [
      "100%|          | 0/6 [00:00:00<?, ?it/s]██████████| 6/6 [00:00:00<00:00:00, 359.05it/s] [dev:70.2%]██████████| 6/6 [00:00:00<00:00:00, 285.65it/s] [dev:70.2%]\n"
     ]
    },
    {
     "data": {
      "image/png": "[encoded data removed]",
      "text/plain": [
       "<Figure size 800x600 with 1 Axes>"
      ]
     },
     "metadata": {},
     "output_type": "display_data"
    }
   ],
   "source": [
    "X, y = simulate_gaussian_data(n=1000, p=10)\n",
    "gaussian_fit = fit_unilasso(X, \n",
    "                            y, \n",
    "                            family = 'gaussian',\n",
    "                            lmdas = [0.01, 0.02, 0.1, 0.2, 0.3, 1.0] # Regularization parameters for Lasso\n",
    "                            )\n",
    "plot_coef_path(gaussian_fit)"
   ]
  },
  {
   "cell_type": "markdown",
   "metadata": {},
   "source": [
    "## Logistic Regression Example"
   ]
  },
  {
   "cell_type": "markdown",
   "metadata": {},
   "source": [
    "Now we run an example logistic regression model using `UniLasso`. We set `verbose = True` to print out some summary information of the model."
   ]
  },
  {
   "cell_type": "code",
   "execution_count": 10,
   "metadata": {},
   "outputs": [
    {
     "name": "stderr",
     "output_type": "stream",
     "text": [
      "100%|          | 0/1 [00:00:00<?, ?it/s]██████████| 1/1 [00:00:00<00:00:00, 1218.15it/s] [dev:2.6%]██████████| 1/1 [00:00:00<00:00:00, 169.78it/s] [dev:2.6%] \n",
      "100%|          | 0/1 [00:00:00<?, ?it/s]██████████| 1/1 [00:00:00<00:00:00, 1064.59it/s] [dev:5.7%]██████████| 1/1 [00:00:00<00:00:00, 189.83it/s] [dev:5.7%] \n",
      "100%|          | 0/1 [00:00:00<?, ?it/s]██████████| 1/1 [00:00:00<00:00:00, 1276.66it/s] [dev:0.4%]██████████| 1/1 [00:00:00<00:00:00, 162.42it/s] [dev:0.4%] \n",
      "100%|          | 0/1 [00:00:00<?, ?it/s]██████████| 1/1 [00:00:00<00:00:00, 1225.05it/s] [dev:2.1%]██████████| 1/1 [00:00:00<00:00:00, 117.46it/s] [dev:2.1%] \n",
      "100%|          | 0/1 [00:00:00<?, ?it/s]██████████| 1/1 [00:00:00<00:00:00, 1151.08it/s] [dev:0.2%]██████████| 1/1 [00:00:00<00:00:00, 169.57it/s] [dev:0.2%] \n",
      "100%|          | 0/1 [00:00:00<?, ?it/s]██████████| 1/1 [00:00:00<00:00:00, 1033.86it/s] [dev:1.2%]██████████| 1/1 [00:00:00<00:00:00, 131.33it/s] [dev:1.2%] \n",
      "100%|          | 0/1 [00:00:00<?, ?it/s]██████████| 1/1 [00:00:00<00:00:00, 420.88it/s] [dev:7.0%]██████████| 1/1 [00:00:00<00:00:00, 92.79it/s] [dev:7.0%] \n",
      "100%|          | 0/1 [00:00:00<?, ?it/s]██████████| 1/1 [00:00:00<00:00:00, 1057.08it/s] [dev:2.3%]██████████| 1/1 [00:00:00<00:00:00, 150.94it/s] [dev:2.3%] \n",
      "100%|          | 0/1 [00:00:00<?, ?it/s]██████████| 1/1 [00:00:00<00:00:00, 1164.60it/s] [dev:5.0%]██████████| 1/1 [00:00:00<00:00:00, 136.42it/s] [dev:5.0%] \n",
      "100%|          | 0/1 [00:00:00<?, ?it/s]██████████| 1/1 [00:00:00<00:00:00, 1261.17it/s] [dev:5.1%]██████████| 1/1 [00:00:00<00:00:00, 140.11it/s] [dev:5.1%] \n",
      "100%|          | 0/4 [00:00:00<?, ?it/s]██████████| 4/4 [00:00:00<00:00:00, 1716.43it/s] [dev:30.8%]██████████| 4/4 [00:00:00<00:00:00, 583.13it/s] [dev:30.8%] \n"
     ]
    },
    {
     "data": {
      "text/html": [
       "\n",
       "\n",
       "<b> --- UniLasso Results --- </b>"
      ],
      "text/plain": [
       "<IPython.core.display.HTML object>"
      ]
     },
     "metadata": {},
     "output_type": "display_data"
    },
    {
     "name": "stdout",
     "output_type": "stream",
     "text": [
      "Number of Selected Features: [8 7 0 0]\n",
      "Regularization path (rounded to 3 decimal places): [0.01 0.02 0.1  0.2 ]\n"
     ]
    }
   ],
   "source": [
    "X, y = simulate_binomial_data(n=1000, p=10)\n",
    "\n",
    "binomial_fit = fit_unilasso(X,\n",
    "                            y,\n",
    "                            family = 'binomial',\n",
    "                            lmdas = [0.01, 0.02, 0.1, 0.2], # Regularization parameters for Lasso\n",
    "                            verbose = True\n",
    "                            )"
   ]
  },
  {
   "cell_type": "code",
   "execution_count": 11,
   "metadata": {},
   "outputs": [
    {
     "data": {
      "text/plain": [
       "array([0.01, 0.02, 0.1 , 0.2 ])"
      ]
     },
     "execution_count": 11,
     "metadata": {},
     "output_type": "execute_result"
    }
   ],
   "source": [
    "binomial_fit.lmdas"
   ]
  },
  {
   "cell_type": "markdown",
   "metadata": {},
   "source": [
    "## Survival Analysis Example"
   ]
  },
  {
   "cell_type": "code",
   "execution_count": 12,
   "metadata": {},
   "outputs": [
    {
     "name": "stderr",
     "output_type": "stream",
     "text": [
      "100%|          | 0/1 [00:00:00<?, ?it/s]██████████| 1/1 [00:00:00<00:00:00, 556.84it/s] [dev:1.3%]██████████| 1/1 [00:00:00<00:00:00, 71.77it/s] [dev:1.3%] \n",
      "100%|          | 0/1 [00:00:00<?, ?it/s]██████████| 1/1 [00:00:00<00:00:00, 164.50it/s] [dev:0.6%]██████████| 1/1 [00:00:00<00:00:00, 50.17it/s] [dev:0.6%] \n",
      "100%|          | 0/1 [00:00:00<?, ?it/s]██████████| 1/1 [00:00:00<00:00:00, 136.66it/s] [dev:1.8%]██████████| 1/1 [00:00:00<00:00:00, 18.76it/s] [dev:1.8%] \n",
      "100%|          | 0/1 [00:00:00<?, ?it/s]██████████| 1/1 [00:00:00<00:00:00, 996.26it/s] [dev:0.1%]██████████| 1/1 [00:00:00<00:00:00, 153.76it/s] [dev:0.1%]\n",
      "100%|          | 0/1 [00:00:00<?, ?it/s]██████████| 1/1 [00:00:00<00:00:00, 1037.16it/s] [dev:0.9%]██████████| 1/1 [00:00:00<00:00:00, 117.74it/s] [dev:0.9%] \n",
      "100%|          | 0/1 [00:00:00<?, ?it/s]██████████| 1/1 [00:00:00<00:00:00, 388.81it/s] [dev:2.2%]██████████| 1/1 [00:00:00<00:00:00, 123.63it/s] [dev:2.2%]\n",
      "100%|          | 0/1 [00:00:00<?, ?it/s]██████████| 1/1 [00:00:00<00:00:00, 2350.87it/s] [dev:0.7%]██████████| 1/1 [00:00:00<00:00:00, 374.28it/s] [dev:0.7%] \n",
      "100%|          | 0/1 [00:00:00<?, ?it/s]██████████| 1/1 [00:00:00<00:00:00, 2173.32it/s] [dev:0.5%]██████████| 1/1 [00:00:00<00:00:00, 416.54it/s] [dev:0.5%] \n",
      "100%|          | 0/1 [00:00:00<?, ?it/s]██████████| 1/1 [00:00:00<00:00:00, 2245.09it/s] [dev:0.1%]██████████| 1/1 [00:00:00<00:00:00, 412.53it/s] [dev:0.1%] \n",
      "100%|          | 0/1 [00:00:00<?, ?it/s]██████████| 1/1 [00:00:00<00:00:00, 2010.89it/s] [dev:0.1%]██████████| 1/1 [00:00:00<00:00:00, 397.79it/s] [dev:0.1%] \n",
      "100%|          | 0/4 [00:00:00<?, ?it/s]██████████| 4/4 [00:00:00<00:00:00, 2498.37it/s] [dev:13.1%]██████████| 4/4 [00:00:00<00:00:00, 1093.61it/s] [dev:13.1%]\n"
     ]
    },
    {
     "data": {
      "text/html": [
       "\n",
       "\n",
       "<b> --- UniLasso Results --- </b>"
      ],
      "text/plain": [
       "<IPython.core.display.HTML object>"
      ]
     },
     "metadata": {},
     "output_type": "display_data"
    },
    {
     "name": "stdout",
     "output_type": "stream",
     "text": [
      "Number of Selected Features: [8 7 3 0]\n",
      "Regularization path (rounded to 3 decimal places): [0.01 0.02 0.1  0.2 ]\n"
     ]
    }
   ],
   "source": [
    "X, y = simulate_cox_data(n=1000, p=10)\n",
    "\n",
    "cox_fit = fit_unilasso(X,\n",
    "                       y,\n",
    "                       family = 'cox',\n",
    "                       lmdas = [0.01, 0.02, 0.1, 0.2], # Regularization parameters for Lasso\n",
    "                       verbose = True\n",
    "                       )"
   ]
  },
  {
   "cell_type": "markdown",
   "metadata": {},
   "source": [
    "# Cross-validated `UniLasso`"
   ]
  },
  {
   "cell_type": "markdown",
   "metadata": {},
   "source": [
    "If we don't have a prespecified list of regularization path or regularization parameter, we can perform cross-validation to select a penalization parameter for us. We again begin by simulating some Gaussian data."
   ]
  },
  {
   "cell_type": "code",
   "execution_count": 13,
   "metadata": {},
   "outputs": [],
   "source": [
    "X, y = simulate_gaussian_data(n=1000, p=10)"
   ]
  },
  {
   "cell_type": "code",
   "execution_count": 14,
   "metadata": {},
   "outputs": [
    {
     "name": "stderr",
     "output_type": "stream",
     "text": [
      "100%|          | 0/100 [00:00:00<?, ?it/s]██████████| 100/100 [00:00:00<00:00:00, 25975.43it/s] [dev:69.1%]██████████| 100/100 [00:00:00<00:00:00, 10304.14it/s] [dev:69.1%]\n",
      "100%|          | 0/101 [00:00:00<?, ?it/s]██████████| 101/101 [00:00:00<00:00:00, 26254.79it/s] [dev:69.9%]██████████| 101/101 [00:00:00<00:00:00, 11623.61it/s] [dev:69.9%]\n",
      "100%|          | 0/101 [00:00:00<?, ?it/s]██████████| 101/101 [00:00:00<00:00:00, 27446.90it/s] [dev:71.4%]██████████| 101/101 [00:00:00<00:00:00, 11961.63it/s] [dev:71.4%]\n",
      "100%|          | 0/101 [00:00:00<?, ?it/s]██████████| 101/101 [00:00:00<00:00:00, 26283.26it/s] [dev:70.4%]██████████| 101/101 [00:00:00<00:00:00, 11514.51it/s] [dev:70.4%]\n",
      "100%|          | 0/100 [00:00:00<?, ?it/s]██████████| 100/100 [00:00:00<00:00:00, 24831.87it/s] [dev:69.9%]██████████| 100/100 [00:00:00<00:00:00, 3686.01it/s] [dev:69.9%] \n",
      "100%|          | 0/100 [00:00:00<?, ?it/s]██████████| 100/100 [00:00:00<00:00:00, 27742.45it/s] [dev:70.1%]██████████| 100/100 [00:00:00<00:00:00, 10775.76it/s] [dev:70.1%]\n"
     ]
    },
    {
     "data": {
      "text/html": [
       "\n",
       "\n",
       "<b> --- UniLasso Results --- </b>"
      ],
      "text/plain": [
       "<IPython.core.display.HTML object>"
      ]
     },
     "metadata": {},
     "output_type": "display_data"
    },
    {
     "name": "stdout",
     "output_type": "stream",
     "text": [
      "Number of Selected Features: [0 1 2 2 2 2 2 2 2 2 3 3 3 3 3 3 3 3 4 4 4 4 4 4 4 4 4 4 4 4 4 4 4 4 4 4 4\n",
      " 4 4 4 4 4 4 5 5 5 5 6 6 6 6 6 6 6 6 6 7 7 7 7 7 7 7 7 7 7 7 8 8 8 8 8 8 8\n",
      " 8 8 8 8 8 8 8 8 8 8 8 8 8 8 8 8 8 8 8 8 8 8 8 8 8 8]\n",
      "Regularization path (rounded to 3 decimal places): [0.901 0.843 0.79  0.74  0.693 0.649 0.607 0.569 0.533 0.499 0.467 0.437\n",
      " 0.41  0.383 0.359 0.336 0.315 0.295 0.276 0.259 0.242 0.227 0.212 0.199\n",
      " 0.186 0.174 0.163 0.153 0.143 0.134 0.126 0.118 0.11  0.103 0.097 0.09\n",
      " 0.085 0.079 0.074 0.07  0.065 0.061 0.057 0.053 0.05  0.047 0.044 0.041\n",
      " 0.038 0.036 0.034 0.032 0.03  0.028 0.026 0.024 0.023 0.021 0.02  0.019\n",
      " 0.018 0.016 0.015 0.014 0.013 0.013 0.012 0.011 0.01  0.01  0.009 0.008\n",
      " 0.008 0.007 0.007 0.007 0.006 0.006 0.005 0.005 0.005 0.004 0.004 0.004\n",
      " 0.004 0.003 0.003 0.003 0.003 0.003 0.002 0.002 0.002 0.002 0.002 0.002\n",
      " 0.002 0.002 0.001 0.001]\n",
      "Best Regularization Parameter: 0.0013510016984150134\n"
     ]
    },
    {
     "data": {
      "image/png": "[encoded data removed]",
      "text/plain": [
       "<Figure size 900x600 with 1 Axes>"
      ]
     },
     "metadata": {},
     "output_type": "display_data"
    }
   ],
   "source": [
    "cv_fit = cv_unilasso(X,\n",
    "                     y,\n",
    "                     family = 'gaussian',\n",
    "                     verbose = True\n",
    "                     )"
   ]
  },
  {
   "cell_type": "markdown",
   "metadata": {},
   "source": [
    "Now, we can extract the best $\\lambda$."
   ]
  },
  {
   "cell_type": "code",
   "execution_count": 15,
   "metadata": {},
   "outputs": [
    {
     "name": "stdout",
     "output_type": "stream",
     "text": [
      "0.0013510016984150134\n"
     ]
    }
   ],
   "source": [
    "best_lmda = cv_fit.best_lmda\n",
    "print(best_lmda)"
   ]
  },
  {
   "cell_type": "markdown",
   "metadata": {},
   "source": [
    "We can also extract the coefficients and intercept corresponding to the best model as follows:"
   ]
  },
  {
   "cell_type": "code",
   "execution_count": 16,
   "metadata": {},
   "outputs": [
    {
     "name": "stdout",
     "output_type": "stream",
     "text": [
      "Best coefficients and intercepts:\n",
      "\n",
      "-------------------\n",
      "\n",
      "[ 0.86018192 -0.55333492 -0.69775852  0.19464198  0.          0.12151642\n",
      " -0.91062014 -0.09293373 -0.         -0.22809586]\n",
      "\n",
      "-------------------\n",
      "\n",
      "-0.029313852690631248\n"
     ]
    }
   ],
   "source": [
    "extracted_fit = extract_cv_unilasso(cv_fit)\n",
    "\n",
    "print(\"Best coefficients and intercepts:\")\n",
    "print('\\n-------------------\\n')\n",
    "print(extracted_fit.coefs)\n",
    "print('\\n-------------------\\n')\n",
    "print(extracted_fit.intercept)"
   ]
  },
  {
   "cell_type": "code",
   "execution_count": 17,
   "metadata": {},
   "outputs": [
    {
     "data": {
      "text/plain": [
       "array([-2.53841281e-01,  2.39678289e-01, -2.93816678e-01, -7.96829274e-01,\n",
       "       -4.98536327e-01,  2.44835351e+00, -1.75627839e+00, -1.19769824e+00,\n",
       "        2.80909842e+00, -3.18061786e+00, -5.88649314e-01, -4.44543385e-01,\n",
       "       -1.54446330e-01, -1.51803317e+00, -1.00289163e+00,  1.17977873e+00,\n",
       "        1.83070791e+00, -2.93013777e+00, -7.24678446e-01, -7.73664756e-01,\n",
       "       -6.67962321e-02,  7.45300147e-01, -2.54450562e-01,  2.17926597e+00,\n",
       "        1.93634703e+00, -8.99954000e-01,  2.59111116e+00, -6.78138233e-02,\n",
       "        4.82680771e-01,  2.21640245e+00,  1.33202105e+00,  1.32666789e+00,\n",
       "        1.12808525e+00,  1.28571865e+00,  2.85722357e+00,  6.26492740e-02,\n",
       "        1.02937825e+00, -2.71148091e+00, -3.23769289e+00,  6.64010478e-01,\n",
       "       -4.33691749e+00,  2.58619661e+00, -3.31525494e+00, -2.07370134e+00,\n",
       "        1.31957664e+00, -2.13502063e-01,  6.25441092e-01,  2.85114368e+00,\n",
       "        3.58574959e+00,  9.44936284e-01, -1.44197791e+00,  3.51253597e+00,\n",
       "       -1.19861477e+00,  2.43358509e+00, -2.14539115e+00, -1.91391909e+00,\n",
       "       -2.12529964e+00,  9.12218260e-01,  2.26632560e+00,  6.58505636e+00,\n",
       "        9.31986242e-01, -1.67604154e-01,  6.30837725e-01, -3.88002049e-01,\n",
       "        1.28401651e+00, -1.21488666e+00, -1.36263475e+00, -1.84865008e+00,\n",
       "       -3.93384476e-01,  1.66844150e+00,  3.89934414e-01,  1.05294845e+00,\n",
       "        1.58330710e+00,  1.52242685e+00,  1.35159083e+00,  1.42809163e-01,\n",
       "       -8.02563427e-01, -3.52211520e+00,  3.36248662e+00, -2.12789500e+00,\n",
       "        8.69581520e-01,  3.18824633e-01, -4.97195155e-01,  3.82657181e-02,\n",
       "        6.64109568e-01,  1.12251429e-01, -1.40749995e+00, -1.32726151e+00,\n",
       "        2.77889361e+00, -1.37324073e+00, -1.50367237e+00, -1.66773848e+00,\n",
       "        2.55502886e-01, -3.96591042e-01, -1.54218749e+00, -3.34498748e-01,\n",
       "       -9.65758711e-01,  1.60727365e-01, -1.60588772e+00, -1.87213178e-01,\n",
       "       -8.42148541e-01,  1.09312073e+00,  5.08711805e-01, -3.31412451e-01,\n",
       "        2.10665033e+00,  8.47511347e-01, -2.14396039e-01, -7.05674647e-01,\n",
       "        2.50412773e+00, -1.32761572e+00, -6.88244781e-01, -1.63877042e+00,\n",
       "       -2.02784973e+00, -8.04061705e-01,  2.27250132e+00,  3.44262999e+00,\n",
       "        1.79629462e+00,  2.49159878e+00, -3.81430200e-01, -3.02103302e+00,\n",
       "        2.04684446e+00,  4.80136954e-01,  2.09950941e+00,  1.66109014e+00,\n",
       "       -1.26161271e+00, -1.16590970e+00, -1.37474684e+00, -8.39386987e-02,\n",
       "       -1.46922605e+00,  1.98272841e-01,  1.37631623e-01,  2.60764562e+00,\n",
       "       -3.25011893e+00, -1.31117741e-01,  3.13296490e+00,  1.02752556e+00,\n",
       "       -2.78784275e+00,  1.45046318e-01, -3.13694883e-01,  1.94149688e+00,\n",
       "        2.03760338e+00,  4.79005704e-01, -2.19843167e+00, -1.67195958e-01,\n",
       "        1.78127005e+00,  2.48965547e+00,  5.29283012e-01,  5.92703637e-01,\n",
       "        1.68189638e+00,  3.14224195e+00,  5.08662293e-01, -2.65708809e-01,\n",
       "       -1.77325108e-01, -9.84709542e-01,  4.33481860e-01, -7.98497097e-02,\n",
       "        7.56106462e-01, -1.92644992e-01,  5.41655449e-01,  2.42074382e-01,\n",
       "       -2.47780410e+00, -9.76314826e-01, -3.82658378e+00, -3.92055491e+00,\n",
       "        1.93466804e+00, -1.81335169e+00,  1.51605989e-01,  7.70994533e-01,\n",
       "       -2.33605850e+00, -1.73222351e+00,  3.92170889e+00,  1.80456414e+00,\n",
       "       -2.69666757e+00, -9.36317524e-01,  1.27743141e+00, -2.45066355e+00,\n",
       "        1.77623821e+00, -2.37603960e+00, -7.19420023e-01,  2.92638808e+00,\n",
       "       -3.41242086e-01, -5.96925982e-01,  2.18473330e+00,  2.07475874e+00,\n",
       "        2.19139223e-01, -8.89985383e-01,  8.76760657e-01,  2.26340117e-01,\n",
       "        2.36368976e+00, -7.87898743e-01, -1.78932774e+00,  1.49411869e-01,\n",
       "       -1.63826364e+00, -1.21753752e+00,  8.25439808e-01, -2.39195892e+00,\n",
       "        9.43123407e-01,  3.37373445e+00,  1.00690567e+00, -1.42244953e-01,\n",
       "        5.03755664e-01, -6.98042295e-01,  1.63306720e+00,  2.20058618e+00,\n",
       "       -4.59351044e-01, -3.22714870e-01, -1.39900970e+00,  4.83996157e-01,\n",
       "        1.15536632e+00, -2.26342185e+00, -2.46072857e+00,  2.09506221e+00,\n",
       "        1.22855408e-01, -2.88897950e+00,  2.75757768e+00,  1.10763574e+00,\n",
       "        2.68012387e+00,  2.65138461e+00,  2.70770569e-01,  1.94909235e+00,\n",
       "        1.23741683e+00, -1.73474056e+00, -8.72548241e-01, -1.98130770e+00,\n",
       "       -1.35549578e+00, -4.29179322e+00,  1.39918492e+00, -1.50393350e+00,\n",
       "        4.44189852e-01,  2.46074686e+00, -9.39953980e-01,  1.55786512e+00,\n",
       "       -5.12944472e-01,  6.68528090e-01,  1.64516836e+00,  3.32888641e-01,\n",
       "        1.62160218e+00,  2.61272423e+00,  2.25875056e+00, -1.23743096e+00,\n",
       "       -2.56470835e+00,  3.77310503e-01,  9.33148612e-01, -1.52533377e-01,\n",
       "       -3.77096924e-02,  1.57890407e-01, -6.75484738e-01,  1.17322755e+00,\n",
       "        1.92780271e+00, -2.39174537e-01, -5.40633774e-01, -1.19402488e+00,\n",
       "        1.04658967e+00, -1.18002230e+00, -2.13691442e+00, -1.32572646e+00,\n",
       "       -1.26119747e-01,  1.84270677e+00, -1.20772312e+00,  1.26376261e+00,\n",
       "        1.40477229e+00,  2.38135066e+00,  1.33017982e+00,  1.43398256e+00,\n",
       "        1.93995791e+00,  1.11985107e+00, -3.04549527e-01, -8.88609265e-01,\n",
       "        2.62185158e+00,  9.69356422e-01, -1.00068593e+00, -1.84996072e+00,\n",
       "        9.78236254e-01,  2.76579411e+00,  9.38314170e-01,  2.62682674e+00,\n",
       "       -1.94164896e-01,  2.76004173e-01, -2.55070784e+00,  1.02178401e+00,\n",
       "       -1.63431814e+00, -1.40105402e-01,  1.38282944e+00, -1.61217117e+00,\n",
       "        9.00801639e-01,  1.79300717e+00,  1.43366758e+00,  1.62717432e+00,\n",
       "       -3.29909529e-01, -9.33135186e-01,  2.55633300e+00, -7.10828052e-01,\n",
       "        1.93688763e+00, -1.93492463e+00, -3.67223943e+00,  1.31604966e+00,\n",
       "        5.07457154e-01, -1.19774672e+00, -2.01409724e+00, -6.24696664e-02,\n",
       "       -8.15925922e-01, -4.23276716e-01, -1.80777345e+00,  5.91146038e-01,\n",
       "        5.43291940e-02,  5.73441406e-01,  7.80657270e-01,  2.15883956e+00,\n",
       "        3.42440433e+00,  3.59073491e+00,  2.90481327e-01, -4.66707905e-01,\n",
       "        3.57256441e-01, -1.32033144e+00,  2.39951481e-01,  1.01605192e+00,\n",
       "        1.06666468e-01,  2.14242748e-01,  1.34463786e-01,  1.84403121e+00,\n",
       "        2.20187846e+00,  2.48220686e+00,  8.14375794e-01,  4.15361234e+00,\n",
       "       -1.87264897e-03, -2.64880687e+00,  5.09939429e-01,  2.60642461e+00,\n",
       "        2.22724962e+00, -1.82023900e-01, -1.97014967e+00, -2.62492464e+00,\n",
       "        1.22855647e+00,  1.58167640e+00, -1.66802395e+00, -1.42522790e-01,\n",
       "       -1.02202376e+00, -2.23757035e-01, -1.79545011e+00, -1.25211786e+00,\n",
       "        7.20756781e-01, -9.91036537e-02,  1.19574043e+00, -3.94400439e-01,\n",
       "       -2.26470988e+00, -5.57039833e-01, -1.02450668e+00, -7.04951910e-01,\n",
       "       -9.75563450e-01, -9.56594060e-01,  9.06026029e-02, -2.60678809e+00,\n",
       "        5.72142167e-01, -1.48044843e+00,  7.14667668e-01, -1.43758795e+00,\n",
       "       -9.09061457e-02,  1.93027930e+00, -2.96211214e+00,  2.33942901e+00,\n",
       "       -1.34650460e+00, -2.65509446e+00,  5.62061291e-01,  1.29219750e+00,\n",
       "        1.23058351e+00, -7.00516100e-01, -1.56556039e-01, -1.35616623e+00,\n",
       "       -1.91307249e+00,  1.20115570e+00, -1.81399822e+00,  1.26293501e+00,\n",
       "        7.37750145e-01, -7.10484090e-01, -1.05390335e+00, -1.94824063e+00,\n",
       "        2.17722952e+00,  1.40914719e+00,  6.57848474e-01,  1.20431888e+00,\n",
       "        1.85393624e+00, -2.40841439e-01, -2.52707481e+00, -3.44043333e+00,\n",
       "       -1.70554022e+00,  1.55930349e+00, -1.61983761e+00, -1.93464425e+00,\n",
       "       -9.97437294e-01, -2.78391367e+00,  3.54113646e-01,  4.43856681e-01,\n",
       "        3.40683962e+00,  3.07177697e-01, -7.64804404e-01,  2.70444124e+00,\n",
       "        2.60613714e+00, -2.19784443e+00,  6.61334068e-01, -1.67129591e+00,\n",
       "       -1.70547825e+00, -4.03818921e-01, -9.59507549e-01, -8.73631016e-01,\n",
       "        3.69194368e+00, -3.33827097e+00, -9.69246437e-01, -7.53728088e-01,\n",
       "       -7.79152503e-01, -1.64444058e+00, -5.51967185e-01, -2.28170001e+00,\n",
       "        1.22421019e+00, -8.06384727e-01,  7.88484214e-01, -7.07585870e-01,\n",
       "       -2.71230075e-01,  1.65814955e+00, -1.06189032e+00,  6.50269157e-01,\n",
       "       -2.70089468e-01,  1.01495696e-01, -2.14017678e+00, -8.56900258e-01,\n",
       "       -2.63326383e+00,  2.14729923e+00,  9.77656148e-01,  6.64715611e-01,\n",
       "        4.63352551e-01,  9.01348098e-01, -6.83503263e-01,  1.40395374e+00,\n",
       "       -2.72856260e-01,  2.11741223e+00, -8.49346107e-03, -5.05636577e-01,\n",
       "        2.43230840e+00, -2.48487972e-01,  1.17026650e+00, -1.53524867e-01,\n",
       "       -1.22179140e+00,  4.86803211e-01, -7.09752890e-01,  3.63355298e-01,\n",
       "        4.69963436e-02,  5.30834306e-01, -3.80115601e-01, -8.25315983e-01,\n",
       "        2.02296983e+00,  2.80328566e+00,  8.01632956e-01,  5.84573823e-01,\n",
       "        1.18697899e+00, -1.37120995e+00,  2.40477346e+00, -3.32447383e-01,\n",
       "        1.73422944e+00,  1.07319103e+00,  5.18689753e-01,  8.78798771e-01,\n",
       "       -1.28879040e+00,  3.07703926e-01, -1.36637828e+00, -1.54472713e+00,\n",
       "        1.80029697e+00,  9.17808104e-02,  2.88357865e-01,  1.74977250e+00,\n",
       "       -8.68300491e-01, -1.53132559e+00, -1.91971528e+00, -6.48309962e-02,\n",
       "       -2.73397899e-01,  7.27537998e-01, -2.68306466e-01, -3.08463916e-01,\n",
       "        2.12648120e+00, -1.41099026e+00,  7.80139435e-02,  1.85261893e+00,\n",
       "        2.35843775e-01,  1.63672977e-03,  2.81974650e+00, -9.18289161e-01,\n",
       "        4.07254758e-01,  1.11564980e+00, -1.62408521e+00,  1.49124175e+00,\n",
       "        1.52889673e-01,  1.10853838e+00,  9.11245848e-01,  1.93821398e-01,\n",
       "        1.17042986e+00,  1.40785649e+00,  1.94072371e+00,  3.06270385e-01,\n",
       "        3.95770059e+00, -1.80328880e+00,  2.79502807e+00, -2.22642700e+00,\n",
       "       -1.27920735e+00,  1.02261572e+00,  7.81277802e-01,  1.69328745e+00,\n",
       "        1.24088477e-01, -6.91567932e-01,  1.54293428e+00, -5.35897077e-01,\n",
       "        2.02472589e+00, -7.54545863e-01,  4.63597462e-01, -9.44545406e-01,\n",
       "       -1.80845327e+00,  2.74278281e+00,  1.65297815e+00, -1.39726479e+00,\n",
       "        1.98138117e+00,  1.52224317e+00, -1.30267255e+00, -6.18007874e-01,\n",
       "        8.13397761e-01,  1.06243197e+00,  1.97662289e+00,  5.84110032e-01,\n",
       "       -2.18464548e+00,  1.43801072e+00, -7.24987804e-01, -1.94674038e-02,\n",
       "        3.27843933e+00,  8.24702975e-01,  4.38524383e-02, -1.86200162e+00,\n",
       "       -1.85775388e+00, -9.85440653e-01,  5.14554486e-01,  2.07882493e+00,\n",
       "        1.69709101e+00,  2.26662113e+00, -2.94341768e+00,  1.10838560e+00,\n",
       "       -5.03928946e-01,  1.58783819e+00,  1.74020623e+00, -1.16550968e+00,\n",
       "        2.21023609e+00,  1.14014309e+00,  1.96432510e+00,  3.09790492e+00,\n",
       "       -4.67102492e-01, -1.96514010e-01,  4.05684078e-01,  7.77775710e-01,\n",
       "       -3.30826248e+00, -3.41234589e+00,  1.05872448e+00, -1.32685757e+00,\n",
       "        1.33918752e+00, -6.75815663e-01,  2.51349650e+00,  2.55678346e+00,\n",
       "       -1.07061297e-01, -2.50121983e+00,  1.74431696e-01, -1.82481853e-01,\n",
       "       -1.40491125e+00, -7.28353751e-01,  3.84033519e+00,  2.53108168e+00,\n",
       "        1.69184974e+00,  7.34634540e-01,  2.53761584e+00, -9.26818022e-01,\n",
       "       -5.24839976e-01, -2.98113249e-01,  1.14429815e+00,  7.93037788e-01,\n",
       "        1.00511529e+00,  8.59019124e-01,  2.22955312e+00,  1.12164528e+00,\n",
       "        7.24111405e-01,  1.05447713e-01,  6.41957895e-01, -6.37328696e-01,\n",
       "        9.88251079e-01, -6.83127470e-01,  9.85101902e-01,  2.91905178e-01,\n",
       "        4.49995905e+00, -1.37549495e+00, -1.39439603e+00, -7.56878430e-01,\n",
       "       -1.97473059e+00, -1.21765498e-02,  1.34071064e+00,  2.58060854e+00,\n",
       "        7.16292028e-01,  1.50401950e+00,  1.58180826e+00, -6.91653364e-01,\n",
       "        1.27213038e+00,  2.68954220e+00,  1.20643912e-01, -2.36666875e-01,\n",
       "       -5.30107881e-02, -1.55554087e-01, -2.83341176e-01,  2.54588973e+00,\n",
       "        8.41409954e-02, -3.55443632e-01, -2.98385886e-01, -5.61473750e-01,\n",
       "        7.09876534e-02, -1.39312485e+00, -2.55780408e-01, -1.00360940e+00,\n",
       "        7.56795046e-03,  2.30868585e+00, -5.44226020e-01, -3.65642365e+00,\n",
       "       -1.91281597e+00, -1.12891781e+00, -3.72278854e-01, -9.54743243e-01,\n",
       "       -2.14950505e+00,  1.50107985e+00,  1.09559524e+00,  3.65917256e+00,\n",
       "        1.29122004e+00, -1.33270287e+00,  1.27222080e+00, -7.27460984e-01,\n",
       "       -4.10188040e+00,  8.58862033e-01,  6.15620581e-01,  3.17727870e-01,\n",
       "       -1.48766711e+00, -2.03322507e-01,  2.70739954e-01,  1.68627559e+00,\n",
       "       -1.81421907e+00,  1.45444226e-01, -1.64136858e+00, -1.73899411e+00,\n",
       "       -5.66648614e-01,  5.37677314e-01, -2.60451275e-01,  5.45527289e-01,\n",
       "        1.07295653e+00, -1.53458218e+00,  1.67267483e+00,  1.97924131e+00,\n",
       "        3.10571168e-02,  1.70226136e+00,  5.42611196e-01, -1.82890633e+00,\n",
       "       -7.81165488e-01, -9.26926029e-01,  3.81755724e-01,  1.43706276e+00,\n",
       "       -2.30503353e+00,  6.50109595e-01, -8.76758752e-01, -4.43005061e-01,\n",
       "       -2.06705561e+00, -2.65135108e+00,  2.61950258e+00,  1.65717439e+00,\n",
       "        1.86758934e+00, -7.61893472e-01, -8.70471514e-01, -9.19815962e-01,\n",
       "       -8.48211183e-02,  2.90282339e+00,  8.53625837e-01,  2.60697765e+00,\n",
       "       -1.70806898e+00, -1.09182485e+00, -1.53307486e+00,  1.10706560e+00,\n",
       "        1.85568061e+00, -3.37950291e+00,  1.36544276e+00,  6.01583997e-01,\n",
       "       -1.17492737e+00,  1.90424793e+00, -4.12743808e+00,  3.31373394e+00,\n",
       "       -6.14698952e-02,  1.93306071e+00,  4.25808393e-01,  7.85525048e-01,\n",
       "       -6.01969432e-01,  2.35403533e+00, -9.24829360e-01,  2.08718956e+00,\n",
       "        6.49408983e-01,  2.89924837e-01, -2.33373286e+00, -6.88640209e-01,\n",
       "        9.89556285e-01,  1.77231583e+00,  9.55151125e-01,  8.97083715e-01,\n",
       "       -2.46949018e-01,  7.59925823e-01,  7.66822306e-01, -2.16084248e+00,\n",
       "       -2.41262191e+00, -7.03905529e-01,  4.33906209e+00,  1.97540264e+00,\n",
       "        1.92214641e+00,  2.55033501e-02,  1.92851568e+00, -1.38532204e+00,\n",
       "        1.07967889e+00, -1.96357770e+00,  1.24870208e+00,  4.82424406e-01,\n",
       "        1.39585912e+00, -7.58266908e-02, -2.20675146e+00,  1.42632975e+00,\n",
       "        1.89374078e-01,  1.33592102e+00,  1.14484360e+00,  1.04901720e+00,\n",
       "        3.21945416e+00, -1.27136038e+00, -1.20743495e+00, -7.94216723e-01,\n",
       "        1.07712763e+00, -1.53213496e+00, -8.17658437e-02, -1.28144854e+00,\n",
       "       -2.90305851e+00,  3.17775573e+00,  1.80067071e-01, -1.37821403e+00,\n",
       "       -2.60573916e+00,  3.09072406e+00,  5.01700990e-01, -1.32264041e+00,\n",
       "       -3.86699883e-01,  2.51703560e+00, -1.23946511e+00, -6.70639073e-01,\n",
       "       -5.38096240e-01,  3.20486472e+00, -8.55122773e-01, -5.88787418e-01,\n",
       "       -2.04729733e+00, -5.94953757e-01,  7.76118481e-01, -3.25050884e-01,\n",
       "       -3.14596923e-01,  1.28849780e+00,  3.56249170e+00, -6.84698471e-01,\n",
       "        1.82139174e-01, -1.56633412e+00, -1.80603554e+00, -1.41804813e+00,\n",
       "        2.91935286e-01, -2.18225511e+00, -1.11840332e+00,  3.79550762e-01,\n",
       "       -5.80009255e-01,  2.02796516e+00,  8.10219139e-01, -2.23043408e+00,\n",
       "        1.58699205e+00,  6.69524981e-01,  1.03233847e+00, -1.44702222e+00,\n",
       "       -5.01776945e-01,  1.44919272e+00, -1.01672599e-01,  1.51262554e+00,\n",
       "       -2.16090910e+00,  2.05145687e-01, -9.74562679e-01, -3.94658580e-01,\n",
       "       -1.67785352e+00, -3.30895541e+00,  2.67495811e+00, -1.17464855e+00,\n",
       "        2.45232892e-01,  3.36925114e-01,  1.54668430e+00,  1.74741910e+00,\n",
       "        2.45430978e-01,  6.02885135e-01,  2.85297431e-01, -7.38509556e-01,\n",
       "        2.94827113e+00,  1.13415161e+00, -2.19809476e+00,  1.84393980e+00,\n",
       "       -6.11242614e-01,  2.67396986e-01,  4.84138518e+00, -4.43551168e-01,\n",
       "        3.76941271e-01,  7.39624171e-01, -8.87448355e-01,  1.59442009e-01,\n",
       "        2.48868228e-01, -4.15085631e+00, -4.16287485e-01,  1.11712693e-01,\n",
       "        2.03770840e+00, -1.38396886e+00,  7.58006357e-01,  4.75896107e-02,\n",
       "        3.15033883e+00,  7.54279497e-01, -7.84348857e-01,  3.56183454e-01,\n",
       "       -7.48205358e-01, -5.59899324e-01,  2.54838307e+00,  5.58514142e-01,\n",
       "        2.58711802e+00, -2.18684032e+00,  3.24500862e+00,  1.58719187e+00,\n",
       "        1.41027714e+00, -1.34154321e+00,  3.24252473e+00,  9.65832514e-01,\n",
       "        2.51087795e-02, -9.05860992e-01,  3.07079889e+00, -6.28359614e-01,\n",
       "       -1.42865687e+00, -8.28871771e-01, -2.47013944e-03,  1.54745622e+00,\n",
       "       -1.96152967e-01, -3.61754605e-02, -2.02735657e+00,  1.88221340e-01,\n",
       "       -6.37606698e-01,  2.55756176e-01, -6.84673648e-01,  1.79651718e+00,\n",
       "        2.37445539e+00,  1.18789474e+00, -2.37883825e+00,  3.42070290e-01,\n",
       "        3.57277216e+00, -1.76711871e-02, -3.36076531e-01, -5.00790112e-01,\n",
       "        1.89445096e-01,  1.08796341e+00, -2.95544292e+00, -9.69787068e-01,\n",
       "       -8.10923925e-01, -1.49955787e+00, -2.57888932e+00, -6.83373861e-01,\n",
       "        1.26636293e+00, -3.70128979e-01,  2.44187976e+00, -1.12951002e+00,\n",
       "       -4.93641033e-01, -1.82300129e-01,  5.24228521e-01, -1.85494355e+00,\n",
       "       -1.56369625e+00, -5.09399472e-01,  8.00500478e-01,  1.14320975e+00,\n",
       "        2.32774348e+00,  6.22741301e-01,  9.05606136e-01, -2.89058292e+00,\n",
       "       -4.18185944e-01,  1.92378703e-02,  1.52126910e+00, -3.06195244e+00,\n",
       "        2.17632964e+00,  1.06147798e+00,  7.30935090e-01,  7.96387945e-01,\n",
       "       -9.83965408e-01,  2.06253359e+00,  1.24100342e+00, -4.04276240e-01,\n",
       "       -4.11687596e-01, -1.04331038e+00,  2.96026804e+00,  8.51055765e-01,\n",
       "       -1.25174714e+00,  1.11397621e+00,  1.14317480e+00,  1.47688797e-01,\n",
       "        1.85034705e-01, -3.10580816e+00,  1.68546855e+00,  2.65070566e+00,\n",
       "        1.30975050e+00,  4.45323517e-01,  2.64603874e+00, -1.30663813e+00,\n",
       "        2.09705801e+00,  6.24721306e-01, -1.39359495e+00, -2.09886864e+00,\n",
       "        2.89187111e-01,  3.03266005e+00, -1.82233378e+00, -1.95027615e+00,\n",
       "       -3.32474668e-02, -7.56177284e-01, -3.70676013e+00,  8.93155036e-01,\n",
       "        2.60539023e+00, -1.33474781e+00, -1.50860486e-01,  6.80975038e-02,\n",
       "       -7.11127117e-01, -4.15605998e-01,  1.39679385e+00, -2.99725884e+00,\n",
       "        2.73052091e-01, -4.86078521e-01,  1.48506206e+00, -2.32069051e+00,\n",
       "       -1.56310251e+00,  1.57458134e+00, -1.51126621e+00, -1.09238296e+00,\n",
       "        1.21850484e+00, -7.35845100e-01,  1.84471849e-01,  6.42483712e-01,\n",
       "       -1.31812970e+00,  6.74112060e-02,  1.37251544e+00, -6.50360681e-01,\n",
       "        6.77594529e-01,  1.37217676e+00,  2.23861653e+00,  1.20648122e+00,\n",
       "       -3.16503494e-01, -6.83844468e-02, -9.03117914e-01,  1.22494380e+00,\n",
       "        2.05070859e+00, -3.75452608e+00, -1.32844604e+00,  1.41987444e+00,\n",
       "        2.12234197e-01, -5.05432846e-01, -1.43962754e+00, -1.74404369e+00,\n",
       "       -1.28680761e+00,  6.28202555e-01,  3.13008985e-02, -4.81476583e-01,\n",
       "       -3.87600977e-01,  1.66716571e+00,  5.69320692e+00,  2.62776077e-01,\n",
       "       -5.59500589e-01, -8.95061080e-01,  6.06954046e-01,  1.64202916e-01,\n",
       "        2.10428035e-01,  1.65316956e-01, -6.99358564e-01, -1.17460545e+00,\n",
       "        1.60261164e+00,  2.71893248e+00, -1.75701686e+00,  8.30662802e-01,\n",
       "       -9.02210396e-01,  4.38722210e+00,  1.90949497e+00,  2.18390948e+00,\n",
       "        3.08880596e-01,  1.84150329e-01,  1.28323467e+00,  1.51677650e+00,\n",
       "        1.43511585e+00, -2.91693872e+00, -5.91196154e-01, -9.20065125e-01,\n",
       "        3.30824768e-01,  6.32659656e-02, -2.98764083e-01,  2.27673479e-01,\n",
       "       -1.65534186e+00, -9.94362700e-01,  1.39033385e+00,  1.99711952e+00])"
      ]
     },
     "execution_count": 17,
     "metadata": {},
     "output_type": "execute_result"
    }
   ],
   "source": [
    "predict(X, extracted_fit)"
   ]
  },
  {
   "cell_type": "markdown",
   "metadata": {},
   "source": [
    "Let's visualize the average CV loss."
   ]
  },
  {
   "cell_type": "code",
   "execution_count": 18,
   "metadata": {},
   "outputs": [
    {
     "data": {
      "text/plain": [
       "(<Figure size 900x600 with 1 Axes>,\n",
       " <Axes: title={'center': 'K-Fold CV Mean Loss'}, xlabel='$-\\\\log(\\\\lambda)$', ylabel='Mean Loss'>)"
      ]
     },
     "execution_count": 18,
     "metadata": {},
     "output_type": "execute_result"
    },
    {
     "data": {
      "image/png": "[encoded data removed]",
      "text/plain": [
       "<Figure size 900x600 with 1 Axes>"
      ]
     },
     "metadata": {},
     "output_type": "display_data"
    }
   ],
   "source": [
    "cv_fit.cv_plot()"
   ]
  },
  {
   "cell_type": "markdown",
   "metadata": {},
   "source": [
    "## Features with zero variance will be removed automatically"
   ]
  },
  {
   "cell_type": "markdown",
   "metadata": {},
   "source": [
    "If any column of our input data has zero variance, it will be removed by default."
   ]
  },
  {
   "cell_type": "code",
   "execution_count": 19,
   "metadata": {},
   "outputs": [
    {
     "data": {
      "text/html": [
       "<p style=\"color:red; font-weight:bold;\"> 1 out of 10 features have zero variance and will be removed.</p>"
      ],
      "text/plain": [
       "<IPython.core.display.HTML object>"
      ]
     },
     "metadata": {},
     "output_type": "display_data"
    },
    {
     "name": "stderr",
     "output_type": "stream",
     "text": [
      "100%|          | 0/1 [00:00:00<?, ?it/s]██████████| 1/1 [00:00:00<00:00:00, 731.35it/s] [dev:1.4%]██████████| 1/1 [00:00:00<00:00:00, 161.87it/s] [dev:1.4%]\n",
      "100%|          | 0/1 [00:00:00<?, ?it/s]██████████| 1/1 [00:00:00<00:00:00, 151.01it/s] [dev:0.3%]██████████| 1/1 [00:00:00<00:00:00, 54.91it/s] [dev:0.3%] \n",
      "100%|          | 0/1 [00:00:00<?, ?it/s]██████████| 1/1 [00:00:00<00:00:00, 925.60it/s] [dev:3.8%]██████████| 1/1 [00:00:00<00:00:00, 54.14it/s] [dev:3.8%] \n",
      "100%|          | 0/1 [00:00:00<?, ?it/s]██████████| 1/1 [00:00:00<00:00:00, 556.66it/s] [dev:0.6%]██████████| 1/1 [00:00:00<00:00:00, 62.77it/s] [dev:0.6%] \n",
      "100%|          | 0/1 [00:00:00<?, ?it/s]██████████| 1/1 [00:00:00<00:00:00, 1151.63it/s] [dev:0.0%]██████████| 1/1 [00:00:00<00:00:00, 109.83it/s] [dev:0.0%] \n",
      "100%|          | 0/1 [00:00:00<?, ?it/s]██████████| 1/1 [00:00:00<00:00:00, 908.06it/s] [dev:1.1%]██████████| 1/1 [00:00:00<00:00:00, 107.23it/s] [dev:1.1%]\n",
      "100%|          | 0/1 [00:00:00<?, ?it/s]██████████| 1/1 [00:00:00<00:00:00, 1078.99it/s] [dev:0.3%]██████████| 1/1 [00:00:00<00:00:00, 126.53it/s] [dev:0.3%] \n",
      "100%|          | 0/1 [00:00:00<?, ?it/s]██████████| 1/1 [00:00:00<00:00:00, 861.60it/s] [dev:0.2%]██████████| 1/1 [00:00:00<00:00:00, 103.77it/s] [dev:0.2%]\n",
      "100%|          | 0/1 [00:00:00<?, ?it/s]██████████| 1/1 [00:00:00<00:00:00, 512.26it/s] [dev:7.0%]██████████| 1/1 [00:00:00<00:00:00, 74.49it/s] [dev:7.0%] \n",
      "100%|          | 0/4 [00:00:00<?, ?it/s]██████████| 4/4 [00:00:00<00:00:00, 2270.63it/s] [dev:10.8%]██████████| 4/4 [00:00:00<00:00:00, 388.46it/s] [dev:10.8%] \n"
     ]
    },
    {
     "data": {
      "text/html": [
       "\n",
       "\n",
       "<b> --- UniLasso Results --- </b>"
      ],
      "text/plain": [
       "<IPython.core.display.HTML object>"
      ]
     },
     "metadata": {},
     "output_type": "display_data"
    },
    {
     "name": "stdout",
     "output_type": "stream",
     "text": [
      "Number of Selected Features: [4 2 0 0]\n",
      "Regularization path (rounded to 3 decimal places): [0.01 0.02 0.1  0.2 ]\n"
     ]
    }
   ],
   "source": [
    "X, y = simulate_binomial_data(n=1000, p=10)\n",
    "\n",
    "# Make the first column zero variance\n",
    "X[:, 0] = 1\n",
    "zero_var_fit = fit_unilasso(X,\n",
    "                            y,\n",
    "                            family = 'binomial',\n",
    "                            lmdas = [0.01, 0.02, 0.1, 0.2], \n",
    "                            verbose = True\n",
    "                            )"
   ]
  },
  {
   "cell_type": "markdown",
   "metadata": {},
   "source": [
    "Note that the corresponding coefficient for the first column is 0 across regularization parameters."
   ]
  },
  {
   "cell_type": "code",
   "execution_count": 20,
   "metadata": {},
   "outputs": [
    {
     "name": "stdout",
     "output_type": "stream",
     "text": [
      "[0. 0. 0. 0.]\n"
     ]
    }
   ],
   "source": [
    "print(zero_var_fit.coef[:, 0])"
   ]
  },
  {
   "cell_type": "code",
   "execution_count": null,
   "metadata": {},
   "outputs": [],
   "source": []
  }
 ],
 "metadata": {
  "kernelspec": {
   "display_name": "test_env",
   "language": "python",
   "name": "python3"
  },
  "language_info": {
   "codemirror_mode": {
    "name": "ipython",
    "version": 3
   },
   "file_extension": ".py",
   "mimetype": "text/x-python",
   "name": "python",
   "nbconvert_exporter": "python",
   "pygments_lexer": "ipython3",
   "version": "3.9.13"
  }
 },
 "nbformat": 4,
 "nbformat_minor": 2
}
