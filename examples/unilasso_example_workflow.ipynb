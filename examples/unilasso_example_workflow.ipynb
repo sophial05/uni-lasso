{
 "cells": [
  {
   "cell_type": "markdown",
   "metadata": {},
   "source": [
    "# Fitting `UniLasso` for specified regularization path"
   ]
  },
  {
   "cell_type": "code",
   "execution_count": 1,
   "metadata": {},
   "outputs": [],
   "source": [
    "from unilasso import *"
   ]
  },
  {
   "cell_type": "markdown",
   "metadata": {},
   "source": [
    "## Linear Regression Example"
   ]
  },
  {
   "cell_type": "markdown",
   "metadata": {},
   "source": [
    "Let's first simulate some data using the included simulation script provided by the package.\n",
    "\n",
    "Then we fit UniLasso for specified regularization path, `0.01, 0.02, 0.1, 0.2` (ordering does not matter)."
   ]
  },
  {
   "cell_type": "code",
   "execution_count": 2,
   "metadata": {},
   "outputs": [
    {
     "name": "stderr",
     "output_type": "stream",
     "text": [
      " 75%|          | 0/4 [00:00:00<?, ?it/s]███████   | 3/4 [00:00:00<00:00:00, 1624.81it/s] [dev:93.3%]\n"
     ]
    },
    {
     "data": {
      "text/html": [
       "<p style=\"color:red; font-weight:bold;\"> Warning: The following regularization strengths were removed: [0.01]</p>"
      ],
      "text/plain": [
       "<IPython.core.display.HTML object>"
      ]
     },
     "metadata": {},
     "output_type": "display_data"
    }
   ],
   "source": [
    "X, y = simulate_gaussian_data(n=1000, p=100)\n",
    "gaussian_fit = fit_unilasso(X, \n",
    "                            y, \n",
    "                            family = 'gaussian',\n",
    "                            lmdas = [0.01, 0.02, 0.1, 0.2] # Regularization parameters for Lasso\n",
    "                            )"
   ]
  },
  {
   "cell_type": "markdown",
   "metadata": {},
   "source": [
    "We should print out the regularization path to see for which parameters the `UniLasso` model was run."
   ]
  },
  {
   "cell_type": "code",
   "execution_count": 3,
   "metadata": {},
   "outputs": [
    {
     "name": "stdout",
     "output_type": "stream",
     "text": [
      "[0.01 0.02 0.1 ]\n"
     ]
    }
   ],
   "source": [
    "print(gaussian_fit.lmdas)"
   ]
  },
  {
   "cell_type": "markdown",
   "metadata": {},
   "source": [
    "Now, we can extract the returned coefficients and intercepts and print their shapes."
   ]
  },
  {
   "cell_type": "code",
   "execution_count": 4,
   "metadata": {},
   "outputs": [
    {
     "name": "stdout",
     "output_type": "stream",
     "text": [
      "(3, 100)\n",
      "(3,)\n"
     ]
    }
   ],
   "source": [
    "coef, intercept = gaussian_fit.coef, gaussian_fit.intercept\n",
    "\n",
    "print(coef.shape)\n",
    "print(intercept.shape)"
   ]
  },
  {
   "cell_type": "markdown",
   "metadata": {},
   "source": [
    "`coef[0, :]` correpsonds to the coefficients for $\\lambda = 0.02$."
   ]
  },
  {
   "cell_type": "code",
   "execution_count": 5,
   "metadata": {},
   "outputs": [
    {
     "data": {
      "text/plain": [
       "array([ 1.02291925, -0.57393933,  0.93555354,  0.11249082, -0.        ,\n",
       "       -0.        ,  0.42237449, -0.97028365,  0.9165355 , -0.33550419,\n",
       "       -0.74400091,  1.00129123, -0.23022002, -0.13277874, -0.51213279,\n",
       "        0.85625599,  0.85421885, -0.76792069, -0.        , -0.59840574,\n",
       "       -0.86390493, -0.27671422, -0.        , -1.10319336, -1.04428148,\n",
       "        0.10936006, -0.        ,  0.27283678,  0.01544786,  0.88385198,\n",
       "       -0.42806766, -0.        ,  0.17150333, -0.77076165,  0.31051994,\n",
       "       -0.41930026,  0.60421119,  0.        , -1.02125794,  0.85236157,\n",
       "       -1.02093814,  0.52224106, -0.66456143,  0.80469988, -0.64254974,\n",
       "       -1.00196925,  0.76156285, -0.        , -0.64223529, -0.75614849,\n",
       "        0.12309637, -0.7591614 , -0.15830568, -0.        ,  0.        ,\n",
       "        0.84608368, -0.01100525,  0.81839919,  0.82886863,  0.        ,\n",
       "        0.98354154, -0.16360106,  0.67654108, -0.        , -0.56502571,\n",
       "        0.58818873,  1.02347167,  0.        , -0.52915668,  0.64309101,\n",
       "        0.        , -0.55175547,  0.92973878, -0.        ,  0.10452438,\n",
       "       -1.10384615, -0.77636549,  0.97538006,  0.        ,  0.        ,\n",
       "       -0.50454631,  0.        ,  0.7782079 ,  0.49915424, -0.73649619,\n",
       "       -1.03464707, -0.43810432,  1.00605685, -0.53573878,  0.4010923 ,\n",
       "        0.00551465,  0.51410498,  1.05029311,  0.49746811, -0.        ,\n",
       "        0.25981822, -0.13020664,  0.52354259,  0.44498902, -0.81591452])"
      ]
     },
     "execution_count": 5,
     "metadata": {},
     "output_type": "execute_result"
    }
   ],
   "source": [
    "coef[0, ]"
   ]
  },
  {
   "cell_type": "markdown",
   "metadata": {},
   "source": [
    "### Predict on new data"
   ]
  },
  {
   "cell_type": "markdown",
   "metadata": {},
   "source": [
    "To get predictions, we call `predict`:"
   ]
  },
  {
   "cell_type": "code",
   "execution_count": 6,
   "metadata": {},
   "outputs": [
    {
     "name": "stdout",
     "output_type": "stream",
     "text": [
      "(1000, 3)\n"
     ]
    }
   ],
   "source": [
    "y_hat = predict(X, gaussian_fit)\n",
    "print(y_hat.shape)"
   ]
  },
  {
   "cell_type": "markdown",
   "metadata": {},
   "source": [
    "We can also call `predict` for a specific index of $\\lambda$:"
   ]
  },
  {
   "cell_type": "code",
   "execution_count": 7,
   "metadata": {},
   "outputs": [
    {
     "name": "stdout",
     "output_type": "stream",
     "text": [
      "(1000,)\n"
     ]
    }
   ],
   "source": [
    "y_hat_lmda_1 = predict(X, gaussian_fit, lmda_idx = 1)\n",
    "print(y_hat_lmda_1.shape)"
   ]
  },
  {
   "cell_type": "markdown",
   "metadata": {},
   "source": [
    "### One regularization parameter"
   ]
  },
  {
   "cell_type": "markdown",
   "metadata": {},
   "source": [
    "We can also input only one regularization parameter:"
   ]
  },
  {
   "cell_type": "code",
   "execution_count": 8,
   "metadata": {},
   "outputs": [
    {
     "name": "stderr",
     "output_type": "stream",
     "text": [
      "100%|          | 0/1 [00:00:00<?, ?it/s]██████████| 1/1 [00:00:00<00:00:00, 1002.21it/s] [dev:71.2%]██████████| 1/1 [00:00:00<00:00:00, 239.06it/s] [dev:71.2%] \n"
     ]
    },
    {
     "ename": "AxisError",
     "evalue": "axis 1 is out of bounds for array of dimension 1",
     "output_type": "error",
     "traceback": [
      "\u001b[0;31m---------------------------------------------------------------------------\u001b[0m",
      "\u001b[0;31mAxisError\u001b[0m                                 Traceback (most recent call last)",
      "Cell \u001b[0;32mIn[8], line 1\u001b[0m\n\u001b[0;32m----> 1\u001b[0m gaussian_fit_one_lmda \u001b[38;5;241m=\u001b[39m \u001b[43mfit_unilasso\u001b[49m\u001b[43m(\u001b[49m\u001b[43mX\u001b[49m\u001b[43m,\u001b[49m\u001b[43m \u001b[49m\u001b[43my\u001b[49m\u001b[43m,\u001b[49m\u001b[43m \u001b[49m\u001b[43mfamily\u001b[49m\u001b[43m \u001b[49m\u001b[38;5;241;43m=\u001b[39;49m\u001b[43m \u001b[49m\u001b[38;5;124;43m'\u001b[39;49m\u001b[38;5;124;43mgaussian\u001b[39;49m\u001b[38;5;124;43m'\u001b[39;49m\u001b[43m,\u001b[49m\u001b[43m \u001b[49m\u001b[43mlmdas\u001b[49m\u001b[43m \u001b[49m\u001b[38;5;241;43m=\u001b[39;49m\u001b[43m \u001b[49m\u001b[38;5;241;43m0.2\u001b[39;49m\u001b[43m,\u001b[49m\u001b[43m \u001b[49m\u001b[43mverbose\u001b[49m\u001b[43m \u001b[49m\u001b[38;5;241;43m=\u001b[39;49m\u001b[43m \u001b[49m\u001b[38;5;28;43;01mTrue\u001b[39;49;00m\u001b[43m)\u001b[49m\n",
      "File \u001b[0;32m~/Desktop/uni-lasso/unilasso/uni_lasso.py:566\u001b[0m, in \u001b[0;36mfit_unilasso\u001b[0;34m(X, y, family, lmdas, verbose)\u001b[0m\n\u001b[1;32m    557\u001b[0m gamma_hat, gamma_0, beta_coefs \u001b[38;5;241m=\u001b[39m _format_output(lasso_model,\n\u001b[1;32m    558\u001b[0m                                                 beta_coefs_fit,\n\u001b[1;32m    559\u001b[0m                                                 beta_intercepts,\n\u001b[0;32m   (...)\u001b[0m\n\u001b[1;32m    562\u001b[0m                                                 fit_intercept,\n\u001b[1;32m    563\u001b[0m                                                 reverse_indices)\n\u001b[1;32m    565\u001b[0m \u001b[38;5;28;01mif\u001b[39;00m verbose:\n\u001b[0;32m--> 566\u001b[0m     \u001b[43m_print_unilasso_results\u001b[49m\u001b[43m(\u001b[49m\u001b[43mgamma_hat\u001b[49m\u001b[43m,\u001b[49m\u001b[43m \u001b[49m\u001b[43mlmdas\u001b[49m\u001b[43m)\u001b[49m\n\u001b[1;32m    568\u001b[0m unilasso_result \u001b[38;5;241m=\u001b[39m UniLassoResult(\n\u001b[1;32m    569\u001b[0m     coef\u001b[38;5;241m=\u001b[39mgamma_hat,\n\u001b[1;32m    570\u001b[0m     intercept\u001b[38;5;241m=\u001b[39mgamma_0,\n\u001b[0;32m   (...)\u001b[0m\n\u001b[1;32m    577\u001b[0m     lmdas\u001b[38;5;241m=\u001b[39mlmdas\n\u001b[1;32m    578\u001b[0m )\n\u001b[1;32m    580\u001b[0m \u001b[38;5;28;01mreturn\u001b[39;00m unilasso_result\n",
      "File \u001b[0;32m~/Desktop/uni-lasso/unilasso/uni_lasso.py:371\u001b[0m, in \u001b[0;36m_print_unilasso_results\u001b[0;34m(theta_hat, lmdas, best_idx)\u001b[0m\n\u001b[1;32m    365\u001b[0m \u001b[38;5;28;01mdef\u001b[39;00m\u001b[38;5;250m \u001b[39m\u001b[38;5;21m_print_unilasso_results\u001b[39m(\n\u001b[1;32m    366\u001b[0m             theta_hat: np\u001b[38;5;241m.\u001b[39mndarray, \n\u001b[1;32m    367\u001b[0m             lmdas: np\u001b[38;5;241m.\u001b[39mndarray, \n\u001b[1;32m    368\u001b[0m             best_idx: Optional[\u001b[38;5;28mint\u001b[39m] \u001b[38;5;241m=\u001b[39m \u001b[38;5;28;01mNone\u001b[39;00m\n\u001b[1;32m    369\u001b[0m ) \u001b[38;5;241m-\u001b[39m\u001b[38;5;241m>\u001b[39m \u001b[38;5;28;01mNone\u001b[39;00m:\n\u001b[1;32m    370\u001b[0m \u001b[38;5;250m    \u001b[39m\u001b[38;5;124;03m\"\"\"Print UniLasso results.\"\"\"\u001b[39;00m\n\u001b[0;32m--> 371\u001b[0m     num_selected \u001b[38;5;241m=\u001b[39m \u001b[43mnp\u001b[49m\u001b[38;5;241;43m.\u001b[39;49m\u001b[43msum\u001b[49m\u001b[43m(\u001b[49m\u001b[43mtheta_hat\u001b[49m\u001b[43m \u001b[49m\u001b[38;5;241;43m!=\u001b[39;49m\u001b[43m \u001b[49m\u001b[38;5;241;43m0\u001b[39;49m\u001b[43m,\u001b[49m\u001b[43m \u001b[49m\u001b[43maxis\u001b[49m\u001b[38;5;241;43m=\u001b[39;49m\u001b[38;5;241;43m1\u001b[39;49m\u001b[43m)\u001b[49m\n\u001b[1;32m    373\u001b[0m     \u001b[38;5;66;03m# check if interactive environment\u001b[39;00m\n\u001b[1;32m    374\u001b[0m     \u001b[38;5;28;01mtry\u001b[39;00m:\n",
      "File \u001b[0;32m~/Desktop/uni-lasso/test_env/lib/python3.9/site-packages/numpy/core/fromnumeric.py:2313\u001b[0m, in \u001b[0;36msum\u001b[0;34m(a, axis, dtype, out, keepdims, initial, where)\u001b[0m\n\u001b[1;32m   2310\u001b[0m         \u001b[38;5;28;01mreturn\u001b[39;00m out\n\u001b[1;32m   2311\u001b[0m     \u001b[38;5;28;01mreturn\u001b[39;00m res\n\u001b[0;32m-> 2313\u001b[0m \u001b[38;5;28;01mreturn\u001b[39;00m \u001b[43m_wrapreduction\u001b[49m\u001b[43m(\u001b[49m\u001b[43ma\u001b[49m\u001b[43m,\u001b[49m\u001b[43m \u001b[49m\u001b[43mnp\u001b[49m\u001b[38;5;241;43m.\u001b[39;49m\u001b[43madd\u001b[49m\u001b[43m,\u001b[49m\u001b[43m \u001b[49m\u001b[38;5;124;43m'\u001b[39;49m\u001b[38;5;124;43msum\u001b[39;49m\u001b[38;5;124;43m'\u001b[39;49m\u001b[43m,\u001b[49m\u001b[43m \u001b[49m\u001b[43maxis\u001b[49m\u001b[43m,\u001b[49m\u001b[43m \u001b[49m\u001b[43mdtype\u001b[49m\u001b[43m,\u001b[49m\u001b[43m \u001b[49m\u001b[43mout\u001b[49m\u001b[43m,\u001b[49m\u001b[43m \u001b[49m\u001b[43mkeepdims\u001b[49m\u001b[38;5;241;43m=\u001b[39;49m\u001b[43mkeepdims\u001b[49m\u001b[43m,\u001b[49m\n\u001b[1;32m   2314\u001b[0m \u001b[43m                      \u001b[49m\u001b[43minitial\u001b[49m\u001b[38;5;241;43m=\u001b[39;49m\u001b[43minitial\u001b[49m\u001b[43m,\u001b[49m\u001b[43m \u001b[49m\u001b[43mwhere\u001b[49m\u001b[38;5;241;43m=\u001b[39;49m\u001b[43mwhere\u001b[49m\u001b[43m)\u001b[49m\n",
      "File \u001b[0;32m~/Desktop/uni-lasso/test_env/lib/python3.9/site-packages/numpy/core/fromnumeric.py:88\u001b[0m, in \u001b[0;36m_wrapreduction\u001b[0;34m(obj, ufunc, method, axis, dtype, out, **kwargs)\u001b[0m\n\u001b[1;32m     85\u001b[0m         \u001b[38;5;28;01melse\u001b[39;00m:\n\u001b[1;32m     86\u001b[0m             \u001b[38;5;28;01mreturn\u001b[39;00m reduction(axis\u001b[38;5;241m=\u001b[39maxis, out\u001b[38;5;241m=\u001b[39mout, \u001b[38;5;241m*\u001b[39m\u001b[38;5;241m*\u001b[39mpasskwargs)\n\u001b[0;32m---> 88\u001b[0m \u001b[38;5;28;01mreturn\u001b[39;00m \u001b[43mufunc\u001b[49m\u001b[38;5;241;43m.\u001b[39;49m\u001b[43mreduce\u001b[49m\u001b[43m(\u001b[49m\u001b[43mobj\u001b[49m\u001b[43m,\u001b[49m\u001b[43m \u001b[49m\u001b[43maxis\u001b[49m\u001b[43m,\u001b[49m\u001b[43m \u001b[49m\u001b[43mdtype\u001b[49m\u001b[43m,\u001b[49m\u001b[43m \u001b[49m\u001b[43mout\u001b[49m\u001b[43m,\u001b[49m\u001b[43m \u001b[49m\u001b[38;5;241;43m*\u001b[39;49m\u001b[38;5;241;43m*\u001b[39;49m\u001b[43mpasskwargs\u001b[49m\u001b[43m)\u001b[49m\n",
      "\u001b[0;31mAxisError\u001b[0m: axis 1 is out of bounds for array of dimension 1"
     ]
    }
   ],
   "source": [
    "gaussian_fit_one_lmda = fit_unilasso(X, y, family = 'gaussian', lmdas = 0.2, verbose = True)"
   ]
  },
  {
   "cell_type": "markdown",
   "metadata": {},
   "source": [
    "## Logistic Regression Example"
   ]
  },
  {
   "cell_type": "markdown",
   "metadata": {},
   "source": [
    "Now we run an example logistic regression model using `UniLasso`. We set `verbose = True` to print out some summary information of the model."
   ]
  },
  {
   "cell_type": "code",
   "execution_count": 9,
   "metadata": {},
   "outputs": [
    {
     "name": "stderr",
     "output_type": "stream",
     "text": [
      "100%|          | 0/1 [00:00:00<?, ?it/s]██████████| 1/1 [00:00:00<00:00:00, 46.33it/s] [dev:1.9%]██████████| 1/1 [00:00:00<00:00:00, 28.59it/s] [dev:1.9%]\n",
      "100%|          | 0/1 [00:00:00<?, ?it/s]██████████| 1/1 [00:00:00<00:00:00, 995.31it/s] [dev:0.9%]██████████| 1/1 [00:00:00<00:00:00, 106.65it/s] [dev:0.9%]\n",
      "100%|          | 0/1 [00:00:00<?, ?it/s]██████████| 1/1 [00:00:00<00:00:00, 1152.63it/s] [dev:3.0%]██████████| 1/1 [00:00:00<00:00:00, 164.21it/s] [dev:3.0%] \n",
      "100%|          | 0/1 [00:00:00<?, ?it/s]██████████| 1/1 [00:00:00<00:00:00, 887.02it/s] [dev:6.8%]██████████| 1/1 [00:00:00<00:00:00, 163.16it/s] [dev:6.8%]\n",
      "100%|          | 0/1 [00:00:00<?, ?it/s]██████████| 1/1 [00:00:00<00:00:00, 1557.83it/s] [dev:0.4%]██████████| 1/1 [00:00:00<00:00:00, 194.19it/s] [dev:0.4%] \n",
      "100%|          | 0/1 [00:00:00<?, ?it/s]██████████| 1/1 [00:00:00<00:00:00, 958.47it/s] [dev:5.0%]██████████| 1/1 [00:00:00<00:00:00, 170.27it/s] [dev:5.0%]\n",
      "100%|          | 0/1 [00:00:00<?, ?it/s]██████████| 1/1 [00:00:00<00:00:00, 1448.84it/s] [dev:0.6%]██████████| 1/1 [00:00:00<00:00:00, 178.83it/s] [dev:0.6%] \n",
      "100%|          | 0/1 [00:00:00<?, ?it/s]██████████| 1/1 [00:00:00<00:00:00, 1174.05it/s] [dev:2.0%]██████████| 1/1 [00:00:00<00:00:00, 183.84it/s] [dev:2.0%] \n",
      "100%|          | 0/1 [00:00:00<?, ?it/s]██████████| 1/1 [00:00:00<00:00:00, 1263.96it/s] [dev:7.2%]██████████| 1/1 [00:00:00<00:00:00, 195.96it/s] [dev:7.2%] \n",
      "100%|          | 0/1 [00:00:00<?, ?it/s]██████████| 1/1 [00:00:00<00:00:00, 1307.40it/s] [dev:0.0%]██████████| 1/1 [00:00:00<00:00:00, 174.65it/s] [dev:0.0%] \n",
      "100%|          | 0/4 [00:00:00<?, ?it/s]██████████| 4/4 [00:00:00<00:00:00, 2394.97it/s] [dev:26.8%]██████████| 4/4 [00:00:00<00:00:00, 557.28it/s] [dev:26.8%] \n"
     ]
    },
    {
     "data": {
      "text/html": [
       "\n",
       "\n",
       "<b> --- UniLasso Results --- </b>"
      ],
      "text/plain": [
       "<IPython.core.display.HTML object>"
      ]
     },
     "metadata": {},
     "output_type": "display_data"
    },
    {
     "name": "stdout",
     "output_type": "stream",
     "text": [
      "Number of Selected Features: [7 6 1 0]\n",
      "Regularization path (rounded to 3 decimal places): [0.01 0.02 0.1  0.2 ]\n"
     ]
    }
   ],
   "source": [
    "X, y = simulate_binomial_data(n=1000, p=10)\n",
    "\n",
    "binomial_fit = fit_unilasso(X,\n",
    "                            y,\n",
    "                            family = 'binomial',\n",
    "                            lmdas = [0.01, 0.02, 0.1, 0.2], # Regularization parameters for Lasso\n",
    "                            verbose = True\n",
    "                            )"
   ]
  },
  {
   "cell_type": "code",
   "execution_count": 10,
   "metadata": {},
   "outputs": [
    {
     "data": {
      "text/plain": [
       "array([0.01, 0.02, 0.1 , 0.2 ])"
      ]
     },
     "execution_count": 10,
     "metadata": {},
     "output_type": "execute_result"
    }
   ],
   "source": [
    "binomial_fit.lmdas"
   ]
  },
  {
   "cell_type": "markdown",
   "metadata": {},
   "source": [
    "## Survival Analysis Example"
   ]
  },
  {
   "cell_type": "code",
   "execution_count": 11,
   "metadata": {},
   "outputs": [
    {
     "name": "stderr",
     "output_type": "stream",
     "text": [
      "100%|          | 0/1 [00:00:00<?, ?it/s]██████████| 1/1 [00:00:00<00:00:00, 75.89it/s] [dev:0.5%]██████████| 1/1 [00:00:00<00:00:00, 25.45it/s] [dev:0.5%]\n",
      "100%|          | 0/1 [00:00:00<?, ?it/s]██████████| 1/1 [00:00:00<00:00:00, 516.11it/s] [dev:0.4%]██████████| 1/1 [00:00:00<00:00:00, 98.61it/s] [dev:0.4%] \n",
      "100%|          | 0/1 [00:00:00<?, ?it/s]██████████| 1/1 [00:00:00<00:00:00, 1013.04it/s] [dev:0.7%]██████████| 1/1 [00:00:00<00:00:00, 169.20it/s] [dev:0.7%] \n",
      "100%|          | 0/1 [00:00:00<?, ?it/s]██████████| 1/1 [00:00:00<00:00:00, 666.17it/s] [dev:2.4%]██████████| 1/1 [00:00:00<00:00:00, 174.28it/s] [dev:2.4%]\n",
      "100%|          | 0/1 [00:00:00<?, ?it/s]██████████| 1/1 [00:00:00<00:00:00, 919.36it/s] [dev:2.1%]██████████| 1/1 [00:00:00<00:00:00, 155.28it/s] [dev:2.1%]\n",
      "100%|          | 0/1 [00:00:00<?, ?it/s]██████████| 1/1 [00:00:00<00:00:00, 829.10it/s] [dev:0.6%]██████████| 1/1 [00:00:00<00:00:00, 175.92it/s] [dev:0.6%]\n",
      "100%|          | 0/1 [00:00:00<?, ?it/s]██████████| 1/1 [00:00:00<00:00:00, 820.57it/s] [dev:0.6%]██████████| 1/1 [00:00:00<00:00:00, 149.05it/s] [dev:0.6%]\n",
      "100%|          | 0/1 [00:00:00<?, ?it/s]██████████| 1/1 [00:00:00<00:00:00, 857.85it/s] [dev:0.0%]██████████| 1/1 [00:00:00<00:00:00, 168.30it/s] [dev:0.0%]\n",
      "100%|          | 0/1 [00:00:00<?, ?it/s]██████████| 1/1 [00:00:00<00:00:00, 878.57it/s] [dev:0.0%]██████████| 1/1 [00:00:00<00:00:00, 167.10it/s] [dev:0.0%]\n",
      "100%|          | 0/1 [00:00:00<?, ?it/s]██████████| 1/1 [00:00:00<00:00:00, 933.42it/s] [dev:0.0%]██████████| 1/1 [00:00:00<00:00:00, 169.89it/s] [dev:0.0%]\n",
      "100%|          | 0/4 [00:00:00<?, ?it/s]██████████| 4/4 [00:00:00<00:00:00, 860.60it/s] [dev:11.2%]██████████| 4/4 [00:00:00<00:00:00, 156.81it/s] [dev:11.2%]\n"
     ]
    },
    {
     "data": {
      "text/html": [
       "\n",
       "\n",
       "<b> --- UniLasso Results --- </b>"
      ],
      "text/plain": [
       "<IPython.core.display.HTML object>"
      ]
     },
     "metadata": {},
     "output_type": "display_data"
    },
    {
     "name": "stdout",
     "output_type": "stream",
     "text": [
      "Number of Selected Features: [7 7 2 0]\n",
      "Regularization path (rounded to 3 decimal places): [0.01 0.02 0.1  0.2 ]\n"
     ]
    }
   ],
   "source": [
    "X, y = simulate_cox_data(n=1000, p=10)\n",
    "\n",
    "cox_fit = fit_unilasso(X,\n",
    "                       y,\n",
    "                       family = 'cox',\n",
    "                       lmdas = [0.01, 0.02, 0.1, 0.2], # Regularization parameters for Lasso\n",
    "                       verbose = True\n",
    "                       )"
   ]
  },
  {
   "cell_type": "markdown",
   "metadata": {},
   "source": [
    "# Cross-validated `UniLasso`"
   ]
  },
  {
   "cell_type": "markdown",
   "metadata": {},
   "source": [
    "If we don't have a prespecified list of regularization path or regularization parameter, we can perform cross-validation to select a penalization parameter for us. We again begin by simulating some Gaussian data."
   ]
  },
  {
   "cell_type": "code",
   "execution_count": 12,
   "metadata": {},
   "outputs": [],
   "source": [
    "X, y = simulate_gaussian_data(n=1000, p=10)"
   ]
  },
  {
   "cell_type": "code",
   "execution_count": 13,
   "metadata": {},
   "outputs": [
    {
     "name": "stderr",
     "output_type": "stream",
     "text": [
      "100%|          | 0/100 [00:00:00<?, ?it/s]██████████| 100/100 [00:00:00<00:00:00, 45879.45it/s] [dev:81.4%]██████████| 100/100 [00:00:00<00:00:00, 20491.28it/s] [dev:81.4%]\n",
      "100%|          | 0/101 [00:00:00<?, ?it/s]██████████| 101/101 [00:00:00<00:00:00, 52510.71it/s] [dev:80.2%]██████████| 101/101 [00:00:00<00:00:00, 22791.38it/s] [dev:80.2%]\n",
      "100%|          | 0/101 [00:00:00<?, ?it/s]██████████| 101/101 [00:00:00<00:00:00, 49624.33it/s] [dev:80.0%]██████████| 101/101 [00:00:00<00:00:00, 23919.72it/s] [dev:80.0%]\n",
      "100%|          | 0/100 [00:00:00<?, ?it/s]██████████| 100/100 [00:00:00<00:00:00, 50650.02it/s] [dev:80.4%]██████████| 100/100 [00:00:00<00:00:00, 24292.73it/s] [dev:80.4%]\n",
      "100%|          | 0/101 [00:00:00<?, ?it/s]██████████| 101/101 [00:00:00<00:00:00, 57462.53it/s] [dev:80.8%]██████████| 101/101 [00:00:00<00:00:00, 26427.68it/s] [dev:80.8%]\n",
      "100%|          | 0/100 [00:00:00<?, ?it/s]██████████| 100/100 [00:00:00<00:00:00, 48397.81it/s] [dev:80.5%]██████████| 100/100 [00:00:00<00:00:00, 23209.48it/s] [dev:80.5%]\n"
     ]
    },
    {
     "data": {
      "text/html": [
       "\n",
       "\n",
       "<b> --- UniLasso Results --- </b>"
      ],
      "text/plain": [
       "<IPython.core.display.HTML object>"
      ]
     },
     "metadata": {},
     "output_type": "display_data"
    },
    {
     "name": "stdout",
     "output_type": "stream",
     "text": [
      "Number of Selected Features: [ 0  2  2  3  3  3  4  5  5  5  5  5  5  5  5  6  6  6  6  7  7  7  7  7\n",
      "  7  7  7  7  7  7  7  7  7  8  8  9  9  9  9  9  9  9  9  9  9  9  9  9\n",
      "  9  9  9  9 10 10 10 10 10 10 10 10 10 10 10 10 10 10 10 10 10 10 10 10\n",
      " 10 10 10 10 10 10 10 10 10 10 10 10 10 10 10 10 10 10 10 10 10 10 10 10\n",
      " 10 10 10 10]\n",
      "Regularization path (rounded to 3 decimal places): [0.873 0.795 0.725 0.66  0.602 0.548 0.499 0.455 0.415 0.378 0.344 0.314\n",
      " 0.286 0.26  0.237 0.216 0.197 0.179 0.164 0.149 0.136 0.124 0.113 0.103\n",
      " 0.094 0.085 0.078 0.071 0.065 0.059 0.054 0.049 0.044 0.041 0.037 0.034\n",
      " 0.031 0.028 0.025 0.023 0.021 0.019 0.018 0.016 0.015 0.013 0.012 0.011\n",
      " 0.01  0.009 0.008 0.008 0.007 0.006 0.006 0.005 0.005 0.004 0.004 0.004\n",
      " 0.003 0.003 0.003 0.002 0.002 0.002 0.002 0.002 0.002 0.001 0.001 0.001\n",
      " 0.001 0.001 0.001 0.001 0.001 0.001 0.001 0.001 0.001 0.    0.    0.\n",
      " 0.    0.    0.    0.    0.    0.    0.    0.    0.    0.    0.    0.\n",
      " 0.    0.    0.    0.   ]\n",
      "Best Regularization Parameter: 0.0002428393673407674\n"
     ]
    }
   ],
   "source": [
    "cv_fit = cv_unilasso(X,\n",
    "                     y,\n",
    "                     family = 'gaussian',\n",
    "                     verbose = True\n",
    "                     )"
   ]
  },
  {
   "cell_type": "markdown",
   "metadata": {},
   "source": [
    "Now, we can extract the best $\\lambda$."
   ]
  },
  {
   "cell_type": "code",
   "execution_count": 14,
   "metadata": {},
   "outputs": [
    {
     "name": "stdout",
     "output_type": "stream",
     "text": [
      "0.0002428393673407674\n"
     ]
    }
   ],
   "source": [
    "best_lmda = cv_fit.best_lmda\n",
    "print(best_lmda)"
   ]
  },
  {
   "cell_type": "code",
   "execution_count": 15,
   "metadata": {},
   "outputs": [
    {
     "data": {
      "text/plain": [
       "array([0.9754776 , 1.09144781, 1.04616067, 0.93926579, 1.10510236,\n",
       "       0.88946728, 0.81583388, 0.36892754, 1.04687051, 1.02893568])"
      ]
     },
     "execution_count": 15,
     "metadata": {},
     "output_type": "execute_result"
    }
   ],
   "source": [
    "cv_fit.lasso_model.betas.toarray()[cv_fit.best_idx]"
   ]
  },
  {
   "cell_type": "markdown",
   "metadata": {},
   "source": [
    "We can also extract the coefficients and intercept corresponding to the best model as follows:"
   ]
  },
  {
   "cell_type": "code",
   "execution_count": 16,
   "metadata": {},
   "outputs": [
    {
     "name": "stdout",
     "output_type": "stream",
     "text": [
      "0.03300607037788944\n"
     ]
    }
   ],
   "source": [
    "best_coef, best_intercept = cv_fit.coef[cv_fit.best_idx, ], cv_fit.intercept[cv_fit.best_idx]\n",
    "\n",
    "print(best_intercept)"
   ]
  },
  {
   "cell_type": "markdown",
   "metadata": {},
   "source": [
    "Let's visualize the average CV loss."
   ]
  },
  {
   "cell_type": "code",
   "execution_count": 17,
   "metadata": {},
   "outputs": [
    {
     "data": {
      "text/plain": [
       "(<Figure size 900x600 with 1 Axes>,\n",
       " <Axes: title={'center': 'K-Fold CV Mean Loss'}, xlabel='$-\\\\log(\\\\lambda)$', ylabel='Mean Loss'>)"
      ]
     },
     "execution_count": 17,
     "metadata": {},
     "output_type": "execute_result"
    },
    {
     "data": {
      "image/png": "[encoded data removed]",
      "text/plain": [
       "<Figure size 900x600 with 1 Axes>"
      ]
     },
     "metadata": {},
     "output_type": "display_data"
    }
   ],
   "source": [
    "cv_fit.cv_plot()"
   ]
  },
  {
   "cell_type": "markdown",
   "metadata": {},
   "source": [
    "## Features with zero variance will be removed automatically"
   ]
  },
  {
   "cell_type": "markdown",
   "metadata": {},
   "source": [
    "If any column of our input data has zero variance, it will be removed by default."
   ]
  },
  {
   "cell_type": "code",
   "execution_count": 18,
   "metadata": {},
   "outputs": [
    {
     "data": {
      "text/html": [
       "<p style=\"color:red; font-weight:bold;\"> 1 out of 10 features have zero variance and will be removed.</p>"
      ],
      "text/plain": [
       "<IPython.core.display.HTML object>"
      ]
     },
     "metadata": {},
     "output_type": "display_data"
    },
    {
     "name": "stderr",
     "output_type": "stream",
     "text": [
      "100%|          | 0/1 [00:00:00<?, ?it/s]██████████| 1/1 [00:00:00<00:00:00, 170.70it/s] [dev:0.7%]██████████| 1/1 [00:00:00<00:00:00, 44.61it/s] [dev:0.7%] \n",
      "100%|          | 0/1 [00:00:00<?, ?it/s]██████████| 1/1 [00:00:00<00:00:00, 2540.22it/s] [dev:0.7%]██████████| 1/1 [00:00:00<00:00:00, 230.59it/s] [dev:0.7%] \n",
      "100%|          | 0/1 [00:00:00<?, ?it/s]██████████| 1/1 [00:00:00<00:00:00, 2223.87it/s] [dev:1.2%]██████████| 1/1 [00:00:00<00:00:00, 195.66it/s] [dev:1.2%] \n",
      "100%|          | 0/1 [00:00:00<?, ?it/s]██████████| 1/1 [00:00:00<00:00:00, 940.03it/s] [dev:7.6%]██████████| 1/1 [00:00:00<00:00:00, 213.71it/s] [dev:7.6%]\n",
      "100%|          | 0/1 [00:00:00<?, ?it/s]██████████| 1/1 [00:00:00<00:00:00, 2586.77it/s] [dev:1.0%]██████████| 1/1 [00:00:00<00:00:00, 286.01it/s] [dev:1.0%] \n",
      "100%|          | 0/1 [00:00:00<?, ?it/s]██████████| 1/1 [00:00:00<00:00:00, 1272.40it/s] [dev:0.3%]██████████| 1/1 [00:00:00<00:00:00, 277.67it/s] [dev:0.3%] \n",
      "100%|          | 0/1 [00:00:00<?, ?it/s]██████████| 1/1 [00:00:00<00:00:00, 1880.29it/s] [dev:7.0%]██████████| 1/1 [00:00:00<00:00:00, 281.00it/s] [dev:7.0%] \n",
      "100%|          | 0/1 [00:00:00<?, ?it/s]██████████| 1/1 [00:00:00<00:00:00, 2777.78it/s] [dev:0.0%]██████████| 1/1 [00:00:00<00:00:00, 257.85it/s] [dev:0.0%] \n",
      "100%|          | 0/1 [00:00:00<?, ?it/s]██████████| 1/1 [00:00:00<00:00:00, 1576.46it/s] [dev:2.9%]██████████| 1/1 [00:00:00<00:00:00, 154.73it/s] [dev:2.9%] \n",
      "100%|          | 0/4 [00:00:00<?, ?it/s]██████████| 4/4 [00:00:00<00:00:00, 4955.09it/s] [dev:19.0%]██████████| 4/4 [00:00:00<00:00:00, 608.69it/s] [dev:19.0%] \n"
     ]
    },
    {
     "data": {
      "text/html": [
       "\n",
       "\n",
       "<b> --- UniLasso Results --- </b>"
      ],
      "text/plain": [
       "<IPython.core.display.HTML object>"
      ]
     },
     "metadata": {},
     "output_type": "display_data"
    },
    {
     "name": "stdout",
     "output_type": "stream",
     "text": [
      "Number of Selected Features: [5 3 1 0]\n",
      "Regularization path (rounded to 3 decimal places): [0.01 0.02 0.1  0.2 ]\n"
     ]
    }
   ],
   "source": [
    "X, y = simulate_binomial_data(n=1000, p=10)\n",
    "\n",
    "# Make the first column zero variance\n",
    "X[:, 0] = 1\n",
    "zero_var_fit = fit_unilasso(X,\n",
    "                            y,\n",
    "                            family = 'binomial',\n",
    "                            lmdas = [0.01, 0.02, 0.1, 0.2], \n",
    "                            verbose = True\n",
    "                            )"
   ]
  },
  {
   "cell_type": "markdown",
   "metadata": {},
   "source": [
    "Note that the corresponding coefficient for the first column is 0 across regularization parameters."
   ]
  },
  {
   "cell_type": "code",
   "execution_count": 19,
   "metadata": {},
   "outputs": [
    {
     "name": "stdout",
     "output_type": "stream",
     "text": [
      "[0. 0. 0. 0.]\n"
     ]
    }
   ],
   "source": [
    "print(zero_var_fit.coef[:, 0])"
   ]
  }
 ],
 "metadata": {
  "kernelspec": {
   "display_name": "test_env",
   "language": "python",
   "name": "python3"
  },
  "language_info": {
   "codemirror_mode": {
    "name": "ipython",
    "version": 3
   },
   "file_extension": ".py",
   "mimetype": "text/x-python",
   "name": "python",
   "nbconvert_exporter": "python",
   "pygments_lexer": "ipython3",
   "version": "3.9.13"
  }
 },
 "nbformat": 4,
 "nbformat_minor": 2
}
